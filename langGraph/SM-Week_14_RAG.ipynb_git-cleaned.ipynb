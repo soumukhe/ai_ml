{
 "cells": [
  {
   "cell_type": "code",
   "execution_count": 1,
   "metadata": {
    "colab": {
     "base_uri": "https://localhost:8080/"
    },
    "executionInfo": {
     "elapsed": 23424,
     "status": "ok",
     "timestamp": 1743807495785,
     "user": {
      "displayName": "Soumitra Mukherji",
      "userId": "02267047127611459680"
     },
     "user_tz": 300
    },
    "id": "QqR5BIXobD0-",
    "outputId": "3a012cf9-c9cd-41cd-f2a3-aa6c3d277bbd"
   },
   "outputs": [
    {
     "name": "stdout",
     "output_type": "stream",
     "text": [
      "Mounted at /content/drive\n"
     ]
    }
   ],
   "source": [
    "from google.colab import drive\n",
    "drive.mount('/content/drive')"
   ]
  },
  {
   "cell_type": "code",
   "execution_count": 2,
   "metadata": {
    "colab": {
     "base_uri": "https://localhost:8080/"
    },
    "executionInfo": {
     "elapsed": 592,
     "status": "ok",
     "timestamp": 1743807503447,
     "user": {
      "displayName": "Soumitra Mukherji",
      "userId": "02267047127611459680"
     },
     "user_tz": 300
    },
    "id": "36Cj4lp2bGEZ",
    "outputId": "2e3b0db8-b577-46e4-faa7-cf2893cd1c39"
   },
   "outputs": [
    {
     "data": {
      "text/plain": [
       "['config2_emb_tested-2.json',\n",
       " 'requirements.txt',\n",
       " 'Week_14_GANLP_LVC_Handson_03_17_25.ipynb',\n",
       " 'xps-13-9340-owners-manual-en-us.pdf',\n",
       " 'dellxps_images',\n",
       " 'requirements_W14.txt',\n",
       " 'config_GANLP.json',\n",
       " 'config2_emb_tested.json',\n",
       " 'SM-Week_14_GANLP_LVC_Handson_03_17_25.ipynb',\n",
       " 'SM-Week_14_RAG.ipynb',\n",
       " 'ResearchAssistant']"
      ]
     },
     "execution_count": 2,
     "metadata": {},
     "output_type": "execute_result"
    }
   ],
   "source": [
    "import os\n",
    "os.chdir('/content/drive/MyDrive/GL-GenAI/Week14-AdvancedRag')\n",
    "os.listdir()"
   ]
  },
  {
   "cell_type": "code",
   "execution_count": null,
   "metadata": {
    "id": "vx1nw0SDg5II"
   },
   "outputs": [],
   "source": [
    "# %%writefile requirements_W14.txt\n",
    "# openai==1.55.3\n",
    "# langchain==0.2.7\n",
    "# langchain-community==0.2.7\n",
    "# langchain-huggingface==0.0.3\n",
    "# langchain-experimental==0.0.62\n",
    "# langchain-openai==0.1.14\n",
    "# chromadb==0.5.3\n",
    "# sentence-transformers==3.0.1\n",
    "# python-dotenv==1.0.1\n",
    "# lark==1.1.9\n",
    "# llama-index-core\n",
    "# llama-parse==0.5.11\n",
    "# llama-index-readers-file\n",
    "# llama-index-llms-langchain"
   ]
  },
  {
   "cell_type": "code",
   "execution_count": null,
   "metadata": {
    "colab": {
     "base_uri": "https://localhost:8080/"
    },
    "executionInfo": {
     "elapsed": 31,
     "status": "ok",
     "timestamp": 1742417945369,
     "user": {
      "displayName": "Soumitra Mukherji",
      "userId": "02267047127611459680"
     },
     "user_tz": 300
    },
    "id": "9fAkWXArD92k",
    "outputId": "ce008081-d326-48b4-889b-ae3dd5fa7997"
   },
   "outputs": [
    {
     "name": "stdout",
     "output_type": "stream",
     "text": [
      "Overwriting requirements_W14.txt\n"
     ]
    }
   ],
   "source": [
    "%%writefile requirements_W14.txt\n",
    "openai\n",
    "langchain-community\n",
    "langchain-huggingface\n",
    "langchain-experimental\n",
    "langchain-openai\n",
    "langchain_chroma\n",
    "sentence-transformers\n",
    "python-dotenv\n",
    "lark\n",
    "llama-index-core\n",
    "llama-parse\n",
    "llama-index-readers-file\n",
    "llama-index-llms-langchain\n",
    "\n",
    "#numpy<2.0.0\n",
    "transformers"
   ]
  },
  {
   "cell_type": "code",
   "execution_count": null,
   "metadata": {
    "collapsed": true,
    "id": "EGASanpzMnBQ"
   },
   "outputs": [],
   "source": [
    "!pip install -q -r requirements_W14.txt"
   ]
  },
  {
   "cell_type": "code",
   "execution_count": null,
   "metadata": {
    "colab": {
     "base_uri": "https://localhost:8080/"
    },
    "executionInfo": {
     "elapsed": 14,
     "status": "ok",
     "timestamp": 1742417959390,
     "user": {
      "displayName": "Soumitra Mukherji",
      "userId": "02267047127611459680"
     },
     "user_tz": 300
    },
    "id": "_mp9ijWvdk-S",
    "outputId": "e77cdd3a-10b2-4fcc-8e19-81a161c23107"
   },
   "outputs": [
    {
     "name": "stdout",
     "output_type": "stream",
     "text": [
      "Overwriting config_GANLP.json\n"
     ]
    }
   ],
   "source": [
    "%%writefile config_GANLP.json\n",
    "{\n",
    "\"API_KEY\": \"\",\n",
    "\"OPENAI_API_BASE\": \"\"\n",
    "}"
   ]
  },
  {
   "cell_type": "code",
   "execution_count": null,
   "metadata": {
    "colab": {
     "base_uri": "https://localhost:8080/"
    },
    "executionInfo": {
     "elapsed": 26,
     "status": "ok",
     "timestamp": 1742417960585,
     "user": {
      "displayName": "Soumitra Mukherji",
      "userId": "02267047127611459680"
     },
     "user_tz": 300
    },
    "id": "UrfJI45MegsL",
    "outputId": "994c9d45-b98e-4c43-c001-1adaab4bd0b9"
   },
   "outputs": [
    {
     "name": "stdout",
     "output_type": "stream",
     "text": [
      "Overwriting config2_emb_tested.json\n"
     ]
    }
   ],
   "source": [
    "%%writefile config2_emb_tested.json\n",
    "{\"EMB_MODEL_KEY\": \"\",\n",
    " \"EMB_DEPLOYMENT\": \"\",\n",
    " \"LLAMA_KEY\": \"\",\n",
    " \"claude_api\": \"\"\n",
    "}"
   ]
  },
  {
   "cell_type": "markdown",
   "metadata": {
    "id": "N9ulY_fKCEjB"
   },
   "source": [
    "- **CharacterTextSplitter** (from langchain.text_splitter)\n",
    "  - Splits large text documents into smaller chunks based on a fixed character size.\n",
    "  - Commonly used for chunking text before embedding it for retrieval or processing.\n",
    "\n",
    "-  **RecursiveCharacterTextSplitter** (from langchain.text_splitter)\n",
    "- A more advanced text splitter that recursively splits documents at different granularities (e.g., paragraphs, sentences) until a desired chunk size is reached.\n",
    "- Prevents breaking content in the middle of meaningful segments  \n",
    "\n",
    "- **SemanticChunker** (from langchain_experimental.text_splitter)\n",
    "- Uses embeddings to chunk text based on meaning rather than just fixed character lengths.\n",
    "- Creates more coherent and contextually relevant chunks.\n",
    "\n",
    "- **OpenAIEmbeddings** (from langchain.embeddings and langchain_openai)\n",
    "- Converts text into vector embeddings using OpenAI’s embedding models (e.g., text-embedding-ada-002).\n",
    "- Used in vector databases for similarity search\n",
    "\n",
    "- **LLMChainExtractor** (from langchain.retrievers.document_compressors)\n",
    "- Extracts the most relevant content from a document using an LLM.\n",
    "- Used for document compression in retrieval tasks.\n",
    "\n",
    "-  **ContextualCompressionRetriever** (from langchain.retrievers)\n",
    "- Compresses retrieved documents dynamically before returning them to the LLM.\n",
    "- Uses extractors like LLMChainExtractor or CrossEncoderReranker.\n",
    "\n",
    "- **CrossEncoderReranker** (from langchain.retrievers.document_compressors)\n",
    "- Uses a cross-encoder model to rank retrieved documents for relevance.\n",
    "- Improves retrieval accuracy by reranking search results.\n",
    "\n",
    "- **HuggingFaceCrossEncode** (from langchain_community.cross_encoders)\n",
    "- Provides cross-encoder models from Hugging Face for reranking retrieved documents.\n",
    "- Used with CrossEncoderReranker.\n",
    "\n",
    "**LlamaParse**  (from llama_parse)\n",
    "- A powerful PDF parser that extracts structured text from documents.\n",
    "- Handles tables, images, and layout preservation better than standard PDF parsers.\n",
    "\n",
    "**Settings and SimpleDirectoryReader** (from llama_index.core)\n",
    "- Settings: Configures LlamaIndex behavior.\n",
    "- SimpleDirectoryReader: Reads multiple documents from a directory.\n",
    "\n",
    "**Document** (from langchain_core.documents)\n",
    "- Represents a single document for retrieval, embedding, or processing.\n",
    "\n",
    "**Chroma** (from langchain_community.vectorstores)\n",
    "- A vector database for storing embeddings and performing similarity search.\n",
    "- Used in RAG (Retrieval-Augmented Generation) workflows.\n",
    "\n",
    "**AttributeInfo** (from langchain.chains.query_constructor.base)\n",
    "- Defines metadata attributes for self-query retrieval.\n",
    "- Helps LLMs understand what fields are available in a vector database.\n",
    "\n",
    "\n",
    "**SelfQueryRetriever** (from langchain.retrievers.self_query.base)\n",
    "- Allows LLMs to generate queries dynamically based on user input.\n",
    "- Improves search efficiency in vector databases.\n",
    "\n",
    "\n",
    "\n",
    "**References:**\n",
    "\n",
    "- **Embedding models:** https://python.langchain.com/v0.1/docs/integrations/text_embedding/\n",
    "\n",
    "- **Data Loaders from langchain:** https://python.langchain.com/docs/integrations/document_loaders/\n"
   ]
  },
  {
   "cell_type": "code",
   "execution_count": null,
   "metadata": {
    "id": "9pEQD0tEDjHI"
   },
   "outputs": [],
   "source": [
    "\n",
    "# !pip install -q langchain_chroma"
   ]
  },
  {
   "cell_type": "code",
   "execution_count": null,
   "metadata": {
    "id": "nND0G9xdNFvr"
   },
   "outputs": [],
   "source": [
    "#!pip freeze"
   ]
  },
  {
   "cell_type": "code",
   "execution_count": null,
   "metadata": {
    "id": "3siQzsS1M4Pr"
   },
   "outputs": [],
   "source": [
    "import os\n",
    "import chromadb\n",
    "from langchain_chroma import Chroma # import the Chroma class.\n",
    "import requests\n",
    "\n",
    "from dotenv import load_dotenv\n",
    "from openai import OpenAI\n",
    "from typing import Dict, Tuple, List\n",
    "from langchain.text_splitter import (\n",
    "    CharacterTextSplitter,\n",
    "    RecursiveCharacterTextSplitter\n",
    ")\n",
    "from langchain_experimental.text_splitter import SemanticChunker\n",
    "from langchain_openai import ChatOpenAI\n",
    "from langchain.embeddings import OpenAIEmbeddings\n",
    "from langchain_openai import OpenAIEmbeddings\n",
    "\n",
    "from langchain.retrievers.document_compressors import LLMChainExtractor\n",
    "from langchain.retrievers import ContextualCompressionRetriever\n",
    "from langchain.retrievers.document_compressors import CrossEncoderReranker\n",
    "from langchain_community.cross_encoders import HuggingFaceCrossEncoder\n",
    "from llama_parse import LlamaParse\n",
    "from llama_index.core import Settings, SimpleDirectoryReader\n",
    "from langchain_core.documents import Document\n",
    "from langchain_community.vectorstores import Chroma\n",
    "from langchain.chains.query_constructor.base import AttributeInfo\n",
    "from langchain.retrievers.self_query.base import SelfQueryRetriever\n",
    "\n",
    "from google.colab import userdata"
   ]
  },
  {
   "cell_type": "markdown",
   "metadata": {
    "id": "nl2yEEFphjXD"
   },
   "source": [
    "###**<font color=blue> Upload the config file in colab</font>**"
   ]
  },
  {
   "cell_type": "markdown",
   "metadata": {
    "id": "uUfrrU_0hmOC"
   },
   "source": [
    "Step 1: First, click on the icon highlighted in red."
   ]
  },
  {
   "cell_type": "markdown",
   "metadata": {
    "id": "sVlQ93Tdhojq"
   },
   "source": [
    "![Screenshot 2025-03-13 132403.jpg](data:image/jpeg;base64,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)"
   ]
  },
  {
   "cell_type": "markdown",
   "metadata": {
    "id": "QPGDILHIhzFC"
   },
   "source": [
    "Step 2: Click on the next icon highlighted in red."
   ]
  },
  {
   "cell_type": "markdown",
   "metadata": {
    "id": "DpaDiQmgh1I9"
   },
   "source": [
    "![Screenshot 2025-03-13 132555.jpg](data:image/jpeg;base64,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)"
   ]
  },
  {
   "cell_type": "markdown",
   "metadata": {
    "id": "frch0x2qh5eg"
   },
   "source": [
    "Step 3: Select config.json from the Downloads and click on open highlighted in red box."
   ]
  },
  {
   "cell_type": "markdown",
   "metadata": {
    "id": "lrBxq2CJh7hW"
   },
   "source": [
    "![Screenshot 2025-03-13 133029.jpg](data:image/jpeg;base64,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)"
   ]
  },
  {
   "cell_type": "markdown",
   "metadata": {
    "id": "krXMJwO1h_5v"
   },
   "source": [
    "Step 4: A warning message will appear—click OK to proceed."
   ]
  },
  {
   "cell_type": "markdown",
   "metadata": {
    "id": "S2cMJEVSiB4t"
   },
   "source": [
    "![Image4.PNG](data:image/png;base64,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)"
   ]
  },
  {
   "cell_type": "code",
   "execution_count": null,
   "metadata": {
    "id": "GuQSaXVJSjGG"
   },
   "outputs": [],
   "source": [
    "import json\n",
    "\n",
    "def read_config(config_file):\n",
    "  \"\"\"Reads a JSON config file and returns a dictionary.\"\"\"\n",
    "  with open(config_file, 'r') as f:\n",
    "    return json.load(f)\n",
    "\n",
    "config = read_config(\"config_GANLP.json\")  #Copy and paste the path of the config file uploaded in Colab\n",
    "config2 = read_config(\"config2_emb_tested.json\")\n",
    "api_key = config.get(\"API_KEY\")\n",
    "endpoint = config.get(\"OPENAI_API_BASE\")\n",
    "llamaparse_api_key = config2.get(\"LLAMA_KEY\")"
   ]
  },
  {
   "cell_type": "markdown",
   "metadata": {
    "id": "u5NiYbOlJviu"
   },
   "source": [
    "**chromadb.utils.embedding_functions.OpenAIEmbeddingFunction**\n",
    "\n",
    "- This initializes an embedding function for ChromaDB, which is used inside ChromaDB’s vector store.\n",
    "- It ensures that when documents are added to ChromaDB, they are converted into embeddings using OpenAI’s text-embedding-ada-002 before storage.\n",
    "- It is directly tied to ChromaDB and cannot be used elsewhere.\n"
   ]
  },
  {
   "cell_type": "code",
   "execution_count": null,
   "metadata": {
    "id": "iIRDS0IASmEB"
   },
   "outputs": [],
   "source": [
    "embedding_function = chromadb.utils.embedding_functions.OpenAIEmbeddingFunction(\n",
    "    api_base=endpoint,\n",
    "    api_key=api_key,\n",
    "    model_name='text-embedding-ada-002'\n",
    ")"
   ]
  },
  {
   "cell_type": "code",
   "execution_count": null,
   "metadata": {
    "id": "KjA1Iv00M1lc"
   },
   "outputs": [],
   "source": [
    "# Initialize OpenAI Embeddings correctly\n",
    "embedding_model = OpenAIEmbeddings(\n",
    "    openai_api_base=endpoint,\n",
    "    openai_api_key=api_key,\n",
    "    model=\"text-embedding-ada-002\"\n",
    ")"
   ]
  },
  {
   "cell_type": "code",
   "execution_count": null,
   "metadata": {
    "id": "IQkYALzA_Nb6"
   },
   "outputs": [],
   "source": [
    "from langchain_openai import ChatOpenAI\n",
    "\n",
    "llm = ChatOpenAI(\n",
    "    openai_api_base=endpoint,\n",
    "    openai_api_key=api_key,\n",
    "    model=\"gpt-4o-mini\",\n",
    "    streaming=False  # Explicitly disabling streaming\n",
    ")"
   ]
  },
  {
   "cell_type": "markdown",
   "metadata": {
    "id": "fO8TEtHM_t_j"
   },
   "source": [
    "# Parsing"
   ]
  },
  {
   "cell_type": "markdown",
   "metadata": {
    "id": "CLauS1Z4f5Mx"
   },
   "source": [
    "**Understanding nest_asyncio**\n",
    "\n",
    "1. Import nest_asyncio\n",
    "\t•\tThis imports the nest_asyncio module, which is used to patch the asyncio event loop to allow nested event loops.\n",
    "\n",
    "import nest_asyncio\n",
    "\n",
    "2. Apply nest_asyncio\n",
    "\t•\tThis modifies the default event loop policy so that multiple nested event loops can run within the same process without encountering the error:\n",
    "\n",
    "RuntimeError: This event loop is already running\n",
    "\n",
    "nest_asyncio.apply()\n",
    "\n",
    "Why is this needed?\n",
    "- In Jupyter Notebooks, running asyncio code (such as calling await within an existing event loop) often results in errors because Jupyter itself runs an event loop in the background.\n",
    "- nest_asyncio.apply() allows you to re-enter an already running event loop instead of creating a new one, making it possible to run async functions inside Jupyter cells.\n",
    "\n",
    "Example Use Case\n",
    "\n",
    "Without nest_asyncio, running an async function inside Jupyter might cause:\n",
    "\n",
    "import asyncio\n",
    "\n",
    "async def hello():\n",
    "    print(\"Hello, async world!\")\n",
    "\n",
    "asyncio.run(hello())  # This might throw an error in Jupyter"
   ]
  },
  {
   "cell_type": "code",
   "execution_count": null,
   "metadata": {
    "id": "73qb_C0L8RCm"
   },
   "outputs": [],
   "source": [
    "import nest_asyncio; nest_asyncio.apply()"
   ]
  },
  {
   "cell_type": "code",
   "execution_count": null,
   "metadata": {
    "id": "ddsNfjl_fH5x"
   },
   "outputs": [],
   "source": [
    "from dotenv import load_dotenv"
   ]
  },
  {
   "cell_type": "code",
   "execution_count": null,
   "metadata": {
    "colab": {
     "base_uri": "https://localhost:8080/"
    },
    "executionInfo": {
     "elapsed": 51,
     "status": "ok",
     "timestamp": 1742418038595,
     "user": {
      "displayName": "Soumitra Mukherji",
      "userId": "02267047127611459680"
     },
     "user_tz": 300
    },
    "id": "WOIIc2Hq6I_V",
    "outputId": "a49088ac-7897-4d10-ffc9-4b633b2813a6"
   },
   "outputs": [
    {
     "data": {
      "text/plain": [
       "False"
      ]
     },
     "execution_count": 18,
     "metadata": {},
     "output_type": "execute_result"
    }
   ],
   "source": [
    "# Set environment variable to avoid tokenizer warnings\n",
    "os.environ[\"TOKENIZERS_PARALLELISM\"] = \"false\"\n",
    "\n",
    "# Force reload of environment variables\n",
    "load_dotenv(override=True)"
   ]
  },
  {
   "cell_type": "markdown",
   "metadata": {
    "id": "qqCtERLuABP5"
   },
   "source": [
    "Upload the PDF file to Colab"
   ]
  },
  {
   "cell_type": "code",
   "execution_count": null,
   "metadata": {
    "id": "NElI6nP08F5p"
   },
   "outputs": [],
   "source": [
    "pdf_file_path = 'xps-13-9340-owners-manual-en-us.pdf'"
   ]
  },
  {
   "cell_type": "markdown",
   "metadata": {
    "id": "KhOKwC9iL5eW"
   },
   "source": [
    "**LlamaParse does not run locally—it uses cloud resources to process documents.**\n",
    "\n",
    "- The PDF file is uploaded to LlamaParse’s API.\n",
    "- The text extraction happens on LlamaParse’s cloud servers.\n",
    "- **The extracted text is then returned in the requested format (markdown, text, or json).**\n",
    "\n",
    "**Why Does It Use Cloud Resources?**\n",
    "- Better Parsing: LlamaParse handles complex layouts, tables, and images better than local parsers.\n",
    "- Faster Processing: It can leverage distributed computing for large documents.\n",
    "- Avoids Local Limitations: No need to install heavy dependencies like pdfplumber or PyMuPDF.\n",
    "\n",
    "**Does It Support Local Processing?**\n",
    "\n",
    "**No, LlamaParse is fully cloud-based,** and **you must have an API key** to use it.\n",
    "\n",
    "**Alternative for Local Parsing**\n",
    "\n",
    "If you need a local alternative, you can use:\n",
    "- PyMuPDF (fitz): For simple text extraction.\n",
    "- pdfplumber: For table extraction.\n",
    "- unstructured: For structured document processing.\n"
   ]
  },
  {
   "cell_type": "markdown",
   "metadata": {
    "id": "h8yp7ltJhjLO"
   },
   "source": [
    "**LlamaParse: An Advanced PDF Parsing Tool**\n",
    "\n",
    "- **LlamaParse is part of LlamaIndex**, a powerful framework designed to work with unstructured data (such as PDFs, Word documents, and other text-based files) for large language models (LLMs).\n",
    "- It provides a way to efficiently extract and structure text from PDFs while handling complex document layouts.\n",
    "\n",
    "1. **result_type=\"markdown\"**\n",
    "\n",
    "\t•\tSpecifies the format of the extracted text.\n",
    "\t•\t\"markdown\" means the extracted content will be formatted in Markdown, which preserves structure (e.g., headings, lists, and formatting).\n",
    "\n",
    "2. **skip_diagonal_text=True**\n",
    "\n",
    "\t•\tHelps avoid text that appears diagonal in PDFs (common in watermarks, rotated text, or certain scanned documents).\n",
    "\t•\tPrevents extracting unwanted non-linear text.\n",
    "\n",
    "3. **fast_mode=False**\n",
    "\n",
    "\t•\tIf True, LlamaParse prioritizes speed over accuracy.\n",
    "\t•\tIf False, it ensures more thorough parsing, even if it’s slower.\n",
    "\n",
    "4. **num_workers=9**\n",
    "\n",
    "\t•\tControls parallel processing by using 9 worker threads to process documents faster.\n",
    "\t•\tHigher values improve performance on large documents but consume more CPU resources.\n",
    "\n",
    "5. **check_interval=10**\n",
    "\n",
    "\t•\tDefines how often (in seconds) the parser checks the API for processing status updates when handling large documents asynchronously.\n",
    "\n",
    "6. **api_key=llamaparse_api_key**\n",
    "\n",
    "\t•\tRequires an API key to authenticate with LlamaParse’s cloud-based document parsing service."
   ]
  },
  {
   "cell_type": "code",
   "execution_count": null,
   "metadata": {
    "id": "VHIFQEV58MMb"
   },
   "outputs": [],
   "source": [
    "parser = LlamaParse(\n",
    "    result_type=\"markdown\",\n",
    "    skip_diagonal_text=True,\n",
    "    fast_mode=False,\n",
    "    num_workers=9,\n",
    "    check_interval=10,\n",
    "    api_key=llamaparse_api_key\n",
    ")"
   ]
  },
  {
   "cell_type": "code",
   "execution_count": null,
   "metadata": {
    "colab": {
     "base_uri": "https://localhost:8080/"
    },
    "executionInfo": {
     "elapsed": 33928,
     "status": "ok",
     "timestamp": 1742418080096,
     "user": {
      "displayName": "Soumitra Mukherji",
      "userId": "02267047127611459680"
     },
     "user_tz": 300
    },
    "id": "r_Y5Zi9g8N5i",
    "outputId": "fdea7a91-14bf-462d-869b-9801c5a0d036"
   },
   "outputs": [
    {
     "name": "stdout",
     "output_type": "stream",
     "text": [
      "Started parsing the file under job_id 7679ce90-a10c-4653-9faa-cf078eea8162\n"
     ]
    }
   ],
   "source": [
    "json_objs = parser.get_json_result(pdf_file_path)"
   ]
  },
  {
   "cell_type": "code",
   "execution_count": null,
   "metadata": {
    "id": "kIRh0F0A8Wyf"
   },
   "outputs": [],
   "source": [
    "json_list = json_objs[0][\"pages\"]"
   ]
  },
  {
   "cell_type": "code",
   "execution_count": null,
   "metadata": {
    "id": "GXsMBm7kHNuE"
   },
   "outputs": [],
   "source": [
    "json_list"
   ]
  },
  {
   "cell_type": "markdown",
   "metadata": {
    "id": "f4tU3h2nNnaA"
   },
   "source": [
    "- LlamaParse doesn’t just extract text; it also detects embedded images in PDFs.\n",
    "- The images are extracted separately, and their locations are referenced in the JSON.\n",
    "- Using parser.get_images(), you can download those images for further processing.\n",
    "\n",
    "- 👉 **LlamaParse does NOT do OCR** (text extraction from images) or object recognition.\n",
    "- **LlamaParse extracts tables from PDFs** and provides them in a structured format."
   ]
  },
  {
   "cell_type": "code",
   "execution_count": null,
   "metadata": {
    "colab": {
     "base_uri": "https://localhost:8080/"
    },
    "collapsed": true,
    "executionInfo": {
     "elapsed": 20122,
     "status": "ok",
     "timestamp": 1742418110461,
     "user": {
      "displayName": "Soumitra Mukherji",
      "userId": "02267047127611459680"
     },
     "user_tz": 300
    },
    "id": "aP_uBoEo8Yl0",
    "outputId": "e85fe772-79f0-495d-8fa3-79f4c2991366"
   },
   "outputs": [
    {
     "name": "stdout",
     "output_type": "stream",
     "text": [
      "> Images for page 1: []\n",
      "> Images for page 2: []\n",
      "> Images for page 3: []\n",
      "> Images for page 4: []\n",
      "> Images for page 5: []\n",
      "> Images for page 6: [{'name': 'img_p5_1.png', 'height': 312, 'width': 1710, 'x': 92.43780000000001, 'y': 192.59763500000003, 'original_width': 1710, 'original_height': 312}, {'name': 'img_p5_2.png', 'height': 312, 'width': 1710, 'x': 92.43780000000001, 'y': 464.544075, 'original_width': 1710, 'original_height': 312}]\n",
      "> Images for page 7: [{'name': 'img_p6_1.png', 'height': 1170, 'width': 1710, 'x': 36.8504, 'y': 101.43543600000004, 'original_width': 1710, 'original_height': 1170, 'ocr': [{'x': 22, 'y': 192, 'w': 30, 'h': 36, 'confidence': '0.9999969005608733', 'text': '5'}, {'x': 241, 'y': 229, 'w': 26, 'h': 14, 'confidence': '0.990835059286968', 'text': 'esc'}, {'x': 1129, 'y': 229, 'w': 24, 'h': 14, 'confidence': '0.43869986060696464', 'text': 'F1o'}, {'x': 1299, 'y': 229, 'w': 22, 'h': 14, 'confidence': '0.45599057426599643', 'text': 'F12'}, {'x': 1417, 'y': 227, 'w': 40, 'h': 16, 'confidence': '1.0', 'text': 'delete'}, {'x': 1670, 'y': 218, 'w': 24, 'h': 32, 'confidence': '0.9999992847443906', 'text': '2'}, {'x': 1365, 'y': 309, 'w': 72, 'h': 18, 'confidence': '0.9999855756239485', 'text': 'backspace'}, {'x': 1672, 'y': 304, 'w': 26, 'h': 36, 'confidence': '0.999999880790714', 'text': '3'}, {'x': 430, 'y': 320, 'w': 30, 'h': 24, 'confidence': '1.0', 'text': '2'}, {'x': 689, 'y': 321, 'w': 18, 'h': 22, 'confidence': '0.9999994039536411', 'text': '5'}, {'x': 223, 'y': 393, 'w': 24, 'h': 14, 'confidence': '0.9999979352348233', 'text': 'tab'}, {'x': 470, 'y': 388, 'w': 28, 'h': 24, 'confidence': '0.9824876609825459', 'text': 'W'}, {'x': 558, 'y': 388, 'w': 24, 'h': 24, 'confidence': '0.9991517674372155', 'text': 'E'}, {'x': 644, 'y': 388, 'w': 24, 'h': 24, 'confidence': '0.47561412372728873', 'text': 'R'}, {'x': 731, 'y': 389, 'w': 24, 'h': 20, 'confidence': '0.97610744086737', 'text': 'T'}, {'x': 221, 'y': 473, 'w': 64, 'h': 18, 'confidence': '0.9964785948692617', 'text': 'caps lock'}, {'x': 495, 'y': 469, 'w': 20, 'h': 24, 'confidence': '0.672176839846216', 'text': 'S'}, {'x': 838, 'y': 468, 'w': 46, 'h': 26, 'confidence': '0.9852304319007068', 'text': 'H'}, {'x': 1437, 'y': 475, 'w': 38, 'h': 14, 'confidence': '0.9999294145980976', 'text': 'enter'}, {'x': 453, 'y': 551, 'w': 18, 'h': 22, 'confidence': '0.398557039836934', 'text': 'Z'}, {'x': 797, 'y': 553, 'w': 20, 'h': 22, 'confidence': '0.9999657872265324', 'text': 'B'}, {'x': 876, 'y': 550, 'w': 56, 'h': 26, 'confidence': '0.999581261610448', 'text': 'N'}, {'x': 958, 'y': 550, 'w': 40, 'h': 26, 'confidence': '0.845084910067758', 'text': 'M'}, {'x': 1441, 'y': 555, 'w': 36, 'h': 16, 'confidence': '0.9717361507354103', 'text': 'shift'}, {'x': 223, 'y': 637, 'w': 26, 'h': 16, 'confidence': '0.59466153383255', 'text': 'ctri'}, {'x': 537, 'y': 637, 'w': 22, 'h': 16, 'confidence': '0.9959200390375605', 'text': 'alt'}, {'x': 1053, 'y': 637, 'w': 22, 'h': 16, 'confidence': '0.9974100638522715', 'text': 'alt'}, {'x': 218, 'y': 554, 'w': 40, 'h': 15, 'confidence': '0.7117399814718798', 'text': 'shift'}]}]\n",
      "> Images for page 8: [{'name': 'img_p7_1.png', 'height': 1170, 'width': 1710, 'x': 36.8504, 'y': 146.043316, 'original_width': 1710, 'original_height': 1170, 'ocr': [{'x': 241, 'y': 229, 'w': 26, 'h': 14, 'confidence': '0.990835059286968', 'text': 'esc'}, {'x': 1129, 'y': 229, 'w': 24, 'h': 14, 'confidence': '0.43869986060696464', 'text': 'F1o'}, {'x': 1299, 'y': 229, 'w': 22, 'h': 14, 'confidence': '0.45599057426599643', 'text': 'F12'}, {'x': 1417, 'y': 227, 'w': 40, 'h': 16, 'confidence': '1.0', 'text': 'delete'}, {'x': 1365, 'y': 309, 'w': 72, 'h': 18, 'confidence': '0.9999855756239485', 'text': 'backspace'}, {'x': 430, 'y': 320, 'w': 44, 'h': 24, 'confidence': '1.0', 'text': '2'}, {'x': 689, 'y': 321, 'w': 18, 'h': 22, 'confidence': '0.9999994039536411', 'text': '5'}, {'x': 223, 'y': 393, 'w': 24, 'h': 14, 'confidence': '0.9999979352348233', 'text': 'tab'}, {'x': 470, 'y': 388, 'w': 28, 'h': 24, 'confidence': '0.9824876609825459', 'text': 'W'}, {'x': 558, 'y': 388, 'w': 24, 'h': 24, 'confidence': '0.9991517674372155', 'text': 'E'}, {'x': 644, 'y': 388, 'w': 24, 'h': 24, 'confidence': '0.47561412372728873', 'text': 'R'}, {'x': 731, 'y': 389, 'w': 24, 'h': 20, 'confidence': '0.97610744086737', 'text': 'T'}, {'x': 221, 'y': 473, 'w': 64, 'h': 18, 'confidence': '0.9964785948692617', 'text': 'caps lock'}, {'x': 495, 'y': 469, 'w': 20, 'h': 24, 'confidence': '0.672176839846216', 'text': 'S'}, {'x': 838, 'y': 468, 'w': 46, 'h': 26, 'confidence': '0.9852304319007068', 'text': 'H'}, {'x': 1437, 'y': 475, 'w': 38, 'h': 14, 'confidence': '0.9999294145980976', 'text': 'enter'}, {'x': 453, 'y': 551, 'w': 18, 'h': 22, 'confidence': '0.398557039836934', 'text': 'Z'}, {'x': 797, 'y': 553, 'w': 20, 'h': 22, 'confidence': '0.9999657872265324', 'text': 'B'}, {'x': 876, 'y': 550, 'w': 56, 'h': 26, 'confidence': '0.999581261610448', 'text': 'N'}, {'x': 960, 'y': 550, 'w': 38, 'h': 26, 'confidence': '0.9198357816430871', 'text': 'M'}, {'x': 1441, 'y': 555, 'w': 36, 'h': 16, 'confidence': '0.9717361507354103', 'text': 'shift'}, {'x': 223, 'y': 637, 'w': 26, 'h': 16, 'confidence': '0.59466153383255', 'text': 'ctri'}, {'x': 537, 'y': 637, 'w': 22, 'h': 16, 'confidence': '0.9959200390375605', 'text': 'alt'}, {'x': 1053, 'y': 637, 'w': 22, 'h': 16, 'confidence': '0.9974100638522715', 'text': 'alt'}, {'x': 1058, 'y': 1126, 'w': 24, 'h': 30, 'confidence': '0.9999988079074598', 'text': '2'}, {'x': 218, 'y': 554, 'w': 40, 'h': 15, 'confidence': '0.7117399814718798', 'text': 'shift'}]}]\n",
      "> Images for page 9: [{'name': 'img_p8_1.png', 'height': 1052, 'width': 1649, 'x': 99.75781, 'y': 101.43542399999998, 'original_width': 1649, 'original_height': 1052, 'ocr': [{'x': 719, 'y': 5, 'w': 60, 'h': 44, 'confidence': '0.9580710024042357', 'text': '12'}, {'x': 795, 'y': 5, 'w': 140, 'h': 44, 'confidence': '0.8935350806855409', 'text': '3 45 6'}]}]\n",
      "> Images for page 10: [{'name': 'img_p9_1.png', 'height': 1074, 'width': 1491, 'x': 118.71780000000001, 'y': 101.43544000000003, 'original_width': 1491, 'original_height': 1074, 'ocr': [{'x': 669, 'y': 441, 'w': 156, 'h': 60, 'confidence': '0.5345281485337834', 'text': 'Xps'}, {'x': 310, 'y': 1028, 'w': 24, 'h': 34, 'confidence': '0.9158830827352022', 'text': '2'}, {'x': 768, 'y': 1028, 'w': 26, 'h': 34, 'confidence': '0.9999995231628986', 'text': '3'}]}]\n",
      "> Images for page 11: [{'name': 'img_p10_1.png', 'height': 958, 'width': 1491, 'x': 118.71780000000001, 'y': 66.09684200000001, 'original_width': 1491, 'original_height': 958, 'ocr': [{'x': 669, 'y': 441, 'w': 156, 'h': 60, 'confidence': '0.5345281485337834', 'text': 'Xps'}]}, {'name': 'img_p10_2.png', 'height': 1, 'width': 1, 'x': 36.85040000000001, 'y': 404.49826899999994}]\n",
      "> Images for page 12: [{'name': 'img_p11_1.png', 'height': 1029, 'width': 2136, 'x': 48.40443, 'y': 236.43115300000002, 'original_width': 2136, 'original_height': 1029, 'ocr': [{'x': 509, 'y': 151, 'w': 24, 'h': 14, 'confidence': '0.9896348071577642', 'text': 'esc'}, {'x': 723, 'y': 151, 'w': 24, 'h': 14, 'confidence': '0.9418103189906626', 'text': 'F2'}, {'x': 1397, 'y': 151, 'w': 24, 'h': 14, 'confidence': '0.4297896181027906', 'text': 'F1O'}, {'x': 1567, 'y': 151, 'w': 22, 'h': 14, 'confidence': '0.998562235881167', 'text': 'F12'}, {'x': 1683, 'y': 151, 'w': 42, 'h': 14, 'confidence': '0.9999999026660216', 'text': 'delete'}, {'x': 1630, 'y': 231, 'w': 75, 'h': 21, 'confidence': '0.8768966892780572', 'text': 'backspace'}, {'x': 696, 'y': 244, 'w': 44, 'h': 24, 'confidence': '0.9999997615814351', 'text': '2'}, {'x': 783, 'y': 245, 'w': 26, 'h': 20, 'confidence': '0.9999982118614561', 'text': '3'}, {'x': 869, 'y': 245, 'w': 22, 'h': 20, 'confidence': '0.9086092869662199', 'text': '4'}, {'x': 489, 'y': 315, 'w': 26, 'h': 16, 'confidence': '0.7883246541023254', 'text': 'tab'}, {'x': 736, 'y': 310, 'w': 32, 'h': 28, 'confidence': '0.9411341112787', 'text': 'W'}, {'x': 824, 'y': 310, 'w': 24, 'h': 24, 'confidence': '0.9980560460995527', 'text': 'E'}, {'x': 910, 'y': 310, 'w': 24, 'h': 26, 'confidence': '0.999985933353301', 'text': 'R'}, {'x': 998, 'y': 310, 'w': 24, 'h': 24, 'confidence': '0.9112867197559105', 'text': 'T'}, {'x': 489, 'y': 397, 'w': 64, 'h': 16, 'confidence': '0.8809520297448513', 'text': 'caps lock'}, {'x': 765, 'y': 395, 'w': 16, 'h': 22, 'confidence': '0.29859791706997285', 'text': 'S'}, {'x': 1018, 'y': 392, 'w': 32, 'h': 24, 'confidence': '0.9709080697741825', 'text': 'G'}, {'x': 1102, 'y': 390, 'w': 56, 'h': 30, 'confidence': '0.8838695125069194', 'text': 'H'}, {'x': 1705, 'y': 397, 'w': 38, 'h': 14, 'confidence': '0.9999110217797129', 'text': 'enter'}, {'x': 489, 'y': 477, 'w': 34, 'h': 16, 'confidence': '0.9995900206837214', 'text': 'shift'}, {'x': 719, 'y': 475, 'w': 20, 'h': 22, 'confidence': '0.26364568106277275', 'text': '2'}, {'x': 1062, 'y': 474, 'w': 26, 'h': 24, 'confidence': '0.9999520784397333', 'text': 'B'}, {'x': 1142, 'y': 472, 'w': 54, 'h': 26, 'confidence': '0.9998693508862289', 'text': 'N'}, {'x': 1226, 'y': 472, 'w': 36, 'h': 28, 'confidence': '0.7896905597349679', 'text': 'M'}, {'x': 1709, 'y': 477, 'w': 34, 'h': 16, 'confidence': '0.9997898023107206', 'text': 'shift'}, {'x': 74, 'y': 502, 'w': 68, 'h': 30, 'confidence': '0.13587120688211896', 'text': 'BAL'}, {'x': 489, 'y': 559, 'w': 26, 'h': 16, 'confidence': '0.9291691780090332', 'text': 'ctrl'}, {'x': 805, 'y': 559, 'w': 22, 'h': 16, 'confidence': '0.9999222275727724', 'text': 'alt'}, {'x': 1321, 'y': 559, 'w': 22, 'h': 16, 'confidence': '0.9999766681867418', 'text': 'alt'}]}]\n",
      "> Images for page 13: [{'name': 'img_p12_2.png', 'height': 150, 'width': 150, 'x': 80.98218999999997, 'y': 145.33877000000004, 'original_width': 150, 'original_height': 150, 'ocr': [{'x': 31, 'y': 57, 'w': 76, 'h': 36, 'confidence': '0.41394099738129975', 'text': 'DAL'}]}, {'name': 'img_p12_3.png', 'height': 150, 'width': 150, 'x': 80.98218999999997, 'y': 264.41069000000005, 'original_width': 150, 'original_height': 150}, {'name': 'img_p12_4.png', 'height': 150, 'width': 150, 'x': 80.98218999999997, 'y': 351.7907, 'original_width': 150, 'original_height': 150}, {'name': 'img_p12_5.png', 'height': 150, 'width': 150, 'x': 80.98218999999997, 'y': 446.02071, 'original_width': 150, 'original_height': 150}]\n",
      "> Images for page 14: []\n",
      "> Images for page 15: []\n",
      "> Images for page 16: []\n",
      "> Images for page 17: []\n",
      "> Images for page 18: []\n",
      "> Images for page 19: []\n",
      "> Images for page 20: []\n",
      "> Images for page 21: []\n",
      "> Images for page 22: []\n",
      "> Images for page 23: []\n",
      "> Images for page 24: []\n",
      "> Images for page 25: []\n",
      "> Images for page 26: [{'name': 'img_p25_1.png', 'height': 42, 'width': 37, 'x': 347.12314, 'y': 666.1455799999999}]\n",
      "> Images for page 27: []\n",
      "> Images for page 28: []\n",
      "> Images for page 29: []\n",
      "> Images for page 30: [{'name': 'img_p29_1.png', 'height': 71, 'width': 63, 'x': 446.08569, 'y': 243.56543900000005, 'original_width': 63, 'original_height': 71}, {'name': 'img_p29_2.png', 'height': 75, 'width': 82, 'x': 446.08569, 'y': 276.96544, 'original_width': 82, 'original_height': 75}, {'name': 'img_p29_3.png', 'height': 78, 'width': 70, 'x': 446.08569, 'y': 343.94543899999996, 'original_width': 70, 'original_height': 78}, {'name': 'img_p29_2.png', 'height': 75, 'width': 82, 'x': 446.08569, 'y': 378.24543, 'original_width': 82, 'original_height': 75}, {'name': 'img_p29_4.png', 'height': 86, 'width': 89, 'x': 446.08569, 'y': 411.825431, 'original_width': 89, 'original_height': 86}, {'name': 'img_p29_5.png', 'height': 86, 'width': 89, 'x': 446.08569, 'y': 448.045441, 'original_width': 89, 'original_height': 86}, {'name': 'img_p29_2.png', 'height': 75, 'width': 82, 'x': 446.08569, 'y': 484.26542, 'original_width': 82, 'original_height': 75}, {'name': 'img_p29_6.png', 'height': 137, 'width': 110, 'x': 446.08569, 'y': 517.845409, 'original_width': 110, 'original_height': 137}, {'name': 'img_p29_2.png', 'height': 75, 'width': 82, 'x': 446.08569, 'y': 566.3054, 'original_width': 82, 'original_height': 75}, {'name': 'img_p29_7.png', 'height': 90, 'width': 82, 'x': 446.08569, 'y': 599.8853899999999, 'original_width': 82, 'original_height': 90}, {'name': 'img_p29_2.png', 'height': 75, 'width': 82, 'x': 446.08569, 'y': 637.0653799999999, 'original_width': 82, 'original_height': 75}, {'name': 'img_p29_8.png', 'height': 56, 'width': 59, 'x': 446.08569, 'y': 670.645369}, {'name': 'img_p29_8.png', 'height': 56, 'width': 59, 'x': 446.08569, 'y': 704.045359}, {'name': 'img_p29_9.png', 'height': 79, 'width': 94, 'x': 446.08569, 'y': 737.445349, 'original_width': 94, 'original_height': 79}]\n",
      "> Images for page 31: [{'name': 'img_p30_1.png', 'height': 2022, 'width': 1650, 'x': 99.63781, 'y': 117.63545099999999, 'original_width': 1650, 'original_height': 2022, 'ocr': [{'x': 1502, 'y': 488, 'w': 26, 'h': 34, 'confidence': '1.0', 'text': '2'}, {'x': 109, 'y': 531, 'w': 42, 'h': 36, 'confidence': '0.9999983141264758', 'text': '17'}, {'x': 1502, 'y': 624, 'w': 28, 'h': 36, 'confidence': '0.999999046325911', 'text': '3'}, {'x': 107, 'y': 703, 'w': 48, 'h': 42, 'confidence': '0.9999994942378553', 'text': '16'}, {'x': 105, 'y': 849, 'w': 50, 'h': 42, 'confidence': '0.9624584064138539', 'text': '15'}, {'x': 1504, 'y': 974, 'w': 24, 'h': 34, 'confidence': '0.9999978542339392', 'text': '5'}, {'x': 107, 'y': 987, 'w': 46, 'h': 40, 'confidence': '0.9999012935076733', 'text': '14'}, {'x': 107, 'y': 1101, 'w': 48, 'h': 40, 'confidence': '0.9999978083645809', 'text': '13'}, {'x': 107, 'y': 1207, 'w': 48, 'h': 40, 'confidence': '0.9999983141264758', 'text': '12'}, {'x': 117, 'y': 1287, 'w': 36, 'h': 38, 'confidence': '0.9405257714591903', 'text': '11'}, {'x': 107, 'y': 1367, 'w': 48, 'h': 42, 'confidence': '0.9999415006754448', 'text': '10'}, {'x': 775, 'y': 325, 'w': 114, 'h': 7, 'confidence': '0.2437423721779573', 'text': '64 /'}, {'x': 1019, 'y': 672, 'w': 62, 'h': 2, 'confidence': '0.9981017585329578', 'text': 'SSD'}]}]\n",
      "> Images for page 32: []\n",
      "> Images for page 33: []\n",
      "> Images for page 34: [{'name': 'img_p33_1.png', 'height': 1607, 'width': 1652, 'x': 99.39780999999999, 'y': 66.09683699999994, 'original_width': 1652, 'original_height': 1607, 'ocr': [{'x': 78, 'y': 288, 'w': 66, 'h': 48, 'confidence': '0.9873923322485312', 'text': '6x'}, {'x': 77, 'y': 339, 'w': 164, 'h': 42, 'confidence': '0.5990373437276485', 'text': 'M2x3, TS'}, {'x': 732, 'y': 1008, 'w': 186, 'h': 74, 'confidence': '0.9060915868259438', 'text': 'Sex'}]}]\n",
      "> Images for page 35: [{'name': 'img_p34_1.png', 'height': 1242, 'width': 1652, 'x': 99.39780999999999, 'y': 66.09684299999998, 'original_width': 1652, 'original_height': 1242, 'ocr': [{'x': 741, 'y': 687, 'w': 168, 'h': 64, 'confidence': '0.7255896159531359', 'text': 'Sex'}]}, {'name': 'img_p34_2.png', 'height': 1182, 'width': 1652, 'x': 99.39780999999999, 'y': 399.75684699999994, 'original_width': 1652, 'original_height': 1182, 'ocr': [{'x': 782, 'y': 528, 'w': 139, 'h': 26, 'confidence': '0.4982097588357252', 'text': 'sex'}]}]\n",
      "> Images for page 36: [{'name': 'img_p35_1.png', 'height': 1607, 'width': 1652, 'x': 99.39780999999999, 'y': 293.68469699999997, 'original_width': 1652, 'original_height': 1607, 'ocr': [{'x': 78, 'y': 288, 'w': 66, 'h': 48, 'confidence': '0.9873923322485312', 'text': '6x'}, {'x': 77, 'y': 339, 'w': 164, 'h': 42, 'confidence': '0.5990373437276485', 'text': 'M2x3, TS'}]}]\n",
      "> Images for page 37: [{'name': 'img_p36_1.png', 'height': 1226, 'width': 1652, 'x': 99.39780999999999, 'y': 66.09683999999999, 'original_width': 1652, 'original_height': 1226, 'ocr': [{'x': 730, 'y': 584, 'w': 188, 'h': 74, 'confidence': '0.8893698585961568', 'text': 'Sex'}]}]\n",
      "> Images for page 38: []\n",
      "> Images for page 39: [{'name': 'img_p38_1.png', 'height': 1800, 'width': 1652, 'x': 99.39780999999999, 'y': 66.09683999999999, 'original_width': 1652, 'original_height': 1800, 'ocr': [{'x': 1141, 'y': 291, 'w': 30, 'h': 14, 'confidence': '0.5157149658607094', 'text': '558'}, {'x': 76, 'y': 286, 'w': 66, 'h': 48, 'confidence': '0.9921986262602013', 'text': '6x'}, {'x': 312, 'y': 288, 'w': 64, 'h': 48, 'confidence': '0.9136387561166311', 'text': 'Ix'}, {'x': 77, 'y': 339, 'w': 162, 'h': 42, 'confidence': '0.6892394882434808', 'text': 'M1.6x2.5'}, {'x': 311, 'y': 339, 'w': 130, 'h': 42, 'confidence': '0.6644642658545861', 'text': 'M1.6x2'}, {'x': 259, 'y': 655, 'w': 34, 'h': 14, 'confidence': '0.5158272981643677', 'text': 'PLOZ'}, {'x': 1089, 'y': 657, 'w': 36, 'h': 14, 'confidence': '0.33688732981681824', 'text': 'PLOZ'}, {'x': 63, 'y': 669, 'w': 34, 'h': 14, 'confidence': '0.32462025210481676', 'text': 'Ut1o'}, {'x': 893, 'y': 671, 'w': 34, 'h': 14, 'confidence': '0.2594097852706909', 'text': 'Ut1o'}, {'x': 229, 'y': 685, 'w': 34, 'h': 14, 'confidence': '0.315085056416337', 'text': 'Ipdb]'}, {'x': 1101, 'y': 687, 'w': 34, 'h': 12, 'confidence': '0.17264206561280188', 'text': 'Ploj'}, {'x': 79, 'y': 699, 'w': 42, 'h': 16, 'confidence': '0.21605559638371205', 'text': 'PC929'}, {'x': 909, 'y': 701, 'w': 44, 'h': 14, 'confidence': '0.13621860641801958', 'text': 'PCszo\"'}, {'x': 167, 'y': 719, 'w': 42, 'h': 14, 'confidence': '0.39817103660249265', 'text': 'CLIPA '}, {'x': 997, 'y': 721, 'w': 42, 'h': 14, 'confidence': '0.40060017686460253', 'text': 'CLIPA '}, {'x': 17, 'y': 773, 'w': 42, 'h': 14, 'confidence': '0.12219648732416831', 'text': 'IPusoz'}, {'x': 891, 'y': 797, 'w': 80, 'h': 18, 'confidence': '0.31149906975051855', 'text': 'Pi 505 PLSOZ'}, {'x': 624, 'y': 830, 'w': 128, 'h': 30, 'confidence': '0.1472911174641089', 'text': 'M1,6x2,5'}, {'x': 858, 'y': 832, 'w': 76, 'h': 28, 'confidence': '0.8999785273643159', 'text': '6x2.5'}, {'x': 1456, 'y': 832, 'w': 124, 'h': 30, 'confidence': '0.9775459759089934', 'text': 'M1.6x2.5'}, {'x': 134, 'y': 918, 'w': 58, 'h': 28, 'confidence': '0.5707263946533203', 'text': 'DELL'}, {'x': 678, 'y': 927, 'w': 137, 'h': 20, 'confidence': '0.5207868314902981', 'text': 'Disconnectth'}, {'x': 964, 'y': 922, 'w': 58, 'h': 24, 'confidence': '0.9991936683654785', 'text': 'DELL'}, {'x': 1508, 'y': 926, 'w': 140, 'h': 24, 'confidence': '0.7149102582917456', 'text': 'Disconnectthi'}, {'x': 678, 'y': 947, 'w': 134, 'h': 28, 'confidence': '0.925791494458818', 'text': 'Note: Longer'}, {'x': 1510, 'y': 948, 'w': 132, 'h': 29, 'confidence': '0.8961057389077656', 'text': 'Note: Longer'}, {'x': 614, 'y': 980, 'w': 166, 'h': 24, 'confidence': '0.2760297873183412', 'text': '. .'}, {'x': 963, 'y': 970, 'w': 181, 'h': 28, 'confidence': '0.5232313463266709', 'text': 'Battery Questons?'}, {'x': 1446, 'y': 980, 'w': 202, 'h': 26, 'confidence': '0.3134178233810758', 'text': 'CAUTION Doyot exp'}, {'x': 616, 'y': 1002, 'w': 186, 'h': 26, 'confidence': '0.7595487636449044', 'text': 'PRECAUTION Ne'}, {'x': 964, 'y': 996, 'w': 342, 'h': 26, 'confidence': '0.25177463566625735', 'text': 'Go towwwdell comiregulelory complence'}, {'x': 1446, 'y': 1002, 'w': 186, 'h': 26, 'confidence': '0.8588660380273838', 'text': 'PRECAUTION Ne'}, {'x': 616, 'y': 1024, 'w': 122, 'h': 24, 'confidence': '0.1859218817801168', 'text': ', .'}, {'x': 1093, 'y': 1037, 'w': 62, 'h': 20, 'confidence': '0.13112007081508636', 'text': '{7-'}, {'x': 1445, 'y': 1025, 'w': 199, 'h': 25, 'confidence': '0.6159792680341855', 'text': 'VORSICHT Der Ak'}, {'x': 1567, 'y': 1059, 'w': 34, 'h': 16, 'confidence': '0.22860783401101195', 'text': '1;'}, {'x': 844, 'y': 1122, 'w': 64, 'h': 26, 'confidence': '0.12385947553157182', 'text': 'auldh'}, {'x': 1531, 'y': 1159, 'w': 30, 'h': 18, 'confidence': '0.16695943916265926', 'text': 'WB'}, {'x': 439, 'y': 1213, 'w': 36, 'h': 14, 'confidence': '0.951406717300415', 'text': 'BATT'}, {'x': 231, 'y': 1253, 'w': 30, 'h': 14, 'confidence': '0.3617320961072643', 'text': 'O'}, {'x': 629, 'y': 1253, 'w': 44, 'h': 16, 'confidence': '0.14225622077049202', 'text': '572.5'}, {'x': 975, 'y': 1249, 'w': 42, 'h': 18, 'confidence': '0.6780990362167358', 'text': 'M1 ('}, {'x': 295, 'y': 1307, 'w': 36, 'h': 16, 'confidence': '0.9898108839988708', 'text': 'DELL'}, {'x': 631, 'y': 1311, 'w': 366, 'h': 14, 'confidence': '0.730802431361233', 'text': 'Disconnect the battery before accessing any parts Or devices'}, {'x': 631, 'y': 1323, 'w': 522, 'h': 19, 'confidence': '0.2250913682709318', 'text': 'Note: Longer POST time may occur if battery cable was disconn c ! ror service repair'}, {'x': 698, 'y': 1348, 'w': 38, 'h': 8, 'confidence': '0.2106597077208825', 'text': 'E'}, {'x': 1153, 'y': 1345, 'w': 34, 'h': 12, 'confidence': '0.12530160822735395', 'text': '! .'}, {'x': 593, 'y': 1359, 'w': 94, 'h': 14, 'confidence': '0.5298271467309354', 'text': 'F RE CAUTION'}, {'x': 797, 'y': 1361, 'w': 46, 'h': 12, 'confidence': '0.27812297189939345', 'text': ':7t'}, {'x': 692, 'y': 1374, 'w': 52, 'h': 8, 'confidence': '0.3027670531518858', 'text': 'a'}, {'x': 375, 'y': 1377, 'w': 38, 'h': 14, 'confidence': '0.3454459045999828', 'text': '\"\"'}, {'x': 924, 'y': 1392, 'w': 24, 'h': 8, 'confidence': '0.2044684209025341', 'text': '0 `'}, {'x': 973, 'y': 1389, 'w': 24, 'h': 14, 'confidence': '0.18013036246319203', 'text': '.'}, {'x': 326, 'y': 1410, 'w': 32, 'h': 6, 'confidence': '0.1529801985764256', 'text': \" ' | 4\"}, {'x': 853, 'y': 1431, 'w': 30, 'h': 12, 'confidence': '0.2555209373172799', 'text': ' .'}, {'x': 317, 'y': 1475, 'w': 86, 'h': 40, 'confidence': '0.5285402536392212', 'text': '55wh'}, {'x': 606, 'y': 1472, 'w': 24, 'h': 34, 'confidence': '0.6707160015872695', 'text': '€'}, {'x': 717, 'y': 1473, 'w': 38, 'h': 46, 'confidence': '0.6324806754191953', 'text': 'IG'}, {'x': 1129, 'y': 1515, 'w': 66, 'h': 14, 'confidence': '0.31072874620946983', 'text': \"':-\"}, {'x': 308, 'y': 1516, 'w': 100, 'h': 26, 'confidence': '0.6696105564091529', 'text': 'Standalrd'}, {'x': 1149, 'y': 1551, 'w': 20, 'h': 32, 'confidence': '0.9087829341064122', 'text': '8'}, {'x': 1113, 'y': 1603, 'w': 46, 'h': 14, 'confidence': '0.4640694260597229', 'text': '; .'}, {'x': 1164, 'y': 1602, 'w': 43, 'h': 16, 'confidence': '0.8207474978519925', 'text': ' `'}, {'x': 229, 'y': 1669, 'w': 46, 'h': 16, 'confidence': '0.12330821689674774', 'text': '0/245'}, {'x': 1375, 'y': 1665, 'w': 50, 'h': 18, 'confidence': '0.4054787315353832', 'text': 'Hox'}]}]\n",
      "> Images for page 40: [{'name': 'img_p39_1.png', 'height': 1063, 'width': 1652, 'x': 99.39780999999999, 'y': 66.09685999999996, 'original_width': 1652, 'original_height': 1063, 'ocr': [{'x': 850, 'y': 650, 'w': 58, 'h': 50, 'confidence': '0.5605396750322065', 'text': '0'}, {'x': 1177, 'y': 787, 'w': 36, 'h': 52, 'confidence': '0.21409154686049536', 'text': '0'}, {'x': 427, 'y': 123, 'w': 56, 'h': 5, 'confidence': '0.3649716377258301', 'text': '@Led'}, {'x': 321, 'y': 184, 'w': 52, 'h': 5, 'confidence': '0.4382716308912056', 'text': 'CcD !'}, {'x': 1313, 'y': 348, 'w': 39, 'h': 0, 'confidence': '0.12974439625808376', 'text': 'a'}, {'x': 1132, 'y': 496, 'w': 152, 'h': 32, 'confidence': '0.9999362457880904', 'text': 'RESALE'}, {'x': 1076, 'y': 535, 'w': 81, 'h': 2, 'confidence': '0.9880737391749038', 'text': 'OR'}, {'x': 980, 'y': 586, 'w': 101, 'h': 3, 'confidence': '0.9921256404238655', 'text': 'NOT'}, {'x': 893, 'y': 636, 'w': 118, 'h': 9, 'confidence': '0.6632504417032652', 'text': 'DELL;'}, {'x': 650, 'y': 782, 'w': 190, 'h': 56, 'confidence': '0.9997794387365967', 'text': 'PROPERT'}, {'x': 430, 'y': 735, 'w': 103, 'h': 1, 'confidence': '0.8330570459365845', 'text': '55w'}, {'x': 1186, 'y': 770, 'w': 63, 'h': 5, 'confidence': '0.41716328672167446', 'text': 'MOT'}, {'x': 1078, 'y': 829, 'w': 108, 'h': 20, 'confidence': '0.9208303959382649', 'text': 'OF DELI'}]}, {'name': 'img_p39_2.png', 'height': 997, 'width': 1500, 'x': 124.72443999999999, 'y': 401.1967859999999, 'original_width': 1500, 'original_height': 997, 'ocr': [{'x': 472, 'y': 242, 'w': 96, 'h': 26, 'confidence': '0.9590227007865906', 'text': 'BATT'}, {'x': 134, 'y': 362, 'w': 32, 'h': 68, 'confidence': '0.4153286437099837', 'text': '4'}, {'x': 134, 'y': 426, 'w': 32, 'h': 48, 'confidence': '0.9734862009582343', 'text': '8'}, {'x': 271, 'y': 615, 'w': 22, 'h': 16, 'confidence': '0.4762099046667865', 'text': 'Pc'}, {'x': 1252, 'y': 670, 'w': 38, 'h': 26, 'confidence': '0.7523422866909117', 'text': 'Do'}, {'x': 1314, 'y': 680, 'w': 38, 'h': 26, 'confidence': '0.999686610419381', 'text': 'Ne'}, {'x': 1477, 'y': 735, 'w': 20, 'h': 22, 'confidence': '0.4390693035137616', 'text': '0'}, {'x': 1146, 'y': 786, 'w': 26, 'h': 24, 'confidence': '0.28005833620045806', 'text': '2'}, {'x': 1166, 'y': 844, 'w': 30, 'h': 24, 'confidence': '0.2199134074492303', 'text': '4)'}, {'x': 1174, 'y': 866, 'w': 32, 'h': 28, 'confidence': '0.9865941031309011', 'text': '21'}, {'x': 384, 'y': 920, 'w': 50, 'h': 32, 'confidence': '0.7078863236470452', 'text': 'cc'}, {'x': 1036, 'y': 942, 'w': 36, 'h': 30, 'confidence': '0.9991907921441333', 'text': '13'}, {'x': 570, 'y': 972, 'w': 71, 'h': 25, 'confidence': '0.2738177109278512', 'text': 'china'}, {'x': 1253, 'y': 250, 'w': 121, 'h': 12, 'confidence': '0.20359617471694946', 'text': 'Oalx'}, {'x': 562, 'y': 439, 'w': 58, 'h': 26, 'confidence': '0.1507845075923249', 'text': 'Re8P:'}, {'x': 505, 'y': 482, 'w': 57, 'h': 2, 'confidence': '0.15571750700473785', 'text': '#c08'}, {'x': 27, 'y': 480, 'w': 24, 'h': 36, 'confidence': '0.9754269287043371', 'text': '8'}, {'x': 672, 'y': 527, 'w': 135, 'h': 0, 'confidence': '0.31167922416103877', 'text': 'G665]'}, {'x': 502, 'y': 532, 'w': 36, 'h': 6, 'confidence': '0.19531853246180256', 'text': 'Pa'}, {'x': 1040, 'y': 545, 'w': 102, 'h': 12, 'confidence': '0.6687332661992677', 'text': '6x2.5'}, {'x': 449, 'y': 542, 'w': 49, 'h': 12, 'confidence': '0.12152472459260616', 'text': 'Ipdb}'}, {'x': 1407, 'y': 551, 'w': 95, 'h': 4, 'confidence': '0.5651188733595144', 'text': 'befors'}, {'x': 996, 'y': 556, 'w': 58, 'h': 26, 'confidence': '0.29118673279327284', 'text': 'Mi.'}, {'x': 1298, 'y': 580, 'w': 122, 'h': 7, 'confidence': '0.8373093593604372', 'text': 'battery'}, {'x': 1440, 'y': 572, 'w': 56, 'h': 19, 'confidence': '0.13268811423430837', 'text': 'may'}, {'x': 1365, 'y': 593, 'w': 81, 'h': 10, 'confidence': '0.9998762619095432', 'text': 'time'}, {'x': 471, 'y': 592, 'w': 44, 'h': 6, 'confidence': '0.25879085063934326', 'text': 'Jioi'}, {'x': 1249, 'y': 592, 'w': 60, 'h': 28, 'confidence': '0.9999613889857206', 'text': 'the'}, {'x': 1281, 'y': 616, 'w': 97, 'h': 8, 'confidence': '0.6525564193725586', 'text': 'POST'}, {'x': 1084, 'y': 643, 'w': 171, 'h': 15, 'confidence': '0.9996488516354036', 'text': 'Disconnect'}, {'x': 1452, 'y': 613, 'w': 49, 'h': 20, 'confidence': '0.6932423710823059', 'text': 'bat/'}, {'x': 1410, 'y': 624, 'w': 49, 'h': 20, 'confidence': '0.998507874402141', 'text': 'the'}, {'x': 1175, 'y': 647, 'w': 121, 'h': 7, 'confidence': '0.7039958043741457', 'text': 'Longer'}, {'x': 1326, 'y': 654, 'w': 94, 'h': 0, 'confidence': '0.9979067781852247', 'text': 'expose'}, {'x': 1388, 'y': 662, 'w': 116, 'h': 7, 'confidence': '0.9318839760579541', 'text': 'soumettr'}, {'x': 1093, 'y': 667, 'w': 96, 'h': 19, 'confidence': '0.9645043501167536', 'text': 'Note:'}, {'x': 1283, 'y': 669, 'w': 55, 'h': 4, 'confidence': '0.9364353947631723', 'text': 'not'}, {'x': 1344, 'y': 679, 'w': 56, 'h': 4, 'confidence': '0.1838080722777894', 'text': 'pas :'}, {'x': 1437, 'y': 676, 'w': 66, 'h': 8, 'confidence': '0.9593015313148499', 'text': 'nlem'}, {'x': 1105, 'y': 709, 'w': 147, 'h': 6, 'confidence': '0.42715463343865745', 'text': 'CAUTion'}, {'x': 1386, 'y': 689, 'w': 62, 'h': 10, 'confidence': '0.9866556878683861', 'text': 'darf'}, {'x': 1116, 'y': 732, 'w': 197, 'h': 17, 'confidence': '0.7937447922745886', 'text': 'PRECAUTiON'}, {'x': 1327, 'y': 705, 'w': 71, 'h': 8, 'confidence': '0.9940030443287147', 'text': 'Akku'}, {'x': 348, 'y': 710, 'w': 37, 'h': 10, 'confidence': '0.7496906882023058', 'text': '502'}, {'x': 212, 'y': 723, 'w': 62, 'h': 0, 'confidence': '0.10736560285915446', 'text': '7PU502'}, {'x': 1283, 'y': 717, 'w': 53, 'h': 18, 'confidence': '0.9976631204636951', 'text': 'Der'}, {'x': 1125, 'y': 759, 'w': 160, 'h': 10, 'confidence': '0.3046624978206161', 'text': 'vorSICHT'}, {'x': 1409, 'y': 749, 'w': 71, 'h': 9, 'confidence': '0.8842564821243286', 'text': 'with'}, {'x': 1293, 'y': 785, 'w': 126, 'h': 8, 'confidence': '0.6187728086668371', 'text': 'complies'}, {'x': 1434, 'y': 772, 'w': 71, 'h': 2, 'confidence': '0.6894154882853152', 'text': 'caus'}, {'x': 226, 'y': 780, 'w': 105, 'h': 8, 'confidence': '0.9887271133633084', 'text': '6x2.5'}, {'x': 852, 'y': 787, 'w': 130, 'h': 6, 'confidence': '0.7892761422353302', 'text': 'mpliance'}, {'x': 1386, 'y': 784, 'w': 59, 'h': 9, 'confidence': '0.9927077920577196', 'text': 'not'}, {'x': 1403, 'y': 806, 'w': 101, 'h': 0, 'confidence': '0.9814279334532701', 'text': 'accept'}, {'x': 175, 'y': 792, 'w': 65, 'h': 24, 'confidence': '0.23297099206268942', 'text': 'Mi:'}, {'x': 1208, 'y': 809, 'w': 96, 'h': 0, 'confidence': '0.9994548963321086', 'text': 'device'}, {'x': 1332, 'y': 796, 'w': 62, 'h': 17, 'confidence': '0.9995916485786438', 'text': 'may'}, {'x': 1244, 'y': 823, 'w': 96, 'h': 2, 'confidence': '0.9986177887576773', 'text': 'device'}, {'x': 1335, 'y': 825, 'w': 78, 'h': 3, 'confidence': '0.9961733222007751', 'text': 'must'}, {'x': 1152, 'y': 820, 'w': 65, 'h': 16, 'confidence': '0.8573276996612549', 'text': 'This'}, {'x': 481, 'y': 863, 'w': 181, 'h': 10, 'confidence': '0.7310016617606906', 'text': 'Questions?'}, {'x': 662, 'y': 846, 'w': 100, 'h': 2, 'confidence': '0.394894309233046', 'text': 'receilal'}, {'x': 350, 'y': 845, 'w': 95, 'h': 11, 'confidence': '0.9993307590484619', 'text': 'DELL'}, {'x': 1188, 'y': 836, 'w': 67, 'h': 15, 'confidence': '0.6484206318855286', 'text': 'This'}, {'x': 1250, 'y': 848, 'w': 96, 'h': 0, 'confidence': '0.9985337626246917', 'text': 'device'}, {'x': 1408, 'y': 837, 'w': 66, 'h': 17, 'confidence': '0.22280991077423096', 'text': 'F(B)'}, {'x': 1237, 'y': 888, 'w': 183, 'h': 20, 'confidence': '0.5505895047228649', 'text': 'HCEs-S(B)NMB'}, {'x': 592, 'y': 865, 'w': 74, 'h': 9, 'confidence': '0.17890028824331866', 'text': 'cer'}, {'x': 1200, 'y': 859, 'w': 59, 'h': 18, 'confidence': '0.9098002314567566', 'text': 'this'}, {'x': 534, 'y': 883, 'w': 68, 'h': 7, 'confidence': '0.1272642838839988', 'text': 'aer'}, {'x': 367, 'y': 897, 'w': 128, 'h': 6, 'confidence': '0.7115022511109554', 'text': 'Battery'}, {'x': 588, 'y': 908, 'w': 108, 'h': 0, 'confidence': '0.7570753005969563', 'text': 'MN79H'}, {'x': 1183, 'y': 904, 'w': 65, 'h': 14, 'confidence': '0.9989248852584395', 'text': 'CAN'}, {'x': 766, 'y': 921, 'w': 58, 'h': 18, 'confidence': '0.1301835113329612', 'text': 'cE'}, {'x': 1064, 'y': 936, 'w': 54, 'h': 18, 'confidence': '0.9671801820058702', 'text': 'AAV'}, {'x': 552, 'y': 947, 'w': 79, 'h': 11, 'confidence': '0.48659686676342667', 'text': 'Leion'}, {'x': 634, 'y': 963, 'w': 135, 'h': 6, 'confidence': '0.12019045078679072', 'text': \"'03# E\"}, {'x': 391, 'y': 967, 'w': 91, 'h': 3, 'confidence': '0.2809291471455914', 'text': 'Modell'}, {'x': 443, 'y': 981, 'w': 122, 'h': 6, 'confidence': '0.38275105958553207', 'text': 'hargeable'}, {'x': 819, 'y': 980, 'w': 121, 'h': 2, 'confidence': '0.26083819821840093', 'text': 'MGRAmAh'}, {'x': 1307, 'y': 964, 'w': 46, 'h': 4, 'confidence': '0.5091004967689514', 'text': 'C~ ('}]}]\n",
      "> Images for page 41: [{'name': 'img_p40_1.png', 'height': 1200, 'width': 1500, 'x': 43.937020000000004, 'y': 66.09684299999998, 'original_width': 1500, 'original_height': 1200, 'ocr': [{'x': 294, 'y': 788, 'w': 64, 'h': 54, 'confidence': '0.9628112305723379', 'text': '33'}, {'x': 1109, 'y': 504, 'w': 113, 'h': 22, 'confidence': '0.9999621369217173', 'text': 'RESALE'}, {'x': 1054, 'y': 537, 'w': 79, 'h': 1, 'confidence': '0.24263523866024742', 'text': 'FOR E'}, {'x': 1000, 'y': 568, 'w': 80, 'h': 1, 'confidence': '0.9873146574933414', 'text': 'NOT'}, {'x': 939, 'y': 605, 'w': 85, 'h': 6, 'confidence': '0.778852954768633', 'text': 'DELL;'}, {'x': 765, 'y': 709, 'w': 192, 'h': 70, 'confidence': '0.9457294417156565', 'text': 'PROPERTY OF'}, {'x': 606, 'y': 673, 'w': 75, 'h': 0, 'confidence': '0.17651011982121423', 'text': '55w6-'}, {'x': 622, 'y': 703, 'w': 79, 'h': 14, 'confidence': '0.2339642417993783', 'text': ' .'}, {'x': 311, 'y': 855, 'w': 84, 'h': 7, 'confidence': '0.11713119078653769', 'text': 'Y .'}]}]\n",
      "> Images for page 42: [{'name': 'img_p41_1.png', 'height': 1495, 'width': 1652, 'x': 99.39780999999999, 'y': 66.09684199999998, 'original_width': 1652, 'original_height': 1495, 'ocr': [{'x': 1143, 'y': 295, 'w': 32, 'h': 14, 'confidence': '0.6768272519111633', 'text': '55,1'}, {'x': 78, 'y': 292, 'w': 66, 'h': 48, 'confidence': '0.9953833271821424', 'text': '6x'}, {'x': 314, 'y': 292, 'w': 64, 'h': 48, 'confidence': '0.9114182743725958', 'text': 'Ix'}, {'x': 1205, 'y': 327, 'w': 32, 'h': 18, 'confidence': '0.1316034602552076', 'text': '483'}, {'x': 79, 'y': 345, 'w': 162, 'h': 40, 'confidence': '0.9932011043628672', 'text': 'M1.6x2.5'}, {'x': 313, 'y': 343, 'w': 132, 'h': 40, 'confidence': '0.9943514767368219', 'text': 'M1.6x2'}, {'x': 1199, 'y': 1175, 'w': 44, 'h': 38, 'confidence': '0.6187736828582189', 'text': '6'}, {'x': 424, 'y': 554, 'w': 60, 'h': 4, 'confidence': '0.16497896995294917', 'text': 'Toledt'}, {'x': 321, 'y': 616, 'w': 52, 'h': 5, 'confidence': '0.3379552332933178', 'text': 'ccn !'}, {'x': 1131, 'y': 926, 'w': 154, 'h': 29, 'confidence': '0.9999610662387267', 'text': 'RESALE'}, {'x': 979, 'y': 1018, 'w': 101, 'h': 1, 'confidence': '0.9893302042613952', 'text': 'NOT'}, {'x': 893, 'y': 1067, 'w': 117, 'h': 8, 'confidence': '0.8584341098857784', 'text': 'DELL,'}, {'x': 650, 'y': 1212, 'w': 190, 'h': 51, 'confidence': '0.885629515243801', 'text': 'PROPERT'}, {'x': 430, 'y': 1167, 'w': 103, 'h': 1, 'confidence': '0.8318208456039429', 'text': '55w'}, {'x': 1076, 'y': 1257, 'w': 113, 'h': 20, 'confidence': '0.30878705184960337', 'text': 'OF DEL,'}]}]\n",
      "> Images for page 43: [{'name': 'img_p42_1.png', 'height': 1378, 'width': 1652, 'x': 99.39780999999999, 'y': 66.09683899999999, 'original_width': 1652, 'original_height': 1378, 'ocr': [{'x': 774, 'y': 8, 'w': 54, 'h': 24, 'confidence': '0.30665094465468984', 'text': 'ld'}, {'x': 844, 'y': 6, 'w': 66, 'h': 26, 'confidence': '0.3923307955265045', 'text': 'dlah'}, {'x': 1531, 'y': 43, 'w': 30, 'h': 18, 'confidence': '0.2787026093551782', 'text': 'MB'}, {'x': 439, 'y': 97, 'w': 36, 'h': 14, 'confidence': '0.9718323945999146', 'text': 'BATT'}, {'x': 229, 'y': 137, 'w': 32, 'h': 14, 'confidence': '0.6359854127683053', 'text': '6X2'}, {'x': 629, 'y': 135, 'w': 44, 'h': 18, 'confidence': '0.3669743291574618', 'text': '572.5'}, {'x': 975, 'y': 133, 'w': 28, 'h': 20, 'confidence': '0.16471607053318243', 'text': 'MT'}, {'x': 295, 'y': 191, 'w': 36, 'h': 16, 'confidence': '0.6542329268960642', 'text': 'DELL'}, {'x': 631, 'y': 193, 'w': 366, 'h': 16, 'confidence': '0.46368822909805835', 'text': 'Disconnect the battery before accessing any parts or devices'}, {'x': 631, 'y': 209, 'w': 32, 'h': 14, 'confidence': '0.9157395362854004', 'text': 'Nole'}, {'x': 673, 'y': 207, 'w': 172, 'h': 18, 'confidence': '0.13213700278018312', 'text': 'onger POSTtmemay ocqur'}, {'x': 853, 'y': 209, 'w': 298, 'h': 14, 'confidence': '0.17157221488223565', 'text': 'battery cable was disconneci #ror serwicelrepjig'}, {'x': 603, 'y': 241, 'w': 86, 'h': 16, 'confidence': '0.2779028982687695', 'text': '{E CAUTiON'}, {'x': 798, 'y': 246, 'w': 42, 'h': 8, 'confidence': '0.3633088598861356', 'text': '['}, {'x': 1054, 'y': 244, 'w': 32, 'h': 8, 'confidence': '0.14345397918012143', 'text': '. ` -C'}, {'x': 1131, 'y': 243, 'w': 46, 'h': 14, 'confidence': '0.4546310760980674', 'text': \"'\"}, {'x': 603, 'y': 255, 'w': 82, 'h': 16, 'confidence': '0.144607520249719', 'text': 'JF Sicht _'}, {'x': 1160, 'y': 258, 'w': 70, 'h': 8, 'confidence': '0.12991668272646084', 'text': 'e'}, {'x': 982, 'y': 294, 'w': 30, 'h': 8, 'confidence': '0.2140243419035528', 'text': 't'}, {'x': 418, 'y': 290, 'w': 66, 'h': 28, 'confidence': '0.41731457255867', 'text': '3'}, {'x': 296, 'y': 334, 'w': 34, 'h': 8, 'confidence': '0.1858329586098515', 'text': 'd'}, {'x': 361, 'y': 333, 'w': 54, 'h': 14, 'confidence': '0.15094202756881714', 'text': ' \\\\\\' \"'}, {'x': 683, 'y': 333, 'w': 30, 'h': 12, 'confidence': '0.11700518784460986', 'text': '\"2'}, {'x': 317, 'y': 359, 'w': 86, 'h': 40, 'confidence': '0.45282718392095145', 'text': '55wh:'}, {'x': 1129, 'y': 399, 'w': 74, 'h': 14, 'confidence': '0.1983958085253678', 'text': \"':3- .-\"}, {'x': 308, 'y': 400, 'w': 100, 'h': 26, 'confidence': '0.5261738652791845', 'text': 'Skalderrd'}, {'x': 879, 'y': 477, 'w': 32, 'h': 12, 'confidence': '0.23118711838830713', 'text': 'Jc'}, {'x': 1122, 'y': 476, 'w': 88, 'h': 28, 'confidence': '0.1648602932691574', 'text': '3. `'}, {'x': 229, 'y': 551, 'w': 46, 'h': 18, 'confidence': '0.15135728667319603', 'text': '67245'}, {'x': 1373, 'y': 549, 'w': 52, 'h': 20, 'confidence': '0.3198045796099086', 'text': 'MI.6x'}, {'x': 1123, 'y': 909, 'w': 26, 'h': 12, 'confidence': '0.26131345111873244', 'text': 'C04'}, {'x': 287, 'y': 913, 'w': 36, 'h': 14, 'confidence': '0.13455548882484436', 'text': '6co4'}, {'x': 1087, 'y': 919, 'w': 36, 'h': 14, 'confidence': '0.28884369134902954', 'text': 'PLOZ'}, {'x': 261, 'y': 925, 'w': 34, 'h': 14, 'confidence': '0.16213569045066833', 'text': 'PLDZ'}, {'x': 63, 'y': 939, 'w': 36, 'h': 14, 'confidence': '0.280131995677948', 'text': 'Ut1o'}, {'x': 183, 'y': 937, 'w': 42, 'h': 12, 'confidence': '0.12575331828311226', 'text': 'CLIP?'}, {'x': 891, 'y': 933, 'w': 36, 'h': 14, 'confidence': '0.23780745267868042', 'text': 'Ut1o'}, {'x': 233, 'y': 953, 'w': 32, 'h': 16, 'confidence': '0.35460567474365234', 'text': 'Ddb]'}, {'x': 271, 'y': 955, 'w': 36, 'h': 14, 'confidence': '0.4457971751689911', 'text': 'PLOJ'}, {'x': 1061, 'y': 949, 'w': 30, 'h': 14, 'confidence': '0.1371164619922638', 'text': 'Pdb]'}, {'x': 81, 'y': 969, 'w': 42, 'h': 14, 'confidence': '0.11172868485054031', 'text': \"pc52o'\"}, {'x': 235, 'y': 997, 'w': 24, 'h': 14, 'confidence': '0.36061910194422236', 'text': 'JIO'}, {'x': 19, 'y': 1041, 'w': 42, 'h': 14, 'confidence': '0.3932435247919404', 'text': 'pusoz'}, {'x': 847, 'y': 1037, 'w': 34, 'h': 14, 'confidence': '0.7641935348510742', 'text': 'Puso'}, {'x': 61, 'y': 1069, 'w': 42, 'h': 14, 'confidence': '0.15565698279994902', 'text': 'PLs0s'}, {'x': 28, 'y': 1100, 'w': 76, 'h': 26, 'confidence': '0.41639818206372936', 'text': '6x2.5'}, {'x': 628, 'y': 1100, 'w': 124, 'h': 30, 'confidence': '0.514873269842367', 'text': 'M1,.6x2.5'}, {'x': 1454, 'y': 1094, 'w': 126, 'h': 30, 'confidence': '0.32463124362290796', 'text': 'M1 6x2.5'}, {'x': 136, 'y': 1190, 'w': 58, 'h': 24, 'confidence': '0.999198317527771', 'text': 'DELL'}, {'x': 680, 'y': 1194, 'w': 138, 'h': 24, 'confidence': '0.6042942129542879', 'text': 'Disconnect th'}, {'x': 962, 'y': 1184, 'w': 60, 'h': 26, 'confidence': '0.6936852931976318', 'text': 'DFLI'}, {'x': 1508, 'y': 1190, 'w': 139, 'h': 21, 'confidence': '0.4043981290909141', 'text': 'Disconnectthr'}, {'x': 680, 'y': 1216, 'w': 132, 'h': 27, 'confidence': '0.9928712294284323', 'text': 'Note: Longer'}, {'x': 1508, 'y': 1211, 'w': 132, 'h': 28, 'confidence': '0.783171982374466', 'text': 'Note: Longer'}, {'x': 132, 'y': 1237, 'w': 182, 'h': 31, 'confidence': '0.6217525529660753', 'text': 'Baltery Questons?'}, {'x': 615, 'y': 1249, 'w': 139, 'h': 25, 'confidence': '0.5056988653601596', 'text': 'CAUTION Da'}, {'x': 1444, 'y': 1244, 'w': 172, 'h': 24, 'confidence': '0.3683334723481705', 'text': '. .'}, {'x': 134, 'y': 1264, 'w': 344, 'h': 26, 'confidence': '0.19784220078835557', 'text': 'Go towwwdell comiregpletory_comppllenge'}, {'x': 1444, 'y': 1265, 'w': 186, 'h': 25, 'confidence': '0.2284371901665294', 'text': 'PRECAUTIONNe'}, {'x': 616, 'y': 1272, 'w': 202, 'h': 24, 'confidence': '0.32074353990746785', 'text': 'PRECAUTION Nep'}, {'x': 617, 'y': 1291, 'w': 197, 'h': 28, 'confidence': '0.15581943444638616', 'text': 'VORSICHT Der Ariat'}, {'x': 265, 'y': 1305, 'w': 62, 'h': 20, 'confidence': '0.12219459563493729', 'text': '{7eh'}, {'x': 687, 'y': 1321, 'w': 119, 'h': 27, 'confidence': '0.11266938032787731', 'text': '~7144\\\\\\'\"'}, {'x': 139, 'y': 1357, 'w': 36, 'h': 14, 'confidence': '0.24674589873655026', 'text': 'te'}, {'x': 759, 'y': 1357, 'w': 26, 'h': 14, 'confidence': '0.5217978855547738', 'text': 'e5'}, {'x': 718, 'y': 259, 'w': 25, 'h': 6, 'confidence': '0.17285996675491333', 'text': \".. '\"}, {'x': 1036, 'y': 293, 'w': 40, 'h': 6, 'confidence': '0.2456599662372636', 'text': ' :'}]}]\n",
      "> Images for page 44: [{'name': 'img_p43_1.png', 'height': 1114, 'width': 1652, 'x': 99.39780999999999, 'y': 294.38469399999997, 'original_width': 1652, 'original_height': 1114, 'ocr': [{'x': 821, 'y': 195, 'w': 76, 'h': 36, 'confidence': '0.9999520287699144', 'text': 'SSD'}, {'x': 80, 'y': 288, 'w': 64, 'h': 48, 'confidence': '0.9667330538482088', 'text': 'Ix'}, {'x': 77, 'y': 341, 'w': 102, 'h': 40, 'confidence': '0.9712029099464417', 'text': 'M2x3'}, {'x': 1577, 'y': 659, 'w': 28, 'h': 12, 'confidence': '0.6013719439506531', 'text': '2007'}, {'x': 1316, 'y': 695, 'w': 57, 'h': 21, 'confidence': '0.9972053922981768', 'text': 'SKhynix'}, {'x': 1357, 'y': 713, 'w': 108, 'h': 14, 'confidence': '0.10717910619628063', 'text': '0 Pin Ovotiw # 24'}, {'x': 150, 'y': 726, 'w': 96, 'h': 32, 'confidence': '0.11486252726668744', 'text': 'OCiCoO'}, {'x': 1577, 'y': 743, 'w': 24, 'h': 12, 'confidence': '0.4658172130584717', 'text': 'plmi'}, {'x': 765, 'y': 885, 'w': 36, 'h': 20, 'confidence': '0.4649393212182234', 'text': 'MIB'}, {'x': 1594, 'y': 882, 'w': 36, 'h': 24, 'confidence': '0.7711730777716135', 'text': 'MB'}, {'x': 1360, 'y': 920, 'w': 94, 'h': 26, 'confidence': '0.10828351452537538', 'text': '~ / :'}, {'x': 32, 'y': 998, 'w': 572, 'h': 24, 'confidence': '0.3389138324025013', 'text': 'Disconnect the battery before accessing any parts oridevices'}, {'x': 31, 'y': 1019, 'w': 50, 'h': 20, 'confidence': '0.5844756960868835', 'text': 'Note'}, {'x': 863, 'y': 1021, 'w': 46, 'h': 16, 'confidence': '0.24110418269798542', 'text': '~`'}, {'x': 928, 'y': 1016, 'w': 206, 'h': 26, 'confidence': '0.5080528665241552', 'text': 'onger POST tme may'}, {'x': 31, 'y': 1069, 'w': 122, 'h': 18, 'confidence': '0.12226209374316918', 'text': 'Pn'}, {'x': 29, 'y': 1085, 'w': 100, 'h': 20, 'confidence': '0.2213182701577897', 'text': ' .'}]}]\n",
      "> Images for page 45: [{'name': 'img_p44_1.png', 'height': 1114, 'width': 1652, 'x': 99.39780999999999, 'y': 109.29686400000003, 'original_width': 1652, 'original_height': 1114, 'ocr': [{'x': 821, 'y': 195, 'w': 76, 'h': 36, 'confidence': '0.9999520287699144', 'text': 'SSD'}, {'x': 80, 'y': 288, 'w': 64, 'h': 48, 'confidence': '0.9667330538482088', 'text': 'Ix'}, {'x': 77, 'y': 341, 'w': 102, 'h': 40, 'confidence': '0.9712029099464417', 'text': 'M2x3'}, {'x': 1577, 'y': 649, 'w': 28, 'h': 12, 'confidence': '0.7103515055191393', 'text': '200'}, {'x': 486, 'y': 695, 'w': 59, 'h': 21, 'confidence': '0.9882216190858987', 'text': 'SKhynix'}, {'x': 527, 'y': 713, 'w': 64, 'h': 14, 'confidence': '0.1697184588689518', 'text': '0 Pim Wvotim'}, {'x': 601, 'y': 725, 'w': 36, 'h': 12, 'confidence': '0.24848718016710347', 'text': 'JI\"'}, {'x': 977, 'y': 713, 'w': 258, 'h': 38, 'confidence': '0.20714555140208865', 'text': '00101009000wo2i3'}, {'x': 741, 'y': 755, 'w': 32, 'h': 14, 'confidence': '0.46320199040422166', 'text': \"Pumi'\"}, {'x': 1059, 'y': 745, 'w': 180, 'h': 40, 'confidence': '0.10682706184511356', 'text': 'Oalx:9KNEI'}, {'x': 1588, 'y': 802, 'w': 32, 'h': 24, 'confidence': '0.17938297986984253', 'text': '7894'}, {'x': 1590, 'y': 872, 'w': 40, 'h': 24, 'confidence': '0.5041695620167292', 'text': 'MB'}, {'x': 764, 'y': 882, 'w': 38, 'h': 24, 'confidence': '0.5441391091538241', 'text': 'MB'}, {'x': 1363, 'y': 913, 'w': 30, 'h': 20, 'confidence': '0.44325867511725936', 'text': '\"\\\\\\''}, {'x': 1335, 'y': 991, 'w': 56, 'h': 16, 'confidence': '0.39480975732950174', 'text': \" '\"}, {'x': 917, 'y': 1006, 'w': 217, 'h': 26, 'confidence': '0.5916011504322707', 'text': 'Longer POST time may'}, {'x': 1137, 'y': 1009, 'w': 244, 'h': 20, 'confidence': '0.12676476719487034', 'text': ' .'}, {'x': 857, 'y': 1037, 'w': 90, 'h': 20, 'confidence': '0.39745116600460256', 'text': ' .'}, {'x': 1500, 'y': 1052, 'w': 60, 'h': 24, 'confidence': '0.15689002154540777', 'text': 'ue'}, {'x': 29, 'y': 1065, 'w': 124, 'h': 20, 'confidence': '0.10259579444653043', 'text': 'ARACAUTON'}, {'x': 29, 'y': 1083, 'w': 100, 'h': 20, 'confidence': '0.2709412399773049', 'text': 'VORSCHT'}]}]\n",
      "> Images for page 46: [{'name': 'img_p45_1.png', 'height': 1114, 'width': 1652, 'x': 99.39780999999999, 'y': 66.09684400000003, 'original_width': 1652, 'original_height': 1114, 'ocr': [{'x': 1335, 'y': 159, 'w': 26, 'h': 12, 'confidence': '0.3636882495996635', 'text': '344'}, {'x': 821, 'y': 195, 'w': 76, 'h': 36, 'confidence': '0.9999520287699144', 'text': 'SSD'}, {'x': 1143, 'y': 289, 'w': 32, 'h': 16, 'confidence': '0.372852739883333', 'text': '55'}, {'x': 80, 'y': 288, 'w': 64, 'h': 48, 'confidence': '0.9667330538482088', 'text': 'Ix'}, {'x': 77, 'y': 341, 'w': 102, 'h': 40, 'confidence': '0.9712029099464417', 'text': 'M2x3'}, {'x': 958, 'y': 702, 'w': 82, 'h': 8, 'confidence': '0.26360234314049213', 'text': 'SOU SIATL DHYL'}, {'x': 222, 'y': 703, 'w': 113, 'h': 38, 'confidence': '0.16205405880845983', 'text': 'Oodoon'}, {'x': 1126, 'y': 707, 'w': 61, 'h': 30, 'confidence': '0.846610434573516', 'text': 'CUK'}, {'x': 1573, 'y': 741, 'w': 28, 'h': 12, 'confidence': '0.3336836099624634', 'text': 'Olmi'}, {'x': 1565, 'y': 753, 'w': 30, 'h': 14, 'confidence': '0.13112284243106842', 'text': 'Pumi'}, {'x': 763, 'y': 885, 'w': 36, 'h': 20, 'confidence': '0.42626679822180114', 'text': 'MIB'}, {'x': 1588, 'y': 878, 'w': 38, 'h': 24, 'confidence': '0.5128428655952667', 'text': 'MB'}, {'x': 44, 'y': 918, 'w': 66, 'h': 26, 'confidence': '0.5442232655357508', 'text': '6x2 5'}, {'x': 522, 'y': 918, 'w': 106, 'h': 26, 'confidence': '0.28778680416397573', 'text': '\"\\\\\\' ` ^'}, {'x': 1350, 'y': 914, 'w': 86, 'h': 24, 'confidence': '0.23791334270697714', 'text': \"A' ' .'\"}, {'x': 53, 'y': 1001, 'w': 500, 'h': 20, 'confidence': '0.6348396019460564', 'text': 'Disconnect the battery before accessing any parts 0r devices'}, {'x': 880, 'y': 996, 'w': 501, 'h': 21, 'confidence': '0.3114328264704114', 'text': 'Disconnectte battery before accessing any parts ordevices'}, {'x': 53, 'y': 1021, 'w': 40, 'h': 18, 'confidence': '0.9349768757820129', 'text': 'Note'}, {'x': 110, 'y': 1018, 'w': 654, 'h': 24, 'confidence': '0.18506572661437545', 'text': 'onger POST time may occur if baltery cable Was disconnecte ton serviceirenain'}, {'x': 869, 'y': 1061, 'w': 88, 'h': 18, 'confidence': '0.3482438674270475', 'text': ' .'}, {'x': 11, 'y': 1081, 'w': 119, 'h': 25, 'confidence': '0.3780403226735381', 'text': 'ORSICHTBer'}, {'x': 4, 'y': 919, 'w': 40, 'h': 23, 'confidence': '0.10281399473889904', 'text': 'M4'}]}]\n",
      "> Images for page 47: [{'name': 'img_p46_1.png', 'height': 1114, 'width': 1652, 'x': 99.39780999999999, 'y': 66.09684400000003, 'original_width': 1652, 'original_height': 1114, 'ocr': [{'x': 821, 'y': 195, 'w': 76, 'h': 36, 'confidence': '0.9999520287699144', 'text': 'SSD'}, {'x': 1143, 'y': 289, 'w': 32, 'h': 14, 'confidence': '0.28373281708468623', 'text': '35 .'}, {'x': 80, 'y': 288, 'w': 64, 'h': 48, 'confidence': '0.9667330538482088', 'text': 'Ix'}, {'x': 77, 'y': 341, 'w': 102, 'h': 40, 'confidence': '0.9712029099464417', 'text': 'M2x3'}, {'x': 390, 'y': 702, 'w': 32, 'h': 8, 'confidence': '0.12013823500201569', 'text': 'HICxn'}, {'x': 289, 'y': 711, 'w': 72, 'h': 42, 'confidence': '0.18702895644081882', 'text': 'FYK'}, {'x': 1049, 'y': 705, 'w': 154, 'h': 36, 'confidence': '0.25521168356656304', 'text': 'OodOOowo'}, {'x': 1082, 'y': 748, 'w': 46, 'h': 28, 'confidence': '0.7166368473556127', 'text': 'Oal'}, {'x': 760, 'y': 880, 'w': 38, 'h': 24, 'confidence': '0.9163843324443731', 'text': 'MB'}, {'x': 1590, 'y': 882, 'w': 36, 'h': 24, 'confidence': '0.25476203491826815', 'text': 'MB'}, {'x': 6, 'y': 916, 'w': 104, 'h': 24, 'confidence': '0.14018240029734405', 'text': ' 6X2.6'}, {'x': 520, 'y': 914, 'w': 88, 'h': 26, 'confidence': '0.15000289651697218', 'text': \"i' . . '\"}, {'x': 832, 'y': 918, 'w': 106, 'h': 26, 'confidence': '0.150572336810548', 'text': '11 \"/ !'}, {'x': 1352, 'y': 918, 'w': 38, 'h': 26, 'confidence': '0.11691226636384601', 'text': 'M:'}, {'x': 881, 'y': 1001, 'w': 500, 'h': 20, 'confidence': '0.5556496844316801', 'text': 'Disconnectthe battery before accessing any parts Or devices'}, {'x': 53, 'y': 1017, 'w': 40, 'h': 16, 'confidence': '0.20301800023322272', 'text': 'Na'}, {'x': 880, 'y': 1020, 'w': 43, 'h': 20, 'confidence': '0.6827693581581116', 'text': 'Nole'}, {'x': 928, 'y': 1018, 'w': 244, 'h': 24, 'confidence': '0.2143252018514366', 'text': 'Lorger POST tme May occur'}, {'x': 38, 'y': 1062, 'w': 90, 'h': 18, 'confidence': '0.22899940609931946', 'text': \"' .\"}, {'x': 1107, 'y': 1071, 'w': 58, 'h': 14, 'confidence': '0.2605197785908473', 'text': 'e'}, {'x': 1501, 'y': 1063, 'w': 58, 'h': 20, 'confidence': '0.3596880882513971', 'text': \"Pumi'\"}]}]\n",
      "> Images for page 48: [{'name': 'img_p47_1.png', 'height': 1114, 'width': 1652, 'x': 99.39780999999999, 'y': 66.09684400000003, 'original_width': 1652, 'original_height': 1114, 'ocr': [{'x': 1133, 'y': 293, 'w': 32, 'h': 14, 'confidence': '0.14529666130204877', 'text': '.'}, {'x': 78, 'y': 288, 'w': 66, 'h': 48, 'confidence': '0.8658165546375555', 'text': '2x'}, {'x': 79, 'y': 339, 'w': 162, 'h': 42, 'confidence': '0.8933717335169721', 'text': 'M1.6x2.5'}, {'x': 249, 'y': 429, 'w': 52, 'h': 16, 'confidence': '0.2661375762818126', 'text': 'Cywt('}, {'x': 1259, 'y': 447, 'w': 22, 'h': 20, 'confidence': '0.34174759571955077', 'text': '32'}, {'x': 1233, 'y': 487, 'w': 62, 'h': 16, 'confidence': '0.19884557179065585', 'text': 'M16x23:'}, {'x': 1303, 'y': 485, 'w': 34, 'h': 14, 'confidence': '0.3845707178115845', 'text': 'Upti'}, {'x': 1434, 'y': 514, 'w': 46, 'h': 26, 'confidence': '0.9542834919441167', 'text': 'MBI'}, {'x': 1334, 'y': 658, 'w': 54, 'h': 58, 'confidence': '0.11608693337516725', 'text': '1 8'}, {'x': 695, 'y': 807, 'w': 36, 'h': 14, 'confidence': '0.16342794551044978', 'text': '\"Puat'}, {'x': 707, 'y': 839, 'w': 42, 'h': 16, 'confidence': '0.14495185017585754', 'text': 'UPL}'}, {'x': 715, 'y': 855, 'w': 34, 'h': 16, 'confidence': '0.3706474006175995', 'text': 'PLa?'}, {'x': 739, 'y': 887, 'w': 14, 'h': 34, 'confidence': '0.2665127848938518', 'text': '3'}, {'x': 780, 'y': 962, 'w': 45, 'h': 21, 'confidence': '0.10485388213239145', 'text': \"'PLMZS\"}, {'x': 813, 'y': 983, 'w': 60, 'h': 14, 'confidence': '0.10185690787602103', 'text': 'oopdzobil'}, {'x': 1175, 'y': 981, 'w': 50, 'h': 14, 'confidence': '0.19526882469654083', 'text': 'ppso'}, {'x': 831, 'y': 995, 'w': 34, 'h': 12, 'confidence': '0.4205246764463084', 'text': 'Pozos'}, {'x': 953, 'y': 989, 'w': 44, 'h': 14, 'confidence': '0.6877638407210955', 'text': 'RICDZ'}, {'x': 953, 'y': 1001, 'w': 44, 'h': 14, 'confidence': '0.724128490671949', 'text': 'RICDS'}, {'x': 1011, 'y': 999, 'w': 84, 'h': 16, 'confidence': '0.1884417474228958', 'text': 'PCJO1 Pc520'}, {'x': 953, 'y': 1011, 'w': 44, 'h': 14, 'confidence': '0.2107031521441797', 'text': 'RtcoJ'}, {'x': 1006, 'y': 1010, 'w': 64, 'h': 32, 'confidence': '0.1285701544549246', 'text': 'g8 : 8'}, {'x': 1093, 'y': 1023, 'w': 42, 'h': 14, 'confidence': '0.551843426778983', 'text': 'Puso]'}, {'x': 971, 'y': 1039, 'w': 52, 'h': 16, 'confidence': '0.38593238920079614', 'text': 'pubola'}, {'x': 731, 'y': 1059, 'w': 34, 'h': 14, 'confidence': '0.33573793613303093', 'text': 'Upl'}, {'x': 1320, 'y': 1052, 'w': 52, 'h': 32, 'confidence': '0.22998667827585959', 'text': '2te'}, {'x': 1211, 'y': 1077, 'w': 60, 'h': 14, 'confidence': '0.369938936887704', 'text': 'Mi6y?5'}]}, {'name': 'img_p47_2.png', 'height': 1114, 'width': 1652, 'x': 99.39780999999999, 'y': 369.03685400000006, 'original_width': 1652, 'original_height': 1114, 'ocr': [{'x': 1133, 'y': 293, 'w': 32, 'h': 14, 'confidence': '0.14529666130204877', 'text': '.'}, {'x': 78, 'y': 288, 'w': 66, 'h': 48, 'confidence': '0.8658165546375555', 'text': '2x'}, {'x': 79, 'y': 339, 'w': 162, 'h': 42, 'confidence': '0.8933717335169721', 'text': 'M1.6x2.5'}, {'x': 1159, 'y': 517, 'w': 40, 'h': 14, 'confidence': '0.1044324126057824', 'text': '\"Cpur'}, {'x': 153, 'y': 537, 'w': 50, 'h': 16, 'confidence': '0.3502665274075926', 'text': 'Miex3'}, {'x': 163, 'y': 559, 'w': 40, 'h': 14, 'confidence': '0.17762403529111906', 'text': 'zi'}, {'x': 1320, 'y': 802, 'w': 30, 'h': 34, 'confidence': '0.9999995231628986', 'text': '2'}, {'x': 925, 'y': 873, 'w': 34, 'h': 20, 'confidence': '0.13222919404506683', 'text': '0 0'}, {'x': 275, 'y': 897, 'w': 36, 'h': 14, 'confidence': '0.2940736413002014', 'text': 'Wpoz'}, {'x': 836, 'y': 938, 'w': 26, 'h': 24, 'confidence': '0.31081742055916095', 'text': '3'}, {'x': 457, 'y': 977, 'w': 28, 'h': 14, 'confidence': '0.17584700159414313', 'text': 'Dz'}, {'x': 751, 'y': 971, 'w': 36, 'h': 16, 'confidence': '0.17962458038301324', 'text': 'PLoz'}, {'x': 319, 'y': 981, 'w': 76, 'h': 16, 'confidence': '0.11784926086821217', 'text': 'MWJIZcPdzi'}, {'x': 551, 'y': 997, 'w': 44, 'h': 14, 'confidence': '0.21845627314635147', 'text': 'Pc52J'}, {'x': 818, 'y': 986, 'w': 78, 'h': 24, 'confidence': '0.11149866603889663', 'text': '12uecbzs'}, {'x': 605, 'y': 999, 'w': 54, 'h': 18, 'confidence': '0.5507439511418585', 'text': '3CLIPJ'}, {'x': 709, 'y': 1023, 'w': 36, 'h': 14, 'confidence': '0.21662382781505585', 'text': 'wodi'}, {'x': 209, 'y': 1021, 'w': 44, 'h': 42, 'confidence': '0.5159189514207931', 'text': 'Mf'}, {'x': 509, 'y': 1037, 'w': 44, 'h': 14, 'confidence': '0.45703173794107893', 'text': 'Pu502'}, {'x': 727, 'y': 1045, 'w': 44, 'h': 14, 'confidence': '0.25216059553728365', 'text': 'PCB45'}, {'x': 731, 'y': 1061, 'w': 34, 'h': 14, 'confidence': '0.2601073682308197', 'text': 'PCBD'}, {'x': 611, 'y': 1067, 'w': 34, 'h': 14, 'confidence': '0.8277488350868225', 'text': 'Jioi'}, {'x': 903, 'y': 836, 'w': 10, 'h': 47, 'confidence': '0.11570654285379423', 'text': '3'}, {'x': 896, 'y': 864, 'w': 55, 'h': 16, 'confidence': '0.6968509696017834', 'text': '282'}]}]\n",
      "> Images for page 49: [{'name': 'img_p48_1.png', 'height': 1114, 'width': 1652, 'x': 99.39780999999999, 'y': 174.29686400000003, 'original_width': 1652, 'original_height': 1114, 'ocr': [{'x': 1133, 'y': 293, 'w': 32, 'h': 14, 'confidence': '0.14529666130204877', 'text': '.'}, {'x': 78, 'y': 288, 'w': 66, 'h': 48, 'confidence': '0.8658165546375555', 'text': '2x'}, {'x': 79, 'y': 339, 'w': 162, 'h': 42, 'confidence': '0.8933717335169721', 'text': 'M1.6x2.5'}, {'x': 249, 'y': 429, 'w': 52, 'h': 16, 'confidence': '0.2661375762818126', 'text': 'Cywt('}, {'x': 1259, 'y': 447, 'w': 22, 'h': 20, 'confidence': '0.34174759571955077', 'text': '32'}, {'x': 1233, 'y': 487, 'w': 62, 'h': 16, 'confidence': '0.19884557179065585', 'text': 'M16x23:'}, {'x': 1303, 'y': 485, 'w': 34, 'h': 14, 'confidence': '0.3845707178115845', 'text': 'Upti'}, {'x': 1434, 'y': 514, 'w': 46, 'h': 26, 'confidence': '0.9542834919441167', 'text': 'MBI'}, {'x': 1334, 'y': 658, 'w': 54, 'h': 58, 'confidence': '0.11608693337516725', 'text': '1 8'}, {'x': 695, 'y': 807, 'w': 36, 'h': 14, 'confidence': '0.16342794551044978', 'text': '\"Puat'}, {'x': 707, 'y': 839, 'w': 42, 'h': 16, 'confidence': '0.14495185017585754', 'text': 'UPL}'}, {'x': 715, 'y': 855, 'w': 34, 'h': 16, 'confidence': '0.3706474006175995', 'text': 'PLa?'}, {'x': 739, 'y': 887, 'w': 14, 'h': 34, 'confidence': '0.2665127848938518', 'text': '3'}, {'x': 780, 'y': 962, 'w': 45, 'h': 21, 'confidence': '0.10485388213239145', 'text': \"'PLMZS\"}, {'x': 813, 'y': 983, 'w': 60, 'h': 14, 'confidence': '0.10185690787602103', 'text': 'oopdzobil'}, {'x': 1175, 'y': 981, 'w': 50, 'h': 14, 'confidence': '0.19526882469654083', 'text': 'ppso'}, {'x': 831, 'y': 995, 'w': 34, 'h': 12, 'confidence': '0.4205246764463084', 'text': 'Pozos'}, {'x': 953, 'y': 989, 'w': 44, 'h': 14, 'confidence': '0.6877638407210955', 'text': 'RICDZ'}, {'x': 953, 'y': 1001, 'w': 44, 'h': 14, 'confidence': '0.724128490671949', 'text': 'RICDS'}, {'x': 1011, 'y': 999, 'w': 84, 'h': 16, 'confidence': '0.1884417474228958', 'text': 'PCJO1 Pc520'}, {'x': 953, 'y': 1011, 'w': 44, 'h': 14, 'confidence': '0.2107031521441797', 'text': 'RtcoJ'}, {'x': 1006, 'y': 1010, 'w': 64, 'h': 32, 'confidence': '0.1285701544549246', 'text': 'g8 : 8'}, {'x': 1093, 'y': 1023, 'w': 42, 'h': 14, 'confidence': '0.551843426778983', 'text': 'Puso]'}, {'x': 971, 'y': 1039, 'w': 52, 'h': 16, 'confidence': '0.38593238920079614', 'text': 'pubola'}, {'x': 731, 'y': 1059, 'w': 34, 'h': 14, 'confidence': '0.33573793613303093', 'text': 'Upl'}, {'x': 1320, 'y': 1052, 'w': 52, 'h': 32, 'confidence': '0.22998667827585959', 'text': '2te'}, {'x': 1211, 'y': 1077, 'w': 58, 'h': 14, 'confidence': '0.4149103829525363', 'text': 'Misy?5'}]}, {'name': 'img_p48_2.png', 'height': 1114, 'width': 1652, 'x': 99.39780999999999, 'y': 477.2368640000001, 'original_width': 1652, 'original_height': 1114, 'ocr': [{'x': 1133, 'y': 293, 'w': 32, 'h': 14, 'confidence': '0.14529666130204877', 'text': '.'}, {'x': 78, 'y': 288, 'w': 66, 'h': 48, 'confidence': '0.8658165546375555', 'text': '2x'}, {'x': 79, 'y': 339, 'w': 162, 'h': 42, 'confidence': '0.8933717335169721', 'text': 'M1.6x2.5'}, {'x': 1159, 'y': 517, 'w': 40, 'h': 14, 'confidence': '0.1044324126057824', 'text': '\"Cpur'}, {'x': 153, 'y': 537, 'w': 50, 'h': 16, 'confidence': '0.3502665274075926', 'text': 'Miex3'}, {'x': 163, 'y': 559, 'w': 40, 'h': 14, 'confidence': '0.17762403529111906', 'text': 'zi'}, {'x': 1320, 'y': 802, 'w': 30, 'h': 34, 'confidence': '0.9999995231628986', 'text': '2'}, {'x': 925, 'y': 873, 'w': 34, 'h': 20, 'confidence': '0.13222919404506683', 'text': '0 0'}, {'x': 275, 'y': 897, 'w': 36, 'h': 14, 'confidence': '0.2940736413002014', 'text': 'Wpoz'}, {'x': 836, 'y': 938, 'w': 26, 'h': 24, 'confidence': '0.31081742055916095', 'text': '3'}, {'x': 457, 'y': 977, 'w': 28, 'h': 14, 'confidence': '0.17584700159414313', 'text': 'Dz'}, {'x': 751, 'y': 971, 'w': 36, 'h': 16, 'confidence': '0.17962458038301324', 'text': 'PLoz'}, {'x': 351, 'y': 983, 'w': 42, 'h': 14, 'confidence': '0.20897547331583116', 'text': 'ZcP0z'}, {'x': 551, 'y': 997, 'w': 44, 'h': 14, 'confidence': '0.21845627314635147', 'text': 'Pc52J'}, {'x': 818, 'y': 986, 'w': 78, 'h': 24, 'confidence': '0.11149866603889663', 'text': '12uecbzs'}, {'x': 605, 'y': 999, 'w': 54, 'h': 18, 'confidence': '0.5507439511418585', 'text': '3CLIPJ'}, {'x': 709, 'y': 1023, 'w': 36, 'h': 14, 'confidence': '0.21662382781505585', 'text': 'wodi'}, {'x': 209, 'y': 1021, 'w': 44, 'h': 42, 'confidence': '0.5159189514207931', 'text': 'Mf'}, {'x': 509, 'y': 1037, 'w': 44, 'h': 14, 'confidence': '0.45703173794107893', 'text': 'Pu502'}, {'x': 727, 'y': 1045, 'w': 44, 'h': 14, 'confidence': '0.25216059553728365', 'text': 'PCB45'}, {'x': 731, 'y': 1061, 'w': 34, 'h': 14, 'confidence': '0.2601073682308197', 'text': 'PCBD'}, {'x': 611, 'y': 1067, 'w': 34, 'h': 14, 'confidence': '0.8277488350868225', 'text': 'Jioi'}, {'x': 903, 'y': 836, 'w': 10, 'h': 47, 'confidence': '0.11570654285379423', 'text': '3'}, {'x': 896, 'y': 864, 'w': 55, 'h': 16, 'confidence': '0.6968509696017834', 'text': '282'}]}]\n",
      "> Images for page 50: [{'name': 'img_p49_1.png', 'height': 1114, 'width': 1652, 'x': 99.39780999999999, 'y': 458.512554, 'original_width': 1652, 'original_height': 1114, 'ocr': [{'x': 1143, 'y': 291, 'w': 32, 'h': 14, 'confidence': '0.41652189318997634', 'text': '55 ,,'}, {'x': 80, 'y': 288, 'w': 66, 'h': 48, 'confidence': '0.8122026111190773', 'text': '4x'}, {'x': 1228, 'y': 570, 'w': 34, 'h': 24, 'confidence': '0.7724726314913875', 'text': 'HB'}, {'x': 710, 'y': 624, 'w': 46, 'h': 24, 'confidence': '0.9723479115061587', 'text': 'CCD'}, {'x': 886, 'y': 614, 'w': 74, 'h': 26, 'confidence': '0.11831922582487152', 'text': 'OLEDI'}, {'x': 228, 'y': 636, 'w': 100, 'h': 32, 'confidence': '0.19733051682216188', 'text': 'ATJOHODHOCO'}, {'x': 710, 'y': 930, 'w': 30, 'h': 28, 'confidence': '1.0', 'text': '2'}, {'x': 932, 'y': 932, 'w': 24, 'h': 24, 'confidence': '1.0', 'text': '4'}, {'x': 1452, 'y': 1084, 'w': 36, 'h': 26, 'confidence': '0.26050690029927703', 'text': '336'}]}]\n",
      "> Images for page 51: [{'name': 'img_p50_1.png', 'height': 1114, 'width': 1652, 'x': 99.39780999999999, 'y': 298.084704, 'original_width': 1652, 'original_height': 1114, 'ocr': [{'x': 1143, 'y': 291, 'w': 32, 'h': 14, 'confidence': '0.41652189318997634', 'text': '55 ,,'}, {'x': 80, 'y': 288, 'w': 66, 'h': 48, 'confidence': '0.8122026111190773', 'text': '4x'}, {'x': 1228, 'y': 570, 'w': 34, 'h': 24, 'confidence': '0.7724726314913875', 'text': 'HB'}, {'x': 710, 'y': 624, 'w': 46, 'h': 24, 'confidence': '0.9723479115061587', 'text': 'CCD'}, {'x': 886, 'y': 614, 'w': 74, 'h': 26, 'confidence': '0.11831922582487152', 'text': 'OLEDI'}, {'x': 228, 'y': 636, 'w': 100, 'h': 32, 'confidence': '0.19733051682216188', 'text': 'ATJOHODHOCO'}, {'x': 710, 'y': 930, 'w': 30, 'h': 28, 'confidence': '1.0', 'text': '2'}, {'x': 932, 'y': 932, 'w': 24, 'h': 24, 'confidence': '1.0', 'text': '4'}, {'x': 1452, 'y': 1084, 'w': 36, 'h': 26, 'confidence': '0.26050690029927703', 'text': '336'}]}]\n",
      "> Images for page 52: []\n",
      "> Images for page 53: [{'name': 'img_p52_1.png', 'height': 2211, 'width': 1652, 'x': 99.39780999999999, 'y': 66.09686499999998, 'original_width': 1652, 'original_height': 2211, 'ocr': [{'x': 1147, 'y': 291, 'w': 24, 'h': 14, 'confidence': '0.8232455231201676', 'text': '5'}, {'x': 78, 'y': 288, 'w': 66, 'h': 48, 'confidence': '0.9794040645866882', 'text': '3x'}, {'x': 312, 'y': 288, 'w': 66, 'h': 48, 'confidence': '0.9758903598342804', 'text': '3x'}, {'x': 550, 'y': 288, 'w': 66, 'h': 48, 'confidence': '0.9873923322485312', 'text': '6x'}, {'x': 79, 'y': 341, 'w': 130, 'h': 40, 'confidence': '0.9983682858890794', 'text': 'M1.6x2'}, {'x': 312, 'y': 338, 'w': 162, 'h': 42, 'confidence': '0.7946596013062047', 'text': 'M1.6x2.5'}, {'x': 549, 'y': 341, 'w': 132, 'h': 40, 'confidence': '0.6668376042998695', 'text': 'M2.Sx5'}, {'x': 507, 'y': 651, 'w': 118, 'h': 42, 'confidence': '0.5771989387609324', 'text': 'OLED!'}, {'x': 522, 'y': 722, 'w': 68, 'h': 26, 'confidence': '0.6466077342835631', 'text': 'cywtd'}, {'x': 1411, 'y': 711, 'w': 50, 'h': 40, 'confidence': '0.999585384483904', 'text': 'Pv'}, {'x': 22, 'y': 756, 'w': 44, 'h': 28, 'confidence': '0.24047798680168775', 'text': '4oj'}, {'x': 852, 'y': 756, 'w': 46, 'h': 28, 'confidence': '0.6653180317750431', 'text': '4oz'}, {'x': 1051, 'y': 761, 'w': 50, 'h': 16, 'confidence': '0.32984547553934335', 'text': 'JcaM]'}, {'x': 1341, 'y': 761, 'w': 48, 'h': 16, 'confidence': '0.1098096268858653', 'text': 'TeopO'}, {'x': 23, 'y': 779, 'w': 42, 'h': 14, 'confidence': '0.21514184772968292', 'text': 'Ua U'}, {'x': 855, 'y': 779, 'w': 42, 'h': 14, 'confidence': '0.13328489661216736', 'text': 'lo U'}, {'x': 27, 'y': 837, 'w': 50, 'h': 16, 'confidence': '0.2447653680320492', 'text': 'nGPUz'}, {'x': 857, 'y': 839, 'w': 52, 'h': 14, 'confidence': '0.17879040932235898', 'text': 'sh'}, {'x': 742, 'y': 1178, 'w': 36, 'h': 28, 'confidence': '0.41540470455016987', 'text': 's'}, {'x': 843, 'y': 1149, 'w': 46, 'h': 0, 'confidence': '0.4297385733313125', 'text': '033'}, {'x': 861, 'y': 1154, 'w': 36, 'h': 10, 'confidence': '0.5114568792298032', 'text': '032'}, {'x': 751, 'y': 1208, 'w': 48, 'h': 4, 'confidence': '0.1118237767240815', 'text': '10710'}]}]\n",
      "> Images for page 54: []\n",
      "> Images for page 55: [{'name': 'img_p54_1.png', 'height': 2211, 'width': 1652, 'x': 99.39780999999999, 'y': 66.09686499999998, 'original_width': 1652, 'original_height': 2211, 'ocr': [{'x': 1147, 'y': 291, 'w': 24, 'h': 14, 'confidence': '0.8232455231201676', 'text': '5'}, {'x': 78, 'y': 288, 'w': 66, 'h': 48, 'confidence': '0.9794040645866882', 'text': '3x'}, {'x': 312, 'y': 288, 'w': 66, 'h': 48, 'confidence': '0.9758903598342804', 'text': '3x'}, {'x': 550, 'y': 288, 'w': 66, 'h': 48, 'confidence': '0.9873923322485312', 'text': '6x'}, {'x': 78, 'y': 340, 'w': 130, 'h': 40, 'confidence': '0.9963228413026406', 'text': 'M1.6x2'}, {'x': 313, 'y': 339, 'w': 162, 'h': 42, 'confidence': '0.6016819826493839', 'text': 'M1.6x2.5'}, {'x': 549, 'y': 339, 'w': 132, 'h': 42, 'confidence': '0.7525686583434172', 'text': 'M2.Sx5'}, {'x': 1042, 'y': 1984, 'w': 74, 'h': 32, 'confidence': '0.9989545448398667', 'text': 'CCD'}, {'x': 1333, 'y': 1967, 'w': 118, 'h': 40, 'confidence': '0.4143148538360825', 'text': 'OLEDV'}, {'x': 219, 'y': 2021, 'w': 100, 'h': 44, 'confidence': '0.999705914366776', 'text': 'CCD'}, {'x': 522, 'y': 2020, 'w': 118, 'h': 48, 'confidence': '0.46254032850265503', 'text': 'eDPv'}, {'x': 1348, 'y': 2036, 'w': 66, 'h': 26, 'confidence': '0.49033607432693477', 'text': 'cywtd'}, {'x': 33, 'y': 2073, 'w': 26, 'h': 14, 'confidence': '0.6945826016363412', 'text': 'U'}, {'x': 227, 'y': 2073, 'w': 50, 'h': 18, 'confidence': '0.18892743299390974', 'text': 'JGn'}, {'x': 517, 'y': 2075, 'w': 50, 'h': 16, 'confidence': '0.6162963365340184', 'text': 'Jeop]'}, {'x': 846, 'y': 2071, 'w': 46, 'h': 25, 'confidence': '0.32087847737484076', 'text': '4oz'}, {'x': 31, 'y': 2093, 'w': 44, 'h': 14, 'confidence': '0.15170090622266336', 'text': 'lo UT'}, {'x': 847, 'y': 2093, 'w': 44, 'h': 14, 'confidence': '0.1112588495016098', 'text': 'Uou7'}, {'x': 35, 'y': 2151, 'w': 50, 'h': 16, 'confidence': '0.49525080454789167', 'text': 'nGpuz'}, {'x': 843, 'y': 671, 'w': 46, 'h': 4, 'confidence': '0.8722794695681272', 'text': '033'}, {'x': 751, 'y': 732, 'w': 49, 'h': 4, 'confidence': '0.28203000232559516', 'text': '10270'}]}]\n",
      "> Images for page 56: [{'name': 'img_p55_1.png', 'height': 695, 'width': 1470, 'x': 121.23781, 'y': 396.31251199999997, 'original_width': 1470, 'original_height': 695, 'ocr': [{'x': 658, 'y': 34, 'w': 32, 'h': 36, 'confidence': '0.5191230598942087', 'text': '2'}, {'x': 768, 'y': 32, 'w': 30, 'h': 36, 'confidence': '0.9999991655351472', 'text': '3'}, {'x': 157, 'y': 189, 'w': 28, 'h': 14, 'confidence': '0.2340384426725928', 'text': 'Smb'}, {'x': 703, 'y': 443, 'w': 78, 'h': 36, 'confidence': '0.9998801069150949', 'text': 'SSD'}, {'x': 139, 'y': 623, 'w': 154, 'h': 42, 'confidence': '0.8931805484449282', 'text': '13 12 11'}, {'x': 329, 'y': 623, 'w': 50, 'h': 40, 'confidence': '0.9999467267991122', 'text': '10'}, {'x': 1173, 'y': 623, 'w': 44, 'h': 40, 'confidence': '0.9999957084701805', 'text': '6'}, {'x': 1228, 'y': 626, 'w': 30, 'h': 36, 'confidence': '0.9999964237245109', 'text': '5'}]}]\n",
      "> Images for page 57: [{'name': 'img_p56_1.png', 'height': 1800, 'width': 1652, 'x': 99.39780999999999, 'y': 66.09683999999999, 'original_width': 1652, 'original_height': 1800, 'ocr': [{'x': 1315, 'y': 153, 'w': 38, 'h': 20, 'confidence': '0.9997366094001984', 'text': 'SSD'}, {'x': 78, 'y': 286, 'w': 66, 'h': 50, 'confidence': '0.9888397198609568', 'text': '3x'}, {'x': 312, 'y': 288, 'w': 66, 'h': 48, 'confidence': '0.9636865773871247', 'text': 'Ix'}, {'x': 550, 'y': 288, 'w': 66, 'h': 48, 'confidence': '0.9354427308764772', 'text': '7x'}, {'x': 782, 'y': 288, 'w': 64, 'h': 48, 'confidence': '0.9963597815817254', 'text': '4x'}, {'x': 76, 'y': 338, 'w': 132, 'h': 42, 'confidence': '0.9977932805473931', 'text': 'M1.6x2'}, {'x': 313, 'y': 339, 'w': 162, 'h': 42, 'confidence': '0.965657355122704', 'text': 'M1.6x2.3'}, {'x': 549, 'y': 339, 'w': 162, 'h': 42, 'confidence': '0.8860120238065207', 'text': 'M1.6x2.3'}, {'x': 781, 'y': 338, 'w': 130, 'h': 42, 'confidence': '0.9954110591269048', 'text': 'M1.6x3'}, {'x': 1150, 'y': 620, 'w': 40, 'h': 26, 'confidence': '0.5502623792730295', 'text': 'CCL'}, {'x': 1380, 'y': 614, 'w': 80, 'h': 26, 'confidence': '0.37503117965607774', 'text': 'MTL-QhdL'}, {'x': 70, 'y': 754, 'w': 50, 'h': 28, 'confidence': '0.15934601426124573', 'text': 'MSX?'}, {'x': 296, 'y': 746, 'w': 24, 'h': 96, 'confidence': '0.3032790997904158', 'text': '1'}, {'x': 153, 'y': 973, 'w': 26, 'h': 14, 'confidence': '0.3137589717101861', 'text': '@'}, {'x': 1481, 'y': 1275, 'w': 28, 'h': 20, 'confidence': '0.661671673390069', 'text': 'Me'}, {'x': 1545, 'y': 1271, 'w': 26, 'h': 16, 'confidence': '0.9798416837625146', 'text': 'MB'}, {'x': 698, 'y': 1580, 'w': 34, 'h': 26, 'confidence': '0.20726988999785342', 'text': '8e9'}, {'x': 794, 'y': 1590, 'w': 100, 'h': 48, 'confidence': '0.9997346135309584', 'text': 'SSD'}, {'x': 443, 'y': 1691, 'w': 36, 'h': 14, 'confidence': '0.12629184107971728', 'text': 'BM'}, {'x': 1147, 'y': 1705, 'w': 26, 'h': 14, 'confidence': '0.8414319118794056', 'text': 'MB'}]}]\n",
      "> Images for page 58: [{'name': 'img_p57_1.png', 'height': 1300, 'width': 1652, 'x': 99.39780999999999, 'y': 66.09683999999999, 'original_width': 1652, 'original_height': 1300, 'ocr': [{'x': 99, 'y': 431, 'w': 28, 'h': 14, 'confidence': '0.5956949204821428', 'text': 'FpR'}, {'x': 678, 'y': 464, 'w': 54, 'h': 30, 'confidence': '0.16875469672815224', 'text': '0i'}, {'x': 718, 'y': 478, 'w': 34, 'h': 26, 'confidence': '0.16219365174221423', 'text': '#'}, {'x': 794, 'y': 474, 'w': 102, 'h': 48, 'confidence': '0.9998712973958352', 'text': 'SSD'}, {'x': 84, 'y': 524, 'w': 40, 'h': 26, 'confidence': '0.28721143480627315', 'text': 'MB]'}, {'x': 1523, 'y': 525, 'w': 28, 'h': 16, 'confidence': '0.9857770924602604', 'text': 'MB'}, {'x': 325, 'y': 581, 'w': 36, 'h': 14, 'confidence': '0.9950442314147949', 'text': 'KBCB'}, {'x': 445, 'y': 575, 'w': 36, 'h': 16, 'confidence': '0.9795531034469604', 'text': 'BATT'}, {'x': 65, 'y': 809, 'w': 36, 'h': 20, 'confidence': '0.999665370423834', 'text': 'MB'}, {'x': 1489, 'y': 805, 'w': 28, 'h': 20, 'confidence': '0.9896734400960174', 'text': 'MB'}, {'x': 1521, 'y': 817, 'w': 28, 'h': 14, 'confidence': '0.35773506450691184', 'text': 'Tfr'}, {'x': 129, 'y': 837, 'w': 36, 'h': 20, 'confidence': '0.9098667347767927', 'text': 'OMB'}, {'x': 89, 'y': 1093, 'w': 26, 'h': 14, 'confidence': '0.48930172192070887', 'text': 'FpR'}, {'x': 784, 'y': 1144, 'w': 102, 'h': 48, 'confidence': '0.9999646925941019', 'text': 'SSD'}, {'x': 74, 'y': 1190, 'w': 36, 'h': 24, 'confidence': '0.25208306312561035', 'text': 'MMB:'}, {'x': 1533, 'y': 1185, 'w': 30, 'h': 20, 'confidence': '0.999874994735861', 'text': 'MB'}, {'x': 115, 'y': 1203, 'w': 26, 'h': 14, 'confidence': '0.4058289004899845', 'text': 'SPK'}, {'x': 433, 'y': 1247, 'w': 34, 'h': 14, 'confidence': '0.5698121786117554', 'text': 'BaTT'}, {'x': 1553, 'y': 801, 'w': 28, 'h': 10, 'confidence': '0.9185373076464698', 'text': 'MB'}]}]\n",
      "> Images for page 59: [{'name': 'img_p58_1.png', 'height': 997, 'width': 1500, 'x': 36.8504, 'y': 66.09683899999999, 'original_width': 1500, 'original_height': 997}]\n",
      "> Images for page 60: []\n",
      "> Images for page 61: [{'name': 'img_p60_1.png', 'height': 1740, 'width': 1652, 'x': 99.39780999999999, 'y': 66.09684399999998, 'original_width': 1652, 'original_height': 1740, 'ocr': [{'x': 1315, 'y': 165, 'w': 38, 'h': 18, 'confidence': '0.999445080501338', 'text': 'SSD'}, {'x': 91, 'y': 235, 'w': 38, 'h': 14, 'confidence': '0.6306749192325635', 'text': '057'}, {'x': 78, 'y': 298, 'w': 66, 'h': 48, 'confidence': '0.9814897835623054', 'text': '3x'}, {'x': 312, 'y': 298, 'w': 66, 'h': 48, 'confidence': '0.9722404047468517', 'text': 'Ix'}, {'x': 548, 'y': 298, 'w': 68, 'h': 48, 'confidence': '0.8606303368729444', 'text': '7x'}, {'x': 782, 'y': 298, 'w': 64, 'h': 48, 'confidence': '0.9218734155602479', 'text': '4x'}, {'x': 79, 'y': 353, 'w': 130, 'h': 38, 'confidence': '0.9882545867814442', 'text': 'M1.6x2'}, {'x': 313, 'y': 351, 'w': 160, 'h': 40, 'confidence': '0.8587674978996137', 'text': 'M1.6x2.3'}, {'x': 549, 'y': 351, 'w': 162, 'h': 40, 'confidence': '0.9989195527332317', 'text': 'M1.6x2.3'}, {'x': 781, 'y': 351, 'w': 130, 'h': 40, 'confidence': '0.9947648741333125', 'text': 'M1.6x3'}, {'x': 69, 'y': 583, 'w': 30, 'h': 20, 'confidence': '0.998704230432309', 'text': 'MB'}, {'x': 1486, 'y': 578, 'w': 60, 'h': 28, 'confidence': '0.1390204377510005', 'text': 'MBITFR'}, {'x': 129, 'y': 613, 'w': 34, 'h': 16, 'confidence': '0.9351793932781013', 'text': 'OMB'}, {'x': 85, 'y': 867, 'w': 28, 'h': 14, 'confidence': '0.4116833243169776', 'text': 'Fpr'}, {'x': 782, 'y': 916, 'w': 104, 'h': 52, 'confidence': '0.9999257376383089', 'text': 'SSD'}, {'x': 1531, 'y': 963, 'w': 28, 'h': 14, 'confidence': '0.9396265958176027', 'text': 'MB'}, {'x': 73, 'y': 967, 'w': 28, 'h': 20, 'confidence': '0.5113169218962378', 'text': 'MB'}, {'x': 111, 'y': 975, 'w': 28, 'h': 16, 'confidence': '0.46260443798921064', 'text': 'SpK'}, {'x': 429, 'y': 1021, 'w': 36, 'h': 12, 'confidence': '0.6161345839500427', 'text': 'Batt'}, {'x': 99, 'y': 1509, 'w': 28, 'h': 14, 'confidence': '0.7706674535132699', 'text': 'FpR'}, {'x': 794, 'y': 1552, 'w': 102, 'h': 48, 'confidence': '0.9998970377391188', 'text': 'SSD'}, {'x': 84, 'y': 1602, 'w': 38, 'h': 28, 'confidence': '0.3037370707681357', 'text': 'MB]'}, {'x': 1521, 'y': 1601, 'w': 30, 'h': 18, 'confidence': '0.9762561196635613', 'text': 'MB'}, {'x': 325, 'y': 1659, 'w': 36, 'h': 14, 'confidence': '0.9910292233562826', 'text': 'KBCB'}, {'x': 445, 'y': 1653, 'w': 36, 'h': 16, 'confidence': '0.9378886222839355', 'text': 'BATT'}, {'x': 1147, 'y': 1667, 'w': 24, 'h': 16, 'confidence': '0.9997848892622984', 'text': 'MB'}]}]\n",
      "> Images for page 62: [{'name': 'img_p61_1.png', 'height': 1379, 'width': 1652, 'x': 99.39780999999999, 'y': 66.09683799999999, 'original_width': 1652, 'original_height': 1379, 'ocr': [{'x': 1543, 'y': 159, 'w': 28, 'h': 18, 'confidence': '0.20239767899170447', 'text': 'IB'}, {'x': 1485, 'y': 169, 'w': 26, 'h': 16, 'confidence': '0.9315488325547883', 'text': 'MB'}, {'x': 700, 'y': 472, 'w': 34, 'h': 24, 'confidence': '0.11156470328569412', 'text': '7888'}, {'x': 718, 'y': 484, 'w': 44, 'h': 28, 'confidence': '0.22150647340798546', 'text': '%'}, {'x': 795, 'y': 483, 'w': 100, 'h': 44, 'confidence': '0.9997940768986594', 'text': 'SSD'}, {'x': 445, 'y': 583, 'w': 36, 'h': 14, 'confidence': '0.6442466378211975', 'text': 'BATT'}, {'x': 1363, 'y': 889, 'w': 82, 'h': 29, 'confidence': '0.3655500836024787', 'text': 'MTL-OHDl'}, {'x': 54, 'y': 1032, 'w': 50, 'h': 28, 'confidence': '0.15880194306373596', 'text': 'MSX?'}, {'x': 279, 'y': 1016, 'w': 24, 'h': 104, 'confidence': '0.306667490628584', 'text': '1'}, {'x': 137, 'y': 1251, 'w': 26, 'h': 14, 'confidence': '0.38799777098737276', 'text': 'Dtz'}]}]\n",
      "> Images for page 63: []\n",
      "> Images for page 64: [{'name': 'img_p63_1.png', 'height': 1114, 'width': 1652, 'x': 99.39780999999999, 'y': 386.3307940000001, 'original_width': 1652, 'original_height': 1114, 'ocr': [{'x': 80, 'y': 288, 'w': 66, 'h': 48, 'confidence': '0.8122026111190773', 'text': '4x'}, {'x': 79, 'y': 341, 'w': 130, 'h': 40, 'confidence': '0.9213285726115894', 'text': 'M1.4x2'}]}]\n",
      "> Images for page 65: []\n",
      "> Images for page 66: [{'name': 'img_p65_1.png', 'height': 1114, 'width': 1652, 'x': 99.39780999999999, 'y': 66.09684400000003, 'original_width': 1652, 'original_height': 1114, 'ocr': [{'x': 80, 'y': 288, 'w': 66, 'h': 48, 'confidence': '0.8122026111190773', 'text': '4x'}, {'x': 79, 'y': 341, 'w': 130, 'h': 40, 'confidence': '0.9213285726115894', 'text': 'M1.4x2'}]}]\n",
      "> Images for page 67: []\n",
      "> Images for page 68: [{'name': 'img_p67_1.png', 'height': 1440, 'width': 1652, 'x': 99.39780999999999, 'y': 205.61515399999996, 'original_width': 1652, 'original_height': 1440, 'ocr': [{'x': 78, 'y': 288, 'w': 94, 'h': 48, 'confidence': '0.9474374724059343', 'text': '17x'}, {'x': 312, 'y': 288, 'w': 68, 'h': 48, 'confidence': '0.8718673509955949', 'text': '7x'}, {'x': 79, 'y': 343, 'w': 160, 'h': 38, 'confidence': '0.8040384952801299', 'text': 'M1.4x1.2'}, {'x': 312, 'y': 340, 'w': 130, 'h': 40, 'confidence': '0.7308727543022608', 'text': 'M1.6x2'}, {'x': 1141, 'y': 519, 'w': 26, 'h': 16, 'confidence': '0.9974023831811594', 'text': 'HB'}, {'x': 751, 'y': 901, 'w': 60, 'h': 16, 'confidence': '0.12223104554894249', 'text': 'G1dLzIFz1U:'}, {'x': 1233, 'y': 1019, 'w': 90, 'h': 16, 'confidence': '0.1207570423794744', 'text': 'GDOJI NoxdoXQd)'}, {'x': 1060, 'y': 1201, 'w': 48, 'h': 19, 'confidence': '0.3071304522940232', 'text': 'givnia'}, {'x': 1021, 'y': 1241, 'w': 70, 'h': 18, 'confidence': '0.6953536480978186', 'text': 'ov VW-1'}, {'x': 1277, 'y': 1279, 'w': 38, 'h': 16, 'confidence': '0.9999209642410278', 'text': '2062'}, {'x': 1319, 'y': 1281, 'w': 62, 'h': 16, 'confidence': '0.52940537452287', 'text': 'BOC 60v'}, {'x': 888, 'y': 1305, 'w': 57, 'h': 25, 'confidence': '0.4017280035649451', 'text': 'NCB2282'}, {'x': 1085, 'y': 1318, 'w': 2, 'h': 32, 'confidence': '0.5411622271977513', 'text': \"'8\"}]}]\n",
      "> Images for page 69: [{'name': 'img_p68_1.png', 'height': 1020, 'width': 1652, 'x': 99.39780999999999, 'y': 66.096837, 'original_width': 1652, 'original_height': 1020, 'ocr': [{'x': 1444, 'y': 328, 'w': 90, 'h': 24, 'confidence': '0.9999418647581942', 'text': 'backspace'}, {'x': 431, 'y': 349, 'w': 14, 'h': 22, 'confidence': '0.9999983310706426', 'text': '3'}, {'x': 637, 'y': 349, 'w': 16, 'h': 22, 'confidence': '0.9999984502798362', 'text': '5'}, {'x': 67, 'y': 427, 'w': 32, 'h': 20, 'confidence': '0.9999905020849161', 'text': 'tab'}, {'x': 370, 'y': 426, 'w': 32, 'h': 30, 'confidence': '0.9296329436531323', 'text': 'W'}, {'x': 580, 'y': 428, 'w': 24, 'h': 26, 'confidence': '0.9999785424429888', 'text': 'R'}, {'x': 1201, 'y': 427, 'w': 20, 'h': 24, 'confidence': '0.9285822422689307', 'text': 'P'}, {'x': 66, 'y': 524, 'w': 80, 'h': 24, 'confidence': '0.9929155017721653', 'text': 'caps lock'}, {'x': 398, 'y': 524, 'w': 24, 'h': 26, 'confidence': '0.7592180860674489', 'text': 'S'}, {'x': 1532, 'y': 525, 'w': 49, 'h': 21, 'confidence': '0.9999978142071032', 'text': 'enter'}, {'x': 67, 'y': 623, 'w': 42, 'h': 20, 'confidence': '0.9992955590533584', 'text': 'shift'}, {'x': 862, 'y': 622, 'w': 30, 'h': 28, 'confidence': '0.9996816173335255', 'text': 'N'}, {'x': 962, 'y': 620, 'w': 32, 'h': 30, 'confidence': '0.8930593459093785', 'text': 'M'}, {'x': 1534, 'y': 620, 'w': 46, 'h': 24, 'confidence': '0.9996409892835839', 'text': 'shift'}, {'x': 1455, 'y': 707, 'w': 22, 'h': 18, 'confidence': '0.998961069738598', 'text': 'pg'}, {'x': 65, 'y': 721, 'w': 32, 'h': 20, 'confidence': '0.49854177236557007', 'text': 'ctrl'}, {'x': 243, 'y': 721, 'w': 22, 'h': 20, 'confidence': '0.9994726993595766', 'text': 'fn'}, {'x': 449, 'y': 723, 'w': 26, 'h': 18, 'confidence': '0.999928421807186', 'text': 'alt'}, {'x': 1067, 'y': 721, 'w': 26, 'h': 20, 'confidence': '0.9999727451456574', 'text': 'alt'}, {'x': 1167, 'y': 721, 'w': 34, 'h': 18, 'confidence': '0.5537005066871643', 'text': 'ctrl'}]}]\n",
      "> Images for page 70: []\n",
      "> Images for page 71: [{'name': 'img_p70_1.png', 'height': 1019, 'width': 1652, 'x': 99.39780999999999, 'y': 66.09683700000002, 'original_width': 1652, 'original_height': 1019, 'ocr': [{'x': 1444, 'y': 326, 'w': 90, 'h': 24, 'confidence': '0.9999665813832934', 'text': 'backspace'}, {'x': 67, 'y': 427, 'w': 32, 'h': 18, 'confidence': '0.9998781798318682', 'text': 'tab'}, {'x': 370, 'y': 424, 'w': 30, 'h': 32, 'confidence': '0.9016144756129876', 'text': 'W'}, {'x': 580, 'y': 426, 'w': 24, 'h': 26, 'confidence': '0.9999926090377045', 'text': 'R'}, {'x': 69, 'y': 525, 'w': 76, 'h': 20, 'confidence': '0.6071235065917752', 'text': 'caps lock'}, {'x': 398, 'y': 522, 'w': 24, 'h': 28, 'confidence': '0.792406304067871', 'text': 'S'}, {'x': 1012, 'y': 522, 'w': 32, 'h': 30, 'confidence': '0.9533540847428448', 'text': 'K'}, {'x': 1533, 'y': 527, 'w': 48, 'h': 16, 'confidence': '0.801072842344544', 'text': 'enter'}, {'x': 64, 'y': 618, 'w': 47, 'h': 27, 'confidence': '0.9990772755298474', 'text': 'shift'}, {'x': 862, 'y': 620, 'w': 30, 'h': 30, 'confidence': '0.9998974826385734', 'text': 'N'}, {'x': 962, 'y': 620, 'w': 32, 'h': 28, 'confidence': '0.9283561847551027', 'text': 'M'}, {'x': 1534, 'y': 620, 'w': 46, 'h': 24, 'confidence': '0.999532973874461', 'text': 'shift'}, {'x': 1455, 'y': 705, 'w': 22, 'h': 18, 'confidence': '0.9967201083268629', 'text': 'pg'}, {'x': 65, 'y': 721, 'w': 32, 'h': 18, 'confidence': '0.6842570900917053', 'text': 'ctrl'}, {'x': 449, 'y': 719, 'w': 26, 'h': 20, 'confidence': '0.999953955872209', 'text': 'alt'}, {'x': 1067, 'y': 719, 'w': 26, 'h': 20, 'confidence': '0.9999433568157459', 'text': 'alt'}, {'x': 1169, 'y': 719, 'w': 32, 'h': 20, 'confidence': '0.8106973171234131', 'text': 'ctrl'}, {'x': 1453, 'y': 755, 'w': 22, 'h': 18, 'confidence': '0.9992036860465474', 'text': 'pg'}]}, {'name': 'img_p70_2.png', 'height': 1440, 'width': 1652, 'x': 99.39780999999999, 'y': 346.23686399999997, 'original_width': 1652, 'original_height': 1440, 'ocr': [{'x': 78, 'y': 288, 'w': 94, 'h': 48, 'confidence': '0.9474374724059343', 'text': '17x'}, {'x': 312, 'y': 288, 'w': 68, 'h': 48, 'confidence': '0.8718673509955949', 'text': '7x'}, {'x': 79, 'y': 343, 'w': 160, 'h': 38, 'confidence': '0.8040384952801299', 'text': 'M1.4x1.2'}, {'x': 312, 'y': 340, 'w': 130, 'h': 40, 'confidence': '0.7308727543022608', 'text': 'M1.6x2'}, {'x': 1141, 'y': 519, 'w': 26, 'h': 16, 'confidence': '0.9974023831811594', 'text': 'HB'}, {'x': 751, 'y': 901, 'w': 60, 'h': 16, 'confidence': '0.12223104554894249', 'text': 'G1dLzIFz1U:'}, {'x': 1233, 'y': 1019, 'w': 90, 'h': 16, 'confidence': '0.1207570423794744', 'text': 'GDOJI NoxdoXQd)'}, {'x': 1060, 'y': 1201, 'w': 48, 'h': 19, 'confidence': '0.3071304522940232', 'text': 'givnia'}, {'x': 1021, 'y': 1241, 'w': 70, 'h': 18, 'confidence': '0.6953536480978186', 'text': 'ov VW-1'}, {'x': 1277, 'y': 1279, 'w': 38, 'h': 16, 'confidence': '0.9999209642410278', 'text': '2062'}, {'x': 1319, 'y': 1281, 'w': 62, 'h': 16, 'confidence': '0.52940537452287', 'text': 'BOC 60v'}, {'x': 888, 'y': 1305, 'w': 57, 'h': 25, 'confidence': '0.4017280035649451', 'text': 'NCB2282'}, {'x': 1085, 'y': 1318, 'w': 2, 'h': 32, 'confidence': '0.5411622271977513', 'text': \"'8\"}]}]\n",
      "> Images for page 72: []\n",
      "> Images for page 73: [{'name': 'img_p72_1.png', 'height': 1160, 'width': 1710, 'x': 92.4378, 'y': 357.0229560000001, 'original_width': 1710, 'original_height': 1160, 'ocr': [{'x': 1177, 'y': 79, 'w': 30, 'h': 20, 'confidence': '0.9956064102557156', 'text': 'HB'}, {'x': 1104, 'y': 764, 'w': 30, 'h': 26, 'confidence': '0.11862061041903704', 'text': '3'}, {'x': 1029, 'y': 821, 'w': 100, 'h': 20, 'confidence': '0.19902768067046547', 'text': 'OC 60v Vm-l'}, {'x': 1321, 'y': 860, 'w': 74, 'h': 20, 'confidence': '0.34230800506648923', 'text': '2062  BOC'}, {'x': 1401, 'y': 865, 'w': 28, 'h': 16, 'confidence': '0.44919415632211335', 'text': '60v'}, {'x': 926, 'y': 900, 'w': 36, 'h': 32, 'confidence': '0.16077876009971495', 'text': '83'}, {'x': 1103, 'y': 1037, 'w': 26, 'h': 16, 'confidence': '0.6627314388557641', 'text': 'cio'}, {'x': 844, 'y': 1040, 'w': 28, 'h': 28, 'confidence': '0.8586046460978459', 'text': '85'}]}]\n",
      "> Images for page 74: []\n",
      "> Images for page 75: []\n",
      "> Images for page 76: []\n",
      "> Images for page 77: []\n",
      "> Images for page 78: []\n",
      "> Images for page 79: []\n",
      "> Images for page 80: []\n",
      "> Images for page 81: []\n",
      "> Images for page 82: []\n",
      "> Images for page 83: []\n",
      "> Images for page 84: []\n",
      "> Images for page 85: []\n",
      "> Images for page 86: []\n",
      "> Images for page 87: []\n",
      "> Images for page 88: []\n",
      "> Images for page 89: []\n",
      "> Images for page 90: []\n",
      "> Images for page 91: []\n",
      "> Images for page 92: []\n",
      "> Images for page 93: []\n",
      "> Images for page 94: []\n",
      "> Images for page 95: []\n",
      "> Images for page 96: []\n",
      "> Images for page 97: []\n",
      "> Images for page 98: []\n",
      "> Images for page 99: []\n",
      "> Images for page 100: []\n",
      "> Images for page 101: []\n",
      "> Images for page 102: []\n",
      "> Images for page 103: [{'name': 'img_p102_2.png', 'height': 38, 'width': 38, 'x': 301.13781, 'y': 312.7276499999999, 'original_width': 38, 'original_height': 38}]\n"
     ]
    }
   ],
   "source": [
    "image_dicts = parser.get_images(\n",
    "    json_objs,\n",
    "    download_path=\"dellxps_images\"\n",
    ")"
   ]
  },
  {
   "cell_type": "code",
   "execution_count": null,
   "metadata": {
    "id": "FidH3jkZ8bRq"
   },
   "outputs": [],
   "source": [
    "page_texts, tables = {}, {}"
   ]
  },
  {
   "cell_type": "code",
   "execution_count": null,
   "metadata": {
    "id": "GhLYQiF_8kVa"
   },
   "outputs": [],
   "source": [
    "for json_item in json_list:\n",
    "\n",
    "    page_texts[json_item['page']] = ''\n",
    "\n",
    "    if json_item['md']:\n",
    "        page_texts[json_item['page']] = json_item['md']\n",
    "\n",
    "    tables[json_item['page']] = []\n",
    "\n",
    "    for component in json_item['items']:\n",
    "        if component['type'] == 'table':\n",
    "            tables[json_item['page']] = component['rows']"
   ]
  },
  {
   "cell_type": "code",
   "execution_count": null,
   "metadata": {
    "colab": {
     "base_uri": "https://localhost:8080/"
    },
    "executionInfo": {
     "elapsed": 21,
     "status": "ok",
     "timestamp": 1742418121897,
     "user": {
      "displayName": "Soumitra Mukherji",
      "userId": "02267047127611459680"
     },
     "user_tz": 300
    },
    "id": "jFkdDyRE8ncu",
    "outputId": "4048e3c9-3533-48c5-a946-d65411f12619"
   },
   "outputs": [
    {
     "name": "stdout",
     "output_type": "stream",
     "text": [
      "[]\n"
     ]
    }
   ],
   "source": [
    "# Generate Table Descriptions\n",
    "\n",
    "## Look at the table on a specific page\n",
    "print(tables[2])\n"
   ]
  },
  {
   "cell_type": "code",
   "execution_count": null,
   "metadata": {
    "id": "MIOA1iYw8rDn"
   },
   "outputs": [],
   "source": [
    "table_describer_system_message = \"\"\"\n",
    "You are tasked to explain operating manual documents for Dell laptops.\n",
    "You are required to generate a detailed description of rows of tables presented to you as the input.\n",
    "Be detailed in your description and cover all the rows of the table presented to you.\n",
    "The input will be presented as a list of rows.\n",
    "Remember to describe ALL the rows in the input table in great detail.\n",
    "\"\"\"\n"
   ]
  },
  {
   "cell_type": "code",
   "execution_count": null,
   "metadata": {
    "id": "wHr392s_8s36"
   },
   "outputs": [],
   "source": [
    "## Generating the description of a sample table\n",
    "\n",
    "table_description_prompt = [\n",
    "    {'role': 'system', 'content': table_describer_system_message},\n",
    "    {'role': 'user', 'content': str(tables[2])}\n",
    "]\n"
   ]
  },
  {
   "cell_type": "code",
   "execution_count": null,
   "metadata": {
    "id": "NiYnVoXv8vm6"
   },
   "outputs": [],
   "source": [
    "try:\n",
    "    response = llm.chat.completions.create(\n",
    "        model=llm,\n",
    "        messages=table_description_prompt,\n",
    "        temperature=0\n",
    "    )\n",
    "    description = response.choices[0].message.content\n",
    "except Exception as e:\n",
    "    description = ''"
   ]
  },
  {
   "cell_type": "code",
   "execution_count": null,
   "metadata": {
    "colab": {
     "base_uri": "https://localhost:8080/"
    },
    "executionInfo": {
     "elapsed": 6,
     "status": "ok",
     "timestamp": 1742418130529,
     "user": {
      "displayName": "Soumitra Mukherji",
      "userId": "02267047127611459680"
     },
     "user_tz": 300
    },
    "id": "AxOv28DZ8yrP",
    "outputId": "b6d75524-3dc8-42c4-e4c1-d9e911d38421"
   },
   "outputs": [
    {
     "name": "stdout",
     "output_type": "stream",
     "text": [
      "\n"
     ]
    }
   ],
   "source": [
    "print(description)"
   ]
  },
  {
   "cell_type": "code",
   "execution_count": null,
   "metadata": {
    "colab": {
     "base_uri": "https://localhost:8080/"
    },
    "executionInfo": {
     "elapsed": 38,
     "status": "ok",
     "timestamp": 1742418132453,
     "user": {
      "displayName": "Soumitra Mukherji",
      "userId": "02267047127611459680"
     },
     "user_tz": 300
    },
    "id": "eB20BM0N82Dz",
    "outputId": "e96bc84d-f338-4885-83c0-0728a612acac"
   },
   "outputs": [
    {
     "data": {
      "text/plain": [
       "{'name': 'img_p5_1.png',\n",
       " 'height': 312,\n",
       " 'width': 1710,\n",
       " 'x': 92.43780000000001,\n",
       " 'y': 192.59763500000003,\n",
       " 'original_width': 1710,\n",
       " 'original_height': 312,\n",
       " 'path': 'dellxps_images/7679ce90-a10c-4653-9faa-cf078eea8162-img_p5_1.png',\n",
       " 'job_id': '7679ce90-a10c-4653-9faa-cf078eea8162',\n",
       " 'original_file_path': 'xps-13-9340-owners-manual-en-us.pdf',\n",
       " 'page_number': 6}"
      ]
     },
     "execution_count": 32,
     "metadata": {},
     "output_type": "execute_result"
    }
   ],
   "source": [
    "# Generate Image Descriptions\n",
    "\n",
    "## Look at an image on a specific image\n",
    "image_dicts[0]"
   ]
  },
  {
   "cell_type": "code",
   "execution_count": null,
   "metadata": {
    "id": "hpq6cP6cAp5m"
   },
   "outputs": [],
   "source": [
    "hf_api_key = userdata.get('HF_TOKEN')\n",
    "lmm = \"Salesforce/blip-image-captioning-large\""
   ]
  },
  {
   "cell_type": "code",
   "execution_count": null,
   "metadata": {
    "colab": {
     "base_uri": "https://localhost:8080/"
    },
    "executionInfo": {
     "elapsed": 298,
     "status": "ok",
     "timestamp": 1742418138572,
     "user": {
      "displayName": "Soumitra Mukherji",
      "userId": "02267047127611459680"
     },
     "user_tz": 300
    },
    "id": "zInufek85_3e",
    "outputId": "2eb1326f-a9ab-47bd-90e0-ed8c3b370339"
   },
   "outputs": [
    {
     "name": "stdout",
     "output_type": "stream",
     "text": [
      "[{'generated_text': 'a close up of a computer with a keyboard and a mouse'}]\n"
     ]
    }
   ],
   "source": [
    "sample_image_path = image_dicts[0]['path']\n",
    "\n",
    "## Generating the description of a sample image\n",
    "\n",
    "hf_api_url = \"https://api-inference.huggingface.co/models/\" + lmm\n",
    "\n",
    "headers = {\"Authorization\": f\"Bearer {hf_api_key}\"}\n",
    "\n",
    "try:\n",
    "    with open(sample_image_path, \"rb\") as f:\n",
    "        data = f.read()\n",
    "\n",
    "    response = requests.post(\n",
    "        hf_api_url,\n",
    "        headers=headers,\n",
    "        data=data\n",
    "    )\n",
    "\n",
    "    caption = response.json()\n",
    "except Exception as e:\n",
    "    print(e)\n",
    "    caption = ''\n",
    "\n",
    "print(caption)"
   ]
  },
  {
   "cell_type": "markdown",
   "metadata": {
    "id": "KdWLHPUX_pxz"
   },
   "source": [
    "# Chunking"
   ]
  },
  {
   "cell_type": "code",
   "execution_count": null,
   "metadata": {
    "id": "nqUlwhTwNSYh"
   },
   "outputs": [],
   "source": [
    "text = \"\"\"\n",
    "We design, develop, manufacture, sell and lease high-performance fully electric vehicles and energy generation and storage systems, and offer services related to our products. We generally sell our products directly to customers, and continue to grow our customer-facing infrastructure through a global network of vehicle showrooms and service centers, Mobile Service, body shops, Supercharger stations and Destination Chargers to accelerate the widespread adoption of our products. We emphasize performance, attractive styling and the safety of our users and workforce in the design and manufacture of our products and are continuing to develop full self-driving technology for improved safety. We also strive to lower the cost of ownership for our customers through continuous efforts to reduce manufacturing costs and by offering financial and other services tailored to our products.\n",
    "\n",
    "Our core vehicle technology competencies include powertrain engineering and manufacturing and our ability to design vehicles that utilize the unique advantages of an electric powertrain. We have designed our proprietary powertrain systems to be adaptable, efficient, reliable and cost-effective while withstanding the rigors of an automotive environment. We offer dual motor powertrain vehicles, which use two electric motors to maximize traction and performance in an all-wheel drive configuration, as well as vehicle powertrain technology featuring three electric motors for further increased performance in certain versions of Model S and Model X, Cybertruck and the Tesla Semi.\n",
    "\n",
    "We have a growing global network of Tesla Superchargers, which are our industrial-grade, high-speed vehicle chargers. Where possible, we co- locate Superchargers with our solar and energy storage systems to reduce costs and promote renewable power. Supercharger stations are typically placed along well-traveled routes and in and around dense city centers to allow vehicle owners the ability to enjoy quick, reliable charging along an extensive network with convenient stops. Use of the Supercharger network either requires payment of a fee or is free under certain sales programs. In November 2021, we began to offer Supercharger access to non-Tesla vehicles in certain locations in support of our mission to accelerate the world’s transition to sustainable energy, and in November 2022, we opened up our previously proprietary charging connector as the North American Charging Standard (NACS). This enables all electric vehicles and charging stations to interoperate — which makes charging easier and more efficient for everyone and advances our mission to accelerate the world’s transition to sustainable energy. Following this, a number of major automotive companies announced their adoption of NACS, with their access to the Supercharger network beginning in phases in 2024 and their production of NACS vehicles beginning no later than 2025. We also engaged SAE International to govern NACS as an industry standard, now named J3400. We continue to monitor and increase our network of Tesla Superchargers in anticipation of future demand.\n",
    "\"\"\""
   ]
  },
  {
   "cell_type": "code",
   "execution_count": null,
   "metadata": {
    "id": "FwKkwaYVNaCl"
   },
   "outputs": [],
   "source": [
    "# Character-level chunking\n",
    "\n",
    "character_text_splitter = CharacterTextSplitter.from_tiktoken_encoder(\n",
    "    encoding_name='cl100k_base',\n",
    "    chunk_size=512,\n",
    "    chunk_overlap=16,\n",
    "    separator=''\n",
    ")\n",
    "\n",
    "character_documents = character_text_splitter.create_documents([text])"
   ]
  },
  {
   "cell_type": "code",
   "execution_count": null,
   "metadata": {
    "colab": {
     "base_uri": "https://localhost:8080/",
     "height": 70
    },
    "executionInfo": {
     "elapsed": 25,
     "status": "ok",
     "timestamp": 1742418150971,
     "user": {
      "displayName": "Soumitra Mukherji",
      "userId": "02267047127611459680"
     },
     "user_tz": 300
    },
    "id": "hXyIJlu2No-X",
    "outputId": "4c21db35-f920-456c-bb1f-d20ce069fc21"
   },
   "outputs": [
    {
     "data": {
      "application/vnd.google.colaboratory.intrinsic+json": {
       "type": "string"
      },
      "text/plain": [
       "'We design, develop, manufacture, sell and lease high-performance fully electric vehicles and energy generation and storage systems, and offer services related to our products. We generally sell our products directly to customers, and continue to grow our customer-facing infrastructure through a global network of vehicle showrooms and service centers, Mobile Service, body shops, Supercharger stations and Destination Chargers to accelerate the widespread adoption of our products. We emphasize performance, at'"
      ]
     },
     "execution_count": 37,
     "metadata": {},
     "output_type": "execute_result"
    }
   ],
   "source": [
    "character_documents[0].page_content"
   ]
  },
  {
   "cell_type": "code",
   "execution_count": null,
   "metadata": {
    "colab": {
     "base_uri": "https://localhost:8080/",
     "height": 70
    },
    "executionInfo": {
     "elapsed": 5,
     "status": "ok",
     "timestamp": 1742418152043,
     "user": {
      "displayName": "Soumitra Mukherji",
      "userId": "02267047127611459680"
     },
     "user_tz": 300
    },
    "id": "xf0T_tHKNs67",
    "outputId": "3b564925-c6eb-4a94-ebb4-3e3b78ab09a2"
   },
   "outputs": [
    {
     "data": {
      "application/vnd.google.colaboratory.intrinsic+json": {
       "type": "string"
      },
      "text/plain": [
       "'performance, attractive styling and the safety of our users and workforce in the design and manufacture of our products and are continuing to develop full self-driving technology for improved safety. We also strive to lower the cost of ownership for our customers through continuous efforts to reduce manufacturing costs and by offering financial and other services tailored to our products.\\n\\nOur core vehicle technology competencies include powertrain engineering and manufacturing and our ability to design ve'"
      ]
     },
     "execution_count": 38,
     "metadata": {},
     "output_type": "execute_result"
    }
   ],
   "source": [
    "character_documents[1].page_content"
   ]
  },
  {
   "cell_type": "code",
   "execution_count": null,
   "metadata": {
    "id": "htkzZwJdNb2S"
   },
   "outputs": [],
   "source": [
    "# Recursive character-level chunking\n",
    "\n",
    "recursive_text_splitter = RecursiveCharacterTextSplitter.from_tiktoken_encoder(\n",
    "    encoding_name='cl100k_base',\n",
    "    chunk_size=512,\n",
    "    chunk_overlap=16,\n",
    "    is_separator_regex=False\n",
    ")\n",
    "\n",
    "recursive_character_documents = recursive_text_splitter.create_documents([text])"
   ]
  },
  {
   "cell_type": "code",
   "execution_count": null,
   "metadata": {
    "colab": {
     "base_uri": "https://localhost:8080/",
     "height": 122
    },
    "executionInfo": {
     "elapsed": 22,
     "status": "ok",
     "timestamp": 1742418155930,
     "user": {
      "displayName": "Soumitra Mukherji",
      "userId": "02267047127611459680"
     },
     "user_tz": 300
    },
    "id": "_SHILrvlNwRk",
    "outputId": "2bcc4b6a-2545-4518-d3ef-77fe19e2c571"
   },
   "outputs": [
    {
     "data": {
      "application/vnd.google.colaboratory.intrinsic+json": {
       "type": "string"
      },
      "text/plain": [
       "'We design, develop, manufacture, sell and lease high-performance fully electric vehicles and energy generation and storage systems, and offer services related to our products. We generally sell our products directly to customers, and continue to grow our customer-facing infrastructure through a global network of vehicle showrooms and service centers, Mobile Service, body shops, Supercharger stations and Destination Chargers to accelerate the widespread adoption of our products. We emphasize performance, attractive styling and the safety of our users and workforce in the design and manufacture of our products and are continuing to develop full self-driving technology for improved safety. We also strive to lower the cost of ownership for our customers through continuous efforts to reduce manufacturing costs and by offering financial and other services tailored to our products.\\n\\nOur core vehicle technology competencies include powertrain engineering and manufacturing and our ability to design vehicles that utilize the unique advantages of an electric powertrain. We have designed our proprietary powertrain systems to be adaptable, efficient, reliable and cost-effective while withstanding the rigors of an automotive environment. We offer dual motor powertrain vehicles, which use two electric motors to maximize traction and performance in an all-wheel drive configuration, as well as vehicle powertrain technology featuring three electric motors for further increased performance in certain versions of Model S and Model X, Cybertruck and the Tesla Semi.'"
      ]
     },
     "execution_count": 40,
     "metadata": {},
     "output_type": "execute_result"
    }
   ],
   "source": [
    "\n",
    "recursive_character_documents[0].page_content"
   ]
  },
  {
   "cell_type": "code",
   "execution_count": null,
   "metadata": {
    "colab": {
     "base_uri": "https://localhost:8080/",
     "height": 122
    },
    "executionInfo": {
     "elapsed": 70,
     "status": "ok",
     "timestamp": 1742418159062,
     "user": {
      "displayName": "Soumitra Mukherji",
      "userId": "02267047127611459680"
     },
     "user_tz": 300
    },
    "id": "FKQFMGCuNyIZ",
    "outputId": "9a2f56b6-fad9-4a2e-ee60-5e6387a6cd02"
   },
   "outputs": [
    {
     "data": {
      "application/vnd.google.colaboratory.intrinsic+json": {
       "type": "string"
      },
      "text/plain": [
       "'We have a growing global network of Tesla Superchargers, which are our industrial-grade, high-speed vehicle chargers. Where possible, we co- locate Superchargers with our solar and energy storage systems to reduce costs and promote renewable power. Supercharger stations are typically placed along well-traveled routes and in and around dense city centers to allow vehicle owners the ability to enjoy quick, reliable charging along an extensive network with convenient stops. Use of the Supercharger network either requires payment of a fee or is free under certain sales programs. In November 2021, we began to offer Supercharger access to non-Tesla vehicles in certain locations in support of our mission to accelerate the world’s transition to sustainable energy, and in November 2022, we opened up our previously proprietary charging connector as the North American Charging Standard (NACS). This enables all electric vehicles and charging stations to interoperate — which makes charging easier and more efficient for everyone and advances our mission to accelerate the world’s transition to sustainable energy. Following this, a number of major automotive companies announced their adoption of NACS, with their access to the Supercharger network beginning in phases in 2024 and their production of NACS vehicles beginning no later than 2025. We also engaged SAE International to govern NACS as an industry standard, now named J3400. We continue to monitor and increase our network of Tesla Superchargers in anticipation of future demand.'"
      ]
     },
     "execution_count": 41,
     "metadata": {},
     "output_type": "execute_result"
    }
   ],
   "source": [
    "recursive_character_documents[1].page_content"
   ]
  },
  {
   "cell_type": "markdown",
   "metadata": {
    "id": "PWQG0LWL5hr3"
   },
   "source": [
    "## 🔹 **What is Semantic Chunking?**\n",
    "- semantic chunking is a more context-aware way of splitting text compared to character-based chunking methods like RecursiveCharacterTextSplitter.\n",
    "\n",
    "🔹 **How Does It Work?**\n",
    "\n",
    "\t1.\tEmbeddings Model (embedding_model):\n",
    "\t•\tThe text is converted into embeddings (numerical representations of meaning).\n",
    "\t•\tThis helps detect where logical breaks should occur.\n",
    "\t2.\tBreakpoint Threshold (breakpoint_threshold_type='gradient'):\n",
    "\t•\tDetermines where to split text based on semantic shifts.\n",
    "\t•\tThe ‘gradient’ method detects sharp meaning changes (e.g., topic transitions) and places chunk breakpoints accordingly.\n",
    "\t3.\tChunking (create_documents([text])):\n",
    "\t•\tThe function splits the text into meaningful document chunks.\n",
    "\t•\tEach chunk contains logically related sentences or paragraphs.\n",
    "\n",
    "⸻\n",
    "\n",
    "🔹 **Why Does SemanticChunker Not Have chunk_size and chunk_overlap?**\n",
    "\n",
    "\t•\tNo chunk_size → Because chunks are determined dynamically based on meaning, rather than a fixed number of characters/tokens.\n",
    "\t•\tNo chunk_overlap → Since the method keeps sentences together, overlaps are not explicitly needed (but a retriever can still handle sliding window approaches if necessary).\n",
    "\n",
    " ```python\n",
    " from langchain_experimental.text_splitter import SemanticChunker\n",
    "# Semantic chunking\n",
    "\n",
    "semantic_text_splitter = SemanticChunker(\n",
    "    embedding_model,\n",
    "    breakpoint_threshold_type='gradient'\n",
    ")\n",
    "\n",
    "semantic_documents = semantic_text_splitter.create_documents([text])\n",
    "```\n",
    "\n"
   ]
  },
  {
   "cell_type": "code",
   "execution_count": null,
   "metadata": {
    "id": "hVvzcQU5N1XL"
   },
   "outputs": [],
   "source": [
    "from langchain_experimental.text_splitter import SemanticChunker\n",
    "# Semantic chunking\n",
    "\n",
    "semantic_text_splitter = SemanticChunker(\n",
    "    embedding_model,\n",
    "    breakpoint_threshold_type='gradient'\n",
    ")\n",
    "\n",
    "semantic_documents = semantic_text_splitter.create_documents([text])"
   ]
  },
  {
   "cell_type": "code",
   "execution_count": null,
   "metadata": {
    "colab": {
     "base_uri": "https://localhost:8080/",
     "height": 122
    },
    "executionInfo": {
     "elapsed": 15,
     "status": "ok",
     "timestamp": 1742418167277,
     "user": {
      "displayName": "Soumitra Mukherji",
      "userId": "02267047127611459680"
     },
     "user_tz": 300
    },
    "id": "ypuJUNA2N5VU",
    "outputId": "3b89a099-a8fa-4a15-b2e5-2a8ca28fa0f0"
   },
   "outputs": [
    {
     "data": {
      "application/vnd.google.colaboratory.intrinsic+json": {
       "type": "string"
      },
      "text/plain": [
       "'\\nWe design, develop, manufacture, sell and lease high-performance fully electric vehicles and energy generation and storage systems, and offer services related to our products. We generally sell our products directly to customers, and continue to grow our customer-facing infrastructure through a global network of vehicle showrooms and service centers, Mobile Service, body shops, Supercharger stations and Destination Chargers to accelerate the widespread adoption of our products. We emphasize performance, attractive styling and the safety of our users and workforce in the design and manufacture of our products and are continuing to develop full self-driving technology for improved safety. We also strive to lower the cost of ownership for our customers through continuous efforts to reduce manufacturing costs and by offering financial and other services tailored to our products. Our core vehicle technology competencies include powertrain engineering and manufacturing and our ability to design vehicles that utilize the unique advantages of an electric powertrain. We have designed our proprietary powertrain systems to be adaptable, efficient, reliable and cost-effective while withstanding the rigors of an automotive environment. We offer dual motor powertrain vehicles, which use two electric motors to maximize traction and performance in an all-wheel drive configuration, as well as vehicle powertrain technology featuring three electric motors for further increased performance in certain versions of Model S and Model X, Cybertruck and the Tesla Semi. We have a growing global network of Tesla Superchargers, which are our industrial-grade, high-speed vehicle chargers. Where possible, we co- locate Superchargers with our solar and energy storage systems to reduce costs and promote renewable power. Supercharger stations are typically placed along well-traveled routes and in and around dense city centers to allow vehicle owners the ability to enjoy quick, reliable charging along an extensive network with convenient stops. Use of the Supercharger network either requires payment of a fee or is free under certain sales programs. In November 2021, we began to offer Supercharger access to non-Tesla vehicles in certain locations in support of our mission to accelerate the world’s transition to sustainable energy, and in November 2022, we opened up our previously proprietary charging connector as the North American Charging Standard (NACS). This enables all electric vehicles and charging stations to interoperate — which makes charging easier and more efficient for everyone and advances our mission to accelerate the world’s transition to sustainable energy. Following this, a number of major automotive companies announced their adoption of NACS, with their access to the Supercharger network beginning in phases in 2024 and their production of NACS vehicles beginning no later than 2025. We also engaged SAE International to govern NACS as an industry standard, now named J3400. We continue to monitor and increase our network of Tesla Superchargers in anticipation of future demand.'"
      ]
     },
     "execution_count": 43,
     "metadata": {},
     "output_type": "execute_result"
    }
   ],
   "source": [
    "semantic_documents[0].page_content"
   ]
  },
  {
   "cell_type": "code",
   "execution_count": null,
   "metadata": {
    "colab": {
     "base_uri": "https://localhost:8080/",
     "height": 35
    },
    "executionInfo": {
     "elapsed": 34,
     "status": "ok",
     "timestamp": 1742418172992,
     "user": {
      "displayName": "Soumitra Mukherji",
      "userId": "02267047127611459680"
     },
     "user_tz": 300
    },
    "id": "LDUc7eJaN7SS",
    "outputId": "f695d6de-3b27-496b-ab24-be840b01af2f"
   },
   "outputs": [
    {
     "data": {
      "application/vnd.google.colaboratory.intrinsic+json": {
       "type": "string"
      },
      "text/plain": [
       "''"
      ]
     },
     "execution_count": 44,
     "metadata": {},
     "output_type": "execute_result"
    }
   ],
   "source": [
    "semantic_documents[1].page_content"
   ]
  },
  {
   "cell_type": "markdown",
   "metadata": {
    "id": "k283KhFRBaqt"
   },
   "source": [
    "# Retrieval"
   ]
  },
  {
   "cell_type": "code",
   "execution_count": null,
   "metadata": {
    "id": "nTVw0NuuS34N"
   },
   "outputs": [],
   "source": [
    "chromadb_client = chromadb.EphemeralClient()"
   ]
  },
  {
   "cell_type": "code",
   "execution_count": null,
   "metadata": {
    "id": "N96yiTrZS6AN"
   },
   "outputs": [],
   "source": [
    "collection = chromadb_client.get_or_create_collection(\n",
    "    name='full_document_chunks',\n",
    "    metadata={\"hnsw:space\": \"cosine\"},\n",
    "    embedding_function=embedding_function\n",
    ")"
   ]
  },
  {
   "cell_type": "code",
   "execution_count": null,
   "metadata": {
    "id": "wx2ENLILS8Jq"
   },
   "outputs": [],
   "source": [
    "documents = [\n",
    "    Document(\n",
    "        id=1,\n",
    "        page_content=\"We design, develop, manufacture, sell and lease high-performance fully electric vehicles and energy generation and storage systems, and offer services related to our products. We generally sell our products directly to customers, and continue to grow our customer-facing infrastructure through a global network of vehicle showrooms and service centers, Mobile Service, body shops, Supercharger stations and Destination Chargers to accelerate the widespread adoption of our products. We emphasize performance, attractive styling and the safety of our users and workforce in the design and manufacture of our products and are continuing to develop full self-driving technology for improved safety. We also strive to lower the cost of ownership for our customers through continuous efforts to reduce manufacturing costs and by offering financial and other services tailored to our products.\",\n",
    "        metadata={\"year\": 2023, \"section\": \"business\"}\n",
    "    ),\n",
    "    Document(\n",
    "        id=2,\n",
    "        page_content=\"We have previously experienced and may in the future experience launch and production ramp delays for new products and features. For example, we encountered unanticipated supplier issues that led to delays during the initial ramp of our first Model X and experienced challenges with a supplier and with ramping full automation for certain of our initial Model 3 manufacturing processes. In addition, we may introduce in the future new or unique manufacturing processes and design features for our products. As we expand our vehicle offerings and global footprint, there is no guarantee that we will be able to successfully and timely introduce and scale such processes or features.\",\n",
    "        metadata={\"year\": 2023, \"section\": \"risk_factors\"}\n",
    "    ),\n",
    "    Document(\n",
    "        id=3,\n",
    "        page_content=\"We recognize the importance of assessing, identifying, and managing material risks associated with cybersecurity threats, as such term is defined in Item 106(a) of Regulation S-K. These risks include, among other things: operational risks, intellectual property theft, fraud, extortion, harm to employees or customers and violation of data privacy or security laws. Identifying and assessing cybersecurity risk is integrated into our overall risk management systems and processes. Cybersecurity risks related to our business, technical operations, privacy and compliance issues are identified and addressed through a multi-faceted approach including third party assessments, internal IT Audit, IT security, governance, risk and compliance reviews. To defend, detect and respond to cybersecurity incidents, we, among other things: conduct proactive privacy and cybersecurity reviews of systems and applications, audit applicable data policies, perform penetration testing using external third-party tools and techniques to test security controls, operate a bug bounty program to encourage proactive vulnerability reporting, conduct employee training, monitor emerging laws and regulations related to data protection and information security (including our consumer products) and implement appropriate changes.\",\n",
    "        metadata={\"year\": 2023, \"section\": \"cyber_security\"}\n",
    "    ),\n",
    "    Document(\n",
    "        id=4,\n",
    "        page_content=\"The automotive segment includes the design, development, manufacturing, sales and leasing of high-performance fully electric vehicles as well as sales of automotive regulatory credits. Additionally, the automotive segment also includes services and other, which includes non-warranty after- sales vehicle services and parts, sales of used vehicles, retail merchandise, paid Supercharging and vehicle insurance revenue. The energy generation and storage segment includes the design, manufacture, installation, sales and leasing of solar energy generation and energy storage products and related services and sales of solar energy systems incentives.\",\n",
    "        metadata={\"year\": 2022, \"section\": \"business\"}\n",
    "    ),\n",
    "    Document(\n",
    "        id=5,\n",
    "        page_content=\"Since the first quarter of 2020, there has been a worldwide impact from the COVID-19 pandemic. Government regulations and shifting social behaviors have, at times, limited or closed non-essential transportation, government functions, business activities and person-to-person interactions. Global trade conditions and consumer trends that originated during the pandemic continue to persist and may also have long-lasting adverse impact on us and our industries independently of the progress of the pandemic.\",\n",
    "        metadata={\"year\": 2022, \"section\": \"risk_factors\"}\n",
    "    ),\n",
    "    Document(\n",
    "        id=6,\n",
    "        page_content=\"The German Umweltbundesamt issued our subsidiary in Germany a notice and fine in the amount of 12 million euro alleging its non-compliance under applicable laws relating to market participation notifications and take-back obligations with respect to end-of-life battery products required thereunder. In response to Tesla’s objection, the German Umweltbundesamt issued Tesla a revised fine notice dated April 29, 2021 in which it reduced the original fine amount to 1.45 million euro. This is primarily relating to administrative requirements, but Tesla has continued to take back battery packs, and filed a new objection in June 2021. A hearing took place on November 24, 2022, and the parties reached a settlement which resulted in a further reduction of the fine to 600,000 euro. Both parties have waived their right to appeal.\",\n",
    "        metadata={\"year\": 2022, \"section\": \"legal_proceedings\"}\n",
    "    )\n",
    "]\n"
   ]
  },
  {
   "cell_type": "code",
   "execution_count": null,
   "metadata": {
    "id": "IHkqj-JATBkI"
   },
   "outputs": [],
   "source": [
    "collection.add(\n",
    "    ids=[d.id for d in documents],\n",
    "    documents=[d.page_content for d in documents],\n",
    "    metadatas=[d.metadata for d in documents]\n",
    ")"
   ]
  },
  {
   "cell_type": "code",
   "execution_count": null,
   "metadata": {
    "id": "tNF5FUJKTN5E"
   },
   "outputs": [],
   "source": [
    "# Structured Retrieval\n",
    "\n",
    "# To be able to filter by metadata, the retrieval needs access to metadata descriptions\n",
    "\n",
    "vectorstore = Chroma(\n",
    "    client=chromadb_client,\n",
    "    collection_name=\"full_document_chunks\",\n",
    "    embedding_function=embedding_model\n",
    ")\n"
   ]
  },
  {
   "cell_type": "code",
   "execution_count": null,
   "metadata": {
    "id": "kVChpoYPTT2i"
   },
   "outputs": [],
   "source": [
    "metadata_field_info = [\n",
    "    AttributeInfo(\n",
    "        name=\"year\",\n",
    "        description=\"The year for which the 10-K statement was prepared\",\n",
    "        type=\"integer\"\n",
    "    ),\n",
    "    AttributeInfo(\n",
    "        name=\"section\",\n",
    "        description=\"Section within the 10-k statement that the document belongs to\",\n",
    "        type=\"string\"\n",
    "    )\n",
    "]"
   ]
  },
  {
   "cell_type": "code",
   "execution_count": null,
   "metadata": {
    "id": "eZginbx-TXGv"
   },
   "outputs": [],
   "source": [
    "document_content_description = \"Specific information mentioned in the 10-k statement\""
   ]
  },
  {
   "cell_type": "code",
   "execution_count": null,
   "metadata": {
    "id": "8E7TtiCiTZiN"
   },
   "outputs": [],
   "source": [
    "structured_retriever = SelfQueryRetriever.from_llm(\n",
    "    llm,\n",
    "    vectorstore,\n",
    "    document_content_description,\n",
    "    metadata_field_info\n",
    ")"
   ]
  },
  {
   "cell_type": "code",
   "execution_count": null,
   "metadata": {
    "colab": {
     "base_uri": "https://localhost:8080/"
    },
    "executionInfo": {
     "elapsed": 1540,
     "status": "ok",
     "timestamp": 1742418199253,
     "user": {
      "displayName": "Soumitra Mukherji",
      "userId": "02267047127611459680"
     },
     "user_tz": 300
    },
    "id": "5ReBTPnPTbzw",
    "outputId": "ced3c826-aad5-4848-e92a-c8bb0902cc42"
   },
   "outputs": [
    {
     "data": {
      "text/plain": [
       "[Document(metadata={'section': 'legal_proceedings', 'year': 2022}, page_content='The German Umweltbundesamt issued our subsidiary in Germany a notice and fine in the amount of 12 million euro alleging its non-compliance under applicable laws relating to market participation notifications and take-back obligations with respect to end-of-life battery products required thereunder. In response to Tesla’s objection, the German Umweltbundesamt issued Tesla a revised fine notice dated April 29, 2021 in which it reduced the original fine amount to 1.45 million euro. This is primarily relating to administrative requirements, but Tesla has continued to take back battery packs, and filed a new objection in June 2021. A hearing took place on November 24, 2022, and the parties reached a settlement which resulted in a further reduction of the fine to 600,000 euro. Both parties have waived their right to appeal.'),\n",
       " Document(metadata={'section': 'risk_factors', 'year': 2022}, page_content='Since the first quarter of 2020, there has been a worldwide impact from the COVID-19 pandemic. Government regulations and shifting social behaviors have, at times, limited or closed non-essential transportation, government functions, business activities and person-to-person interactions. Global trade conditions and consumer trends that originated during the pandemic continue to persist and may also have long-lasting adverse impact on us and our industries independently of the progress of the pandemic.'),\n",
       " Document(metadata={'section': 'business', 'year': 2022}, page_content='The automotive segment includes the design, development, manufacturing, sales and leasing of high-performance fully electric vehicles as well as sales of automotive regulatory credits. Additionally, the automotive segment also includes services and other, which includes non-warranty after- sales vehicle services and parts, sales of used vehicles, retail merchandise, paid Supercharging and vehicle insurance revenue. The energy generation and storage segment includes the design, manufacture, installation, sales and leasing of solar energy generation and energy storage products and related services and sales of solar energy systems incentives.')]"
      ]
     },
     "execution_count": 53,
     "metadata": {},
     "output_type": "execute_result"
    }
   ],
   "source": [
    "structured_retriever.invoke(\"Any specific fines levied on the company in 2022?\")\n"
   ]
  },
  {
   "cell_type": "code",
   "execution_count": null,
   "metadata": {
    "id": "uo2lJkCgTdBq"
   },
   "outputs": [],
   "source": [
    "# Hypothetical Questions\n",
    "\n",
    "hypothetical_questions_prompt = \"\"\"\n",
    "Generate a list of exactly 3 hypothetical questions that the below document could be used to answer:\n",
    "{doc}\n",
    "Generate only a list of questions. Do not mention anything before or after the list.\n",
    "\"\"\"\n"
   ]
  },
  {
   "cell_type": "code",
   "execution_count": null,
   "metadata": {
    "id": "OU_zvow9Tn0c"
   },
   "outputs": [],
   "source": [
    "\n",
    "hypothetical_question_documents = []\n"
   ]
  },
  {
   "cell_type": "code",
   "execution_count": null,
   "metadata": {
    "id": "eums-_-RTpp2"
   },
   "outputs": [],
   "source": [
    "\n",
    "for document in documents:\n",
    "\n",
    "    try:\n",
    "        response = llm.invoke(hypothetical_questions_prompt.format(doc=document))\n",
    "\n",
    "        questions = response.content\n",
    "    except Exception as e:\n",
    "        print(e)\n",
    "        questions = \"\"\n",
    "\n",
    "    questions_metadata = {\n",
    "        'parent_chunk_id': document.id,\n",
    "        'parent_collection': 'full_document_chunks'\n",
    "    }\n",
    "\n",
    "    hypothetical_question_documents.append(\n",
    "        Document(\n",
    "            id=document.id,\n",
    "            page_content=questions,\n",
    "            metadata=questions_metadata\n",
    "        )\n",
    "    )\n"
   ]
  },
  {
   "cell_type": "code",
   "execution_count": null,
   "metadata": {
    "id": "3SQWoFb-TsUy"
   },
   "outputs": [],
   "source": [
    "collection = chromadb_client.get_or_create_collection(\n",
    "    name='hypothetical_questions',\n",
    "    metadata={\"hnsw:space\": \"cosine\"},\n",
    "    embedding_function=embedding_function\n",
    ")"
   ]
  },
  {
   "cell_type": "code",
   "execution_count": null,
   "metadata": {
    "id": "MKMBd44yUAjV"
   },
   "outputs": [],
   "source": [
    "collection.add(\n",
    "    ids=[d.id for d in hypothetical_question_documents],\n",
    "    documents=[d.page_content for d in hypothetical_question_documents],\n",
    "    metadatas=[d.metadata for d in hypothetical_question_documents]\n",
    ")"
   ]
  },
  {
   "cell_type": "code",
   "execution_count": null,
   "metadata": {
    "id": "wwFgMJWjT1JC"
   },
   "outputs": [],
   "source": [
    "# Retriever over questions\n",
    "\n",
    "vectorstore = Chroma(\n",
    "    client=chromadb_client,\n",
    "    collection_name=\"hypothetical_questions\",\n",
    "    embedding_function=embedding_model\n",
    ")"
   ]
  },
  {
   "cell_type": "code",
   "execution_count": null,
   "metadata": {
    "id": "3K3Zhe2WUHSX"
   },
   "outputs": [],
   "source": [
    "retriever = vectorstore.as_retriever(\n",
    "    search_type=\"similarity\",\n",
    "    search_kwargs={'k': 5}\n",
    ")\n"
   ]
  },
  {
   "cell_type": "code",
   "execution_count": null,
   "metadata": {
    "id": "4SdcqKSNULLw"
   },
   "outputs": [],
   "source": [
    "hypothetical_questions_retrieved = retriever.invoke(\"Any specific fines levied on the company in 2022?\")"
   ]
  },
  {
   "cell_type": "code",
   "execution_count": null,
   "metadata": {
    "colab": {
     "base_uri": "https://localhost:8080/"
    },
    "executionInfo": {
     "elapsed": 13,
     "status": "ok",
     "timestamp": 1742418246240,
     "user": {
      "displayName": "Soumitra Mukherji",
      "userId": "02267047127611459680"
     },
     "user_tz": 300
    },
    "id": "w13S4BzHUQYY",
    "outputId": "642444df-6ba9-414c-caf1-f68a63d4ac86"
   },
   "outputs": [
    {
     "data": {
      "text/plain": [
       "Document(metadata={'parent_chunk_id': '6', 'parent_collection': 'full_document_chunks'}, page_content='1. What were the reasons for the initial fine imposed on Tesla by the German Umweltbundesamt regarding end-of-life battery products?\\n2. How did Tesla respond to the initial fine, and what changes were made to the fine amount throughout the legal proceedings?\\n3. What was the outcome of the settlement reached between Tesla and the German Umweltbundesamt in November 2022?')"
      ]
     },
     "execution_count": 62,
     "metadata": {},
     "output_type": "execute_result"
    }
   ],
   "source": [
    "hypothetical_questions_retrieved[0]"
   ]
  },
  {
   "cell_type": "code",
   "execution_count": null,
   "metadata": {
    "id": "EW97PNsBUUOg"
   },
   "outputs": [],
   "source": [
    "# Query Expansion\n",
    "\n",
    "query_expansion_prompt = \"\"\"\n",
    "You are an financial domain expert assisting in answering questions related to 10-k reports.\n",
    "Perform query expansion on the question received. If there are multiple common ways of phrasing a user question \\\n",
    "or common synonyms for key words in the question, make sure to return multiple versions \\\n",
    "of the query with the different phrasings.\n",
    "\n",
    "If there are acronyms or words you are not familiar with, do not try to rephrase them.\n",
    "\n",
    "Return at least 3 versions of the question as a list.\n",
    "Generate only a list of questions. Do not mention anything before or after the list.\n",
    "\n",
    "Question:\n",
    "{question}\n",
    "\"\"\""
   ]
  },
  {
   "cell_type": "code",
   "execution_count": null,
   "metadata": {
    "id": "tcMJiNFvUdH0"
   },
   "outputs": [],
   "source": [
    "user_input = \"Any specific fines levied on the company in 2022?\"\n"
   ]
  },
  {
   "cell_type": "code",
   "execution_count": null,
   "metadata": {
    "id": "aBWNkU1eUfed"
   },
   "outputs": [],
   "source": [
    "query_expansions = llm.invoke(query_expansion_prompt.format(question=user_input))"
   ]
  },
  {
   "cell_type": "code",
   "execution_count": null,
   "metadata": {
    "id": "aI23nYnsUjGb"
   },
   "outputs": [],
   "source": [
    "query_expansions_list = query_expansions.content.split(\"\\n\")\n"
   ]
  },
  {
   "cell_type": "code",
   "execution_count": null,
   "metadata": {
    "colab": {
     "base_uri": "https://localhost:8080/"
    },
    "executionInfo": {
     "elapsed": 6,
     "status": "ok",
     "timestamp": 1742418257895,
     "user": {
      "displayName": "Soumitra Mukherji",
      "userId": "02267047127611459680"
     },
     "user_tz": 300
    },
    "id": "ridNclSHUk0m",
    "outputId": "8ef8b485-86b9-401e-a76c-42d2724f3012"
   },
   "outputs": [
    {
     "data": {
      "text/plain": [
       "['1. Were there any particular fines imposed on the company in 2022?',\n",
       " '2. Did the company incur any specific penalties in 2022?',\n",
       " '3. What fines were assessed against the company in 2022?']"
      ]
     },
     "execution_count": 67,
     "metadata": {},
     "output_type": "execute_result"
    }
   ],
   "source": [
    "query_expansions_list"
   ]
  },
  {
   "cell_type": "code",
   "execution_count": null,
   "metadata": {
    "id": "N9HbS8UrUm7X"
   },
   "outputs": [],
   "source": [
    "vectorstore = Chroma(\n",
    "    client=chromadb_client,\n",
    "    collection_name=\"full_document_chunks\",\n",
    "    embedding_function=embedding_model\n",
    ")"
   ]
  },
  {
   "cell_type": "code",
   "execution_count": null,
   "metadata": {
    "id": "JtABSwkkUtZa"
   },
   "outputs": [],
   "source": [
    "retriever = vectorstore.as_retriever(\n",
    "    search_type=\"similarity\",\n",
    "    search_kwargs={\n",
    "        'k': 5\n",
    "    }\n",
    ")\n"
   ]
  },
  {
   "cell_type": "code",
   "execution_count": null,
   "metadata": {
    "id": "HrTOcdbhUwG3"
   },
   "outputs": [],
   "source": [
    "context_list = []"
   ]
  },
  {
   "cell_type": "code",
   "execution_count": null,
   "metadata": {
    "id": "EthFHMcwU20J"
   },
   "outputs": [],
   "source": [
    "for query in query_expansions_list:\n",
    "    context_list.extend([d.page_content for d in retriever.invoke(query)])\n",
    "    break\n"
   ]
  },
  {
   "cell_type": "code",
   "execution_count": null,
   "metadata": {
    "colab": {
     "base_uri": "https://localhost:8080/"
    },
    "executionInfo": {
     "elapsed": 4,
     "status": "ok",
     "timestamp": 1742418267362,
     "user": {
      "displayName": "Soumitra Mukherji",
      "userId": "02267047127611459680"
     },
     "user_tz": 300
    },
    "id": "yhuMI8s8U3zE",
    "outputId": "4f23f261-c1c8-4984-9759-5f82d0444fa1"
   },
   "outputs": [
    {
     "data": {
      "text/plain": [
       "['The German Umweltbundesamt issued our subsidiary in Germany a notice and fine in the amount of 12 million euro alleging its non-compliance under applicable laws relating to market participation notifications and take-back obligations with respect to end-of-life battery products required thereunder. In response to Tesla’s objection, the German Umweltbundesamt issued Tesla a revised fine notice dated April 29, 2021 in which it reduced the original fine amount to 1.45 million euro. This is primarily relating to administrative requirements, but Tesla has continued to take back battery packs, and filed a new objection in June 2021. A hearing took place on November 24, 2022, and the parties reached a settlement which resulted in a further reduction of the fine to 600,000 euro. Both parties have waived their right to appeal.',\n",
       " 'Since the first quarter of 2020, there has been a worldwide impact from the COVID-19 pandemic. Government regulations and shifting social behaviors have, at times, limited or closed non-essential transportation, government functions, business activities and person-to-person interactions. Global trade conditions and consumer trends that originated during the pandemic continue to persist and may also have long-lasting adverse impact on us and our industries independently of the progress of the pandemic.',\n",
       " 'We have previously experienced and may in the future experience launch and production ramp delays for new products and features. For example, we encountered unanticipated supplier issues that led to delays during the initial ramp of our first Model X and experienced challenges with a supplier and with ramping full automation for certain of our initial Model 3 manufacturing processes. In addition, we may introduce in the future new or unique manufacturing processes and design features for our products. As we expand our vehicle offerings and global footprint, there is no guarantee that we will be able to successfully and timely introduce and scale such processes or features.',\n",
       " 'We recognize the importance of assessing, identifying, and managing material risks associated with cybersecurity threats, as such term is defined in Item 106(a) of Regulation S-K. These risks include, among other things: operational risks, intellectual property theft, fraud, extortion, harm to employees or customers and violation of data privacy or security laws. Identifying and assessing cybersecurity risk is integrated into our overall risk management systems and processes. Cybersecurity risks related to our business, technical operations, privacy and compliance issues are identified and addressed through a multi-faceted approach including third party assessments, internal IT Audit, IT security, governance, risk and compliance reviews. To defend, detect and respond to cybersecurity incidents, we, among other things: conduct proactive privacy and cybersecurity reviews of systems and applications, audit applicable data policies, perform penetration testing using external third-party tools and techniques to test security controls, operate a bug bounty program to encourage proactive vulnerability reporting, conduct employee training, monitor emerging laws and regulations related to data protection and information security (including our consumer products) and implement appropriate changes.',\n",
       " 'We design, develop, manufacture, sell and lease high-performance fully electric vehicles and energy generation and storage systems, and offer services related to our products. We generally sell our products directly to customers, and continue to grow our customer-facing infrastructure through a global network of vehicle showrooms and service centers, Mobile Service, body shops, Supercharger stations and Destination Chargers to accelerate the widespread adoption of our products. We emphasize performance, attractive styling and the safety of our users and workforce in the design and manufacture of our products and are continuing to develop full self-driving technology for improved safety. We also strive to lower the cost of ownership for our customers through continuous efforts to reduce manufacturing costs and by offering financial and other services tailored to our products.']"
      ]
     },
     "execution_count": 72,
     "metadata": {},
     "output_type": "execute_result"
    }
   ],
   "source": [
    "context_list"
   ]
  },
  {
   "cell_type": "markdown",
   "metadata": {
    "id": "CWv1sZ62B44B"
   },
   "source": [
    "# Compressors"
   ]
  },
  {
   "cell_type": "markdown",
   "metadata": {
    "id": "WdsX6elhWqRv"
   },
   "source": [
    "**LLMChainExtractor.from_llm(llm)** creates a compression model using a language model (LLM).\n",
    "- It extracts only the most relevant parts of documents instead of returning the entire text.\n",
    "- This is useful when dealing with long documents, ensuring that only key information is passed to the LLM.\n",
    "\n",
    "- **it does not create a new LLM. Instead, it wraps an existing LLM (like gpt-4 or gpt-3.5) and configures it to act as an extractor that compresses retrieved documents.**\n",
    "\n",
    "🔹 How Does It Work?\n",
    "\n",
    "\t1.\tAn existing LLM (e.g., GPT-4) is passed into LLMChainExtractor.\n",
    "\t2.\tThe LLM is prompted to find and return only the key information based on the user’s query.\n",
    "\t3.\tIt outputs a compressed document, removing unnecessary details.\n",
    "\n",
    "**ContextualCompressionRetriever combines:**\n",
    "- base_compressor: The LLM-powered extractor (LLMChainExtractor).\n",
    "- base_retriever: The retriever that fetches documents based on user queries.\n",
    "- Purpose: Instead of retrieving full documents, it retrieves and compresses the relevant parts before passing them to the LLM.\n",
    "\n",
    "```python\n",
    "compressed_docs = compression_retriever.invoke(user_input)\n",
    "```\n",
    "\n",
    "- User input (query) is passed to the retriever.\n",
    "- The retriever fetches relevant documents from the vector database.\n",
    "- The compressor extracts only the necessary portions.\n",
    "- The result is a compressed list of documents containing only the most relevant content.\n",
    "\n",
    "📌 Why Use Information Compression?\n",
    "\n",
    "✅ Reduces token usage → Helps in LLMs with context length limits.\n",
    "\n",
    "✅ Improves retrieval accuracy → Filters only the relevant parts of documents.\n",
    "\n",
    "✅ Speeds up inference → LLMs process less data, reducing computation time."
   ]
  },
  {
   "cell_type": "code",
   "execution_count": null,
   "metadata": {
    "id": "tfEHiR45WO1N"
   },
   "outputs": [],
   "source": [
    "# Information compression\n",
    "\n",
    "compressor = LLMChainExtractor.from_llm(llm)"
   ]
  },
  {
   "cell_type": "code",
   "execution_count": null,
   "metadata": {
    "id": "S_J6kVcWWQwI"
   },
   "outputs": [],
   "source": [
    "compression_retriever = ContextualCompressionRetriever(\n",
    "    base_compressor=compressor, base_retriever=retriever\n",
    ")"
   ]
  },
  {
   "cell_type": "code",
   "execution_count": null,
   "metadata": {
    "id": "2rCAsNyeWS1a"
   },
   "outputs": [],
   "source": [
    "compressed_docs = compression_retriever.invoke(user_input)"
   ]
  },
  {
   "cell_type": "code",
   "execution_count": null,
   "metadata": {
    "colab": {
     "base_uri": "https://localhost:8080/"
    },
    "executionInfo": {
     "elapsed": 8,
     "status": "ok",
     "timestamp": 1742418290936,
     "user": {
      "displayName": "Soumitra Mukherji",
      "userId": "02267047127611459680"
     },
     "user_tz": 300
    },
    "id": "PEOnNGeoWTr9",
    "outputId": "08b9b1e2-4030-461c-d74c-bb651d123eed"
   },
   "outputs": [
    {
     "name": "stdout",
     "output_type": "stream",
     "text": [
      "The German Umweltbundesamt issued our subsidiary in Germany a notice and fine in the amount of 12 million euro alleging its non-compliance under applicable laws relating to market participation notifications and take-back obligations with respect to end-of-life battery products required thereunder. In response to Tesla’s objection, the German Umweltbundesamt issued Tesla a revised fine notice dated April 29, 2021 in which it reduced the original fine amount to 1.45 million euro. A hearing took place on November 24, 2022, and the parties reached a settlement which resulted in a further reduction of the fine to 600,000 euro.\n"
     ]
    }
   ],
   "source": [
    "for compressed_doc in compressed_docs:\n",
    "    print(compressed_doc.page_content)"
   ]
  },
  {
   "cell_type": "markdown",
   "metadata": {
    "id": "HeGu8_XIZd_I"
   },
   "source": [
    "### Understanding Reranking in Document Retrieval\n",
    "\n",
    "This code is implementing reranking to improve the quality of retrieved documents before they are passed to an LLM. It does so using a cross-encoder model from Hugging Face.\n",
    "\n",
    "\n",
    "- This creates pairs of user queries and retrieved documents.\n",
    "- Each pair consists of:\n",
    "    - User input (query)\n",
    "    - A retrieved document (doc_text)\n",
    "    - The cross-encoder will assign a relevance score to each query-document pair.\n",
    "\n",
    "\n",
    "- Loads a cross-encoder model **(ms-marco-MiniLM-L-6-v2)**.\n",
    "- **Unlike bi-encoder retrievers (e.g., embeddings + vector search), a cross-encoder directly compares the user query with each document before ranking them.**  \n",
    "\n",
    "- Assigns a relevance score to each query-document pair.\n",
    "- Higher scores mean the document is more relevant to the query.\n",
    "\n",
    "```python\n",
    "reranker = CrossEncoderReranker(model=crossencoder, top_n=5)\n",
    "```\n",
    "\n",
    "- Wraps the crossencoder in CrossEncoderReranker.\n",
    "- The top_n=5 parameter ensures that only the top 5 most relevant documents are kept.\n",
    "\n",
    "\n",
    "**Apply the Reranker to the Original Retriever**\n",
    "```python\n",
    "reranker_retriever = ContextualCompressionRetriever(\n",
    "    base_compressor=reranker, base_retriever=retriever\n",
    ")\n",
    "```\n",
    "\n",
    "- Combines the reranker with the original retriever (retriever).\n",
    "- nstead of returning documents in their original order, it reranks them based on relevance.\n",
    "\n",
    "**Retrieve and Rerank Documents**\n",
    "```python\n",
    "reranked_docs = reranker_retriever.invoke(user_input)\n",
    "```\n",
    "\n",
    "- Fetches documents using the original retriever.\n",
    "- Re-scores and re-ranks them using the cross-encoder.\n",
    "- Returns only the most relevant documents.\n",
    "\n",
    "\n",
    "**Check if the Order Changed After Reranking**\n",
    "\n",
    "```python\n",
    "for i in range(len(reranked_docs)):\n",
    "    if reranked_docs[i].page_content == context_list[i]:\n",
    "        continue\n",
    "    else:\n",
    "        print(f\"Document at rank: {i} after reranking differs from the original order\")\n",
    "\n",
    "```\n",
    "- Compares the reranked document order to the original order.\n",
    "- If a document moves up or down in rank, it prints a message.        \n",
    "\n",
    "## 🔷 Summary of the Code\n",
    "\n",
    "| Step | Action |\n",
    "|------|--------|\n",
    "| 1️⃣ **Create query-document pairs** | Prepares the data for scoring. |\n",
    "| 2️⃣ **Load cross-encoder model** | Uses `ms-marco-MiniLM-L-6-v2` to score documents. |\n",
    "| 3️⃣ **Score documents** | Assigns a **relevance score** to each document. |\n",
    "| 4️⃣ **Select top-ranked documents** | Filters out low-ranking documents (`top_n=5`). |\n",
    "| 5️⃣ **Use reranking with retriever** | Improves relevance before passing to the LLM. |\n",
    "| 6️⃣ **Retrieve and rerank documents** | Retrieves docs, re-ranks them, and returns the best ones. |\n",
    "| 7️⃣ **Check if rankings changed** | Compares old and new rankings to confirm reranking worked. |\n",
    "\n",
    "📌 Why Use Reranking?\n",
    "\n",
    "✅ Improves retrieval accuracy → Ensures the most relevant documents are prioritized.\n",
    "\n",
    "✅ Removes noise → Eliminates less relevant documents from retrieval.\n",
    "\n",
    "✅ Enhances RAG pipelines → Helps LLMs get the right context, improving responses.\n",
    "\n"
   ]
  },
  {
   "cell_type": "code",
   "execution_count": null,
   "metadata": {
    "id": "BXoWU8YxWXK8"
   },
   "outputs": [],
   "source": [
    "# Reranking\n",
    "\n",
    "context_query_pairs_for_scoring = [[user_input, doc_text] for doc_text in context_list]"
   ]
  },
  {
   "cell_type": "code",
   "execution_count": null,
   "metadata": {
    "colab": {
     "base_uri": "https://localhost:8080/",
     "height": 232,
     "referenced_widgets": [
      "dc6a0eca03254b42a3489c49bcd7d583",
      "e21c4bcb106f406a9da8e7d784e5de29",
      "3629e1903c7e46118a2964f34eebfea9",
      "1c2eecc364b94fcba5639f8c6342660c",
      "be49d5e8bc0448ff98317271002a3321",
      "a312a2ac94114d0d8e6e07a58c8d2837",
      "ec688394ca8a4af5a31a594db1ca6c14",
      "c6077007693a44679f41d95db330ca42",
      "b20a1e7ae33e44c2b5aba2c01e53a359",
      "1e3dbbafb7d84789bc2f959c0ec09e99",
      "8ac6410120d44e75ad148e96832673aa",
      "738a988d4e6d47ce91af03445a4f6181",
      "cfec89a4ac1c4a07a3d4e833b131ab84",
      "346582a035a04dad93881161bf93c94b",
      "0f52d97a581c42c184d3bb0d939c8f2e",
      "19a837d47dae40b389d2eabb7b2ef642",
      "e52e5d397ff04cb185c9c01450e1b978",
      "f4464696b05242efaae8042dea457002",
      "8de0a6d5f4074955b615ae1b3c19b391",
      "12aa3c59077b4a82a88c443a31db7d78",
      "c6dd73b64b7545f3a4774b7b9be1cc4e",
      "8130de754e43404fa76d419c1d45ccb6",
      "b71946e86b2e406cb56887922cb67034",
      "d55a9f4eab624156a08c4b7b3e6fa6c3",
      "eaf30e62886545e0a3dddd3b26de3a94",
      "feae97326bba47a0ab0159db064ad304",
      "31bc94b76acb4f9a8f775094a6ced102",
      "25b671dd443f42e0b00a168e8898502a",
      "1e16fb72475f48fea9983fbfb972b7a3",
      "dec8a07baef145219c2b4afe668ab2f3",
      "5d08502a021844ca9b1c63a4721e8996",
      "f0f1cb40590f47d294386c6047a7c4b9",
      "44797e5c4cb14926a6dc2264bd1b9824",
      "4573d45d6f3c4a079ede90f949888940",
      "164969a1d5044e128c67183a12661386",
      "0fa9bab08aaf48968ae8386f76cfbdf1",
      "7dc3d2dbf08b432ab1a25683b7437e85",
      "088bce30c2404951b21b95e28e3df51c",
      "9670db825a714b66b28ec83f844214f7",
      "02c4a97b2b1f4da3b7885c8e2422653c",
      "12a9bff9fce54f788edc5eada20876e3",
      "429a3f3446434c498c71028c7568e24f",
      "346a24a9e7bb4782a549eebcf638ed25",
      "9952060c897d448cb263987b475e8727",
      "2f21e871ba4b4d44ba59d52ba51f8676",
      "486af032ff814f35944225e2d3acc9e0",
      "a834b4584d5d4ee785b9403e6b6bf161",
      "67d9b2f41f7240eaa94769fedc80b86f",
      "49f1b28f82f44ea090763afec56677c3",
      "ec4e8073f8654e1d83c429831fcde278",
      "c3b2667713d74c20b2e7b5b21526dc56",
      "ca1738fad5fb48f7af9c379db4831741",
      "ddf6e07812d4427d9b52fffb0eff6a86",
      "7e5e610a41254233a57f00d6f5fd064c",
      "d4a9fed6075d47b49fda92c6ece51b22"
     ]
    },
    "executionInfo": {
     "elapsed": 18884,
     "status": "ok",
     "timestamp": 1742418335674,
     "user": {
      "displayName": "Soumitra Mukherji",
      "userId": "02267047127611459680"
     },
     "user_tz": 300
    },
    "id": "UacTRhG2WY2Q",
    "outputId": "8bf3a729-5d33-42fa-ec8b-749b77864181"
   },
   "outputs": [
    {
     "name": "stderr",
     "output_type": "stream",
     "text": [
      "/usr/local/lib/python3.11/dist-packages/sentence_transformers/cross_encoder/CrossEncoder.py:11: TqdmExperimentalWarning: Using `tqdm.autonotebook.tqdm` in notebook mode. Use `tqdm.tqdm` instead to force console mode (e.g. in jupyter console)\n",
      "  from tqdm.autonotebook import tqdm, trange\n"
     ]
    },
    {
     "data": {
      "application/vnd.jupyter.widget-view+json": {
       "model_id": "dc6a0eca03254b42a3489c49bcd7d583",
       "version_major": 2,
       "version_minor": 0
      },
      "text/plain": [
       "config.json:   0%|          | 0.00/794 [00:00<?, ?B/s]"
      ]
     },
     "metadata": {},
     "output_type": "display_data"
    },
    {
     "data": {
      "application/vnd.jupyter.widget-view+json": {
       "model_id": "738a988d4e6d47ce91af03445a4f6181",
       "version_major": 2,
       "version_minor": 0
      },
      "text/plain": [
       "model.safetensors:   0%|          | 0.00/90.9M [00:00<?, ?B/s]"
      ]
     },
     "metadata": {},
     "output_type": "display_data"
    },
    {
     "data": {
      "application/vnd.jupyter.widget-view+json": {
       "model_id": "b71946e86b2e406cb56887922cb67034",
       "version_major": 2,
       "version_minor": 0
      },
      "text/plain": [
       "tokenizer_config.json:   0%|          | 0.00/316 [00:00<?, ?B/s]"
      ]
     },
     "metadata": {},
     "output_type": "display_data"
    },
    {
     "data": {
      "application/vnd.jupyter.widget-view+json": {
       "model_id": "4573d45d6f3c4a079ede90f949888940",
       "version_major": 2,
       "version_minor": 0
      },
      "text/plain": [
       "vocab.txt:   0%|          | 0.00/232k [00:00<?, ?B/s]"
      ]
     },
     "metadata": {},
     "output_type": "display_data"
    },
    {
     "data": {
      "application/vnd.jupyter.widget-view+json": {
       "model_id": "2f21e871ba4b4d44ba59d52ba51f8676",
       "version_major": 2,
       "version_minor": 0
      },
      "text/plain": [
       "special_tokens_map.json:   0%|          | 0.00/112 [00:00<?, ?B/s]"
      ]
     },
     "metadata": {},
     "output_type": "display_data"
    }
   ],
   "source": [
    "crossencoder = HuggingFaceCrossEncoder(model_name=\"cross-encoder/ms-marco-MiniLM-L-6-v2\")"
   ]
  },
  {
   "cell_type": "code",
   "execution_count": null,
   "metadata": {
    "colab": {
     "base_uri": "https://localhost:8080/"
    },
    "executionInfo": {
     "elapsed": 1145,
     "status": "ok",
     "timestamp": 1742418342620,
     "user": {
      "displayName": "Soumitra Mukherji",
      "userId": "02267047127611459680"
     },
     "user_tz": 300
    },
    "id": "JeKBH3lFWaDJ",
    "outputId": "662d1375-d170-470e-c1a5-f10cded4755e"
   },
   "outputs": [
    {
     "data": {
      "text/plain": [
       "array([ -1.5920798, -10.410274 , -11.38096  , -11.157393 , -11.252782 ],\n",
       "      dtype=float32)"
      ]
     },
     "execution_count": 80,
     "metadata": {},
     "output_type": "execute_result"
    }
   ],
   "source": [
    "crossencoder.score(context_query_pairs_for_scoring)"
   ]
  },
  {
   "cell_type": "code",
   "execution_count": null,
   "metadata": {
    "id": "Hi4J1QKZWbwg"
   },
   "outputs": [],
   "source": [
    "reranker = CrossEncoderReranker(model=crossencoder, top_n=5)"
   ]
  },
  {
   "cell_type": "code",
   "execution_count": null,
   "metadata": {
    "id": "pA-pD63lWdbc"
   },
   "outputs": [],
   "source": [
    "reranker_retriever = ContextualCompressionRetriever(\n",
    "    base_compressor=reranker, base_retriever=retriever\n",
    ")"
   ]
  },
  {
   "cell_type": "code",
   "execution_count": null,
   "metadata": {
    "id": "S1cX0XiYWe3t"
   },
   "outputs": [],
   "source": [
    "reranked_docs = reranker_retriever.invoke(user_input)"
   ]
  },
  {
   "cell_type": "code",
   "execution_count": null,
   "metadata": {
    "colab": {
     "base_uri": "https://localhost:8080/"
    },
    "executionInfo": {
     "elapsed": 7,
     "status": "ok",
     "timestamp": 1742418353111,
     "user": {
      "displayName": "Soumitra Mukherji",
      "userId": "02267047127611459680"
     },
     "user_tz": 300
    },
    "id": "GLWZhkhgWhiB",
    "outputId": "e14d9fb5-2c81-46da-d9b1-dc236dce2f95"
   },
   "outputs": [
    {
     "name": "stdout",
     "output_type": "stream",
     "text": [
      "Document at rank: 2 after reranking differs from the original order\n",
      "Document at rank: 3 after reranking differs from the original order\n",
      "Document at rank: 4 after reranking differs from the original order\n"
     ]
    }
   ],
   "source": [
    "for i in range(len(reranked_docs)):\n",
    "    if reranked_docs[i].page_content == context_list[i]:\n",
    "        continue\n",
    "    else:\n",
    "        print(f\"Document at rank: {i} after reranking differs from the original order\")"
   ]
  },
  {
   "cell_type": "markdown",
   "metadata": {
    "id": "hKjwuM7JC1mq"
   },
   "source": [
    "# RAGAS"
   ]
  },
  {
   "cell_type": "markdown",
   "metadata": {
    "id": "D3lFOy1jcwOl"
   },
   "source": [
    "**RAGAS: Retrieval-Augmented Generation Assessment Score**\n",
    "\n",
    "**RAGAS (Retrieval-Augmented Generation Assessment Score)** is a framework designed to evaluate the quality of RAG (Retrieval-Augmented Generation) pipelines.\n",
    "- It helps assess how well retrieved documents contribute to generating accurate and contextually relevant responses.\n",
    "\n",
    "🔹 **Why Do We Need RAGAS?**\n",
    "\n",
    "In a RAG pipeline, an LLM generates answers based on retrieved documents. However, not all retrieved documents are useful—some may be irrelevant or misleading.\n",
    "\n",
    "**RAGAS helps measure:**\n",
    "✅ Relevance – Are the retrieved documents relevant to the query?\n",
    "\n",
    "✅ Faithfulness – Does the generated response accurately reflect the retrieved information?\n",
    "\n",
    "✅ Answer Correctness – Is the final output factually correct?\n",
    "\n",
    "✅ Diversity – Are retrieved documents covering diverse, relevant perspectives?\n",
    "\n",
    "🔹 **How Does RAGAS Work?**\n",
    "\n",
    "**RAGAS scores a RAG pipeline by evaluating:**\n",
    "1.\t**Retrieval Quality** – How well does retrieval return useful information?\n",
    "2.\t**Generation Quality** – Does the LLM use the retrieved data effectively?\n",
    "3.\t**Overall Pipeline Performance** – How reliable is the entire RAG system?\n",
    "\n",
    "It typically works by automating evaluation using metrics derived from LLM-based comparisons and human-aligned benchmarks.\n",
    "\n",
    "## 🔷 Key Metrics in RAGAS\n",
    "\n",
    "| **Metric**            | **What It Measures**  |\n",
    "|----------------------|----------------------|\n",
    "| **Context Precision** | How relevant retrieved documents are to the query. |\n",
    "| **Faithfulness**      | Whether the generated answer stays true to retrieved docs (no hallucinations). |\n",
    "| **Answer Correctness** | If the generated response is factually correct. |\n",
    "| **Diversity**        | Whether retrieved documents come from multiple useful sources. |\n",
    "\n",
    "\n",
    "🔹 **Example: Using RAGAS to Evaluate a RAG System**\n",
    "\n",
    "```python\n",
    "from ragas import evaluate_rag\n",
    "\n",
    "score = evaluate_rag(\n",
    "    query=\"What is deep learning?\",\n",
    "    retrieved_docs=[\n",
    "        \"Deep learning is a subset of machine learning that uses neural networks.\",\n",
    "        \"Neural networks improve performance by learning from data.\"\n",
    "    ],\n",
    "    generated_response=\"Deep learning is a type of AI that uses neural networks for learning.\"\n",
    ")\n",
    "\n",
    "print(score)\n",
    "```\n",
    "\n",
    "🔹 Output:\n",
    "\n",
    "```json\n",
    "{\n",
    "    \"context_precision\": 0.95,\n",
    "    \"faithfulness\": 0.92,\n",
    "    \"answer_correctness\": 0.98,\n",
    "    \"diversity\": 0.80\n",
    "}\n",
    "```\n",
    "\n",
    "\n",
    "🔹 **Why is RAGAS Important?**\n",
    "\n",
    "✅ **Prevents Hallucinations** – Ensures the LLM is not making up facts.\n",
    "\n",
    "✅ **Optimizes Retrieval** – Helps improve the document retriever in a RAG pipeline.\n",
    "\n",
    "✅ **Improves Trustworthiness** – Ensures that responses are factually based on retrieved sources.\n",
    "\n",
    "⸻\n",
    "\n",
    "🔹 Summary\n",
    "- RAGAS = A scoring system for RAG pipelines.\n",
    "- Measures retrieval and generation quality.\n",
    "- Evaluates context relevance, correctness, and faithfulness.\n",
    "- Helps reduce hallucinations and improve response reliability.\n",
    "\n"
   ]
  },
  {
   "cell_type": "code",
   "execution_count": null,
   "metadata": {
    "id": "kxlw-2xV2xTO"
   },
   "outputs": [],
   "source": [
    "context = \"\"\"\n",
    "### Context:\n",
    "In 2020, we recognized total revenues of $31.54 billion, representing an increase of $6.96 billion compared to the prior year. We continue to ramp production, build new manufacturing capacity and expand our operations to enable increased deliveries and deployments of our products and further revenue growth. In 2020, our net income attributable to common stockholders was $721 million, representing a favorable change of $1.58 billion compared to the prior year. In 2020, our operating margin was 6.3%, representing a favorable change of 6.6% compared to the prior year. We continue to focus on operational efficiencies, while we have seen an acceleration of non-cash stock-based compensation expense due to a rapid increase in our market capitalization and updates to our business outlook. We ended 2020 with $19.38 billion in cash and cash equivalents, representing an increase of $13.12 billion from the end of 2019. Our cash flows from operating activities during 2020 was $5.94 billion, compared to $2.41 billion during 2019, and capital expenditures amounted to $3.16 billion during 2020, compared to $1.33 billion during 2019. Sustained growth has allowed our business to generally fund itself, but we will continue a number of capital-intensive projects in upcoming periods. Management Opportunities, Challenges and Risks and 2021 Outlook Impact of COVID-19 Pandemic.2020 compared to 2019 Automotive sales revenue increased $6.23 billion, or 31%, in the year ended December 31, 2020 as compared to the year ended December 31, 2019, primarily due to an increase of 129,268 Model 3 and Model Y cash deliveries despite production limitations as a result of temporary suspension of production at the Fremont Factory and Gigafactory Nevada during the first half of 2020. We were able to increase deliveries year over year from production ramping at both Gigafactory Shanghai and the Fremont Factory. There was also an increase of $986 million from additional sales of regulatory credits to $1.58 billion in the year ended December 31, 2020. Additionally, due to pricing adjustments we made to our vehicle offerings during the year ended December 31, 2019, we estimated that there was a greater likelihood that customers would exercise their buyback options and adjusted our sales return reserve on vehicles previously sold under our buyback options program which resulted in a reduction of automotive sales revenue of $555 million. We made further pricing adjustments that resulted in a similar but smaller reduction of automotive sales revenue of $72 million during the year ended December 31, 2020. The smaller reduction in revenue from pricing adjustments resulted in a positive impact to automotive sales revenue of $483 million year over year. These factors increasing automotive sales revenue were partially offset by a decrease in the combined average selling price of Model 3 and Model Y. Despite the inclusion of higher.These increases were partially offset by a decrease in used vehicle revenue driven by a reduction in non-Tesla trade-ins. Energy Generation and Storage Segment Energy generation and storage revenue includes sales and leasing of solar energy generation and energy storage products, services related to such products and sales of solar energy systems incentives. 2020 compared to 2019 Energy generation and storage revenue increased by $463 million, or 30%, in the year ended December 31, 2020 as compared to the year ended December 31, 2019, primarily due to increases in deployments of Megapack, solar cash and loan jobs and Powerwall, partially offset by a decrease in deployments of Powerpack and reduced average selling prices on our solar cash and loan jobs as a result of our low cost solar strategy. Powerpack deployments have decreased following the introduction of our Megapack product, which we began deploying in late 2019. 41.the year ended December 31, 2020. Additionally, there was an increase to cost of automotive sales revenue from idle capacity charges of $213 million as a result of temporary suspension of production at the Fremont Factory and Gigafactory Nevada during the first half of 2020. These factors increasing cost of automotive sales revenue were partially offset by a decrease in average Model 3 costs per unit due to lower material, manufacturing, freight and duty costs from localized procurement and manufacturing in China and a higher sales mix of lower end trims, as well as a decrease of 8,669 Model S and Model X cash deliveries in the year ended December 31, 2020 compared to the prior year. 42.R&D expenses increased $148 million , or 11% , in the year ended December 31, 2020 as compared to the year ended December 31, 2019 . The increase was primarily due to a $62 million increase in expensed materials as we continue to expand our product roadmap , $61 million increase in stock-based compensation expense primarily related to the issuance of equity awards in fiscal year 2020 at higher grant date fair values due to our increased share price, $20 million increase in facilities, freight and depreciation expenses and a $20 million increase in employee and labor related expenses. R&D expenses as a percentage of revenue decreased from 5.5% to 4.7% in the year ended December 31, 2020 as compared to the year ended December 31, 2019. The decrease is primarily an increase in total revenues from expanding sales, partially offset by an increase in our R&D expenses as detailed above. Selling, General and Administrative Expense Year Ended December 31, 2020 vs. 2019 Change 2019 vs. 2018 Change (Dollars in millions) 2020 2019 2018 $ % $ % Selling, general and administrative $ 3,145 $ 2,646 $ 2,835 $ 499 19 % $ (189 ) -7 %\"\"\"\n",
    "\n",
    "question = \"\"\"\n",
    "### Question:\n",
    "Did revenue grow in 2020 compared to the previous year? What was the main reason for this growth?\n",
    "\"\"\"\n",
    "\n",
    "answer = \"\"\"\n",
    "### Answer:\n",
    "Yes, revenue grew in 2020 compared to the previous year.\n",
    "The main reason for this growth was an increase of $6.96 billion in total revenues, primarily due to an increase of 31% in automotive sales revenue, and a $986 million increase from additional sales of regulatory credits.\n",
    "\"\"\""
   ]
  },
  {
   "cell_type": "code",
   "execution_count": null,
   "metadata": {
    "colab": {
     "base_uri": "https://localhost:8080/"
    },
    "executionInfo": {
     "elapsed": 861,
     "status": "ok",
     "timestamp": 1742418367339,
     "user": {
      "displayName": "Soumitra Mukherji",
      "userId": "02267047127611459680"
     },
     "user_tz": 300
    },
    "id": "gT6jlkL_TXQ3",
    "outputId": "2d548d5a-27cf-4deb-9b82-d10c96ff1598"
   },
   "outputs": [
    {
     "name": "stdout",
     "output_type": "stream",
     "text": [
      "[\n",
      "    \"AI is the simulation of human intelligence.\",\n",
      "    \"AI exists in machines.\"\n",
      "]\n"
     ]
    }
   ],
   "source": [
    "client = OpenAI(api_key=api_key, base_url=endpoint)\n",
    "\n",
    "# System message for faithfulness check\n",
    "statement_generator_system_message = \"\"\"\n",
    "Given a question, an answer, and sentences from the answer, break down each sentence in the answer into one or more fully understandable statements while also ensuring no pronouns are used in each statement.\n",
    "Format the outputs as a JSON list of statements.\n",
    "DO NOT output anything else before or after the JSON list of statements.\n",
    "\"\"\"\n",
    "\n",
    "# Example input (replace with actual values)\n",
    "question = \"What is AI?\"\n",
    "answer = \"AI is the simulation of human intelligence in machines.\"\n",
    "\n",
    "statement_prompt = [\n",
    "    {'role': 'system', 'content': statement_generator_system_message},\n",
    "    {'role': 'user', 'content': question + answer}\n",
    "]\n",
    "\n",
    "try:\n",
    "    response = client.chat.completions.create(\n",
    "        model=\"gpt-4o-mini\",\n",
    "        messages=statement_prompt,\n",
    "        temperature=0\n",
    "    )\n",
    "    statements = response.choices[0].message.content\n",
    "    print(statements)  # Output the response\n",
    "except Exception as e:\n",
    "    print(\"Error:\", e)\n"
   ]
  },
  {
   "cell_type": "code",
   "execution_count": null,
   "metadata": {
    "colab": {
     "base_uri": "https://localhost:8080/"
    },
    "executionInfo": {
     "elapsed": 2609,
     "status": "ok",
     "timestamp": 1742418374613,
     "user": {
      "displayName": "Soumitra Mukherji",
      "userId": "02267047127611459680"
     },
     "user_tz": 300
    },
    "id": "B8TMp6YMTvGE",
    "outputId": "c7da27c5-bd62-42de-aca7-99e6991e2d69"
   },
   "outputs": [
    {
     "name": "stdout",
     "output_type": "stream",
     "text": [
      "{\n",
      "    \"statement\": \"AI is the simulation of human intelligence.\",\n",
      "    \"explanation\": \"The statement defines AI as the simulation of human intelligence, which is a widely accepted definition in the field of artificial intelligence. This definition aligns with common understanding and literature on AI.\",\n",
      "    \"rating\": 1\n",
      "}\n",
      "{\n",
      "    \"statement\": \"AI exists in machines.\",\n",
      "    \"explanation\": \"The statement claims that AI exists in machines, which is also a widely accepted notion as AI technologies are implemented in various machines and systems. This statement can be inferred based on the general understanding of AI.\",\n",
      "    \"rating\": 1\n",
      "}\n"
     ]
    }
   ],
   "source": [
    "faithfullness_system_message = \"\"\"\n",
    "Your task is to judge the faithfulness of a series of statements based on a given context.\n",
    "For each statement you must return verdict as 1 if the statement can be directly inferred based on the context or 0 if the statement can not be directly inferred based on the context.\n",
    "\n",
    "Output Format:\n",
    "Arrange your output in the following JSON format.\n",
    "{\n",
    "    \"statement\": \"<statement from the list>\",\n",
    "    \"explanation\": \"<A step-by-step evaluation for faithfulness>\",\n",
    "    \"rating\": <integer either 1 or 0>\n",
    "}\n",
    "DO NOT output anything else before or after the JSON output.\n",
    "\"\"\"\n",
    "\n",
    "faithfullness_prompt = [\n",
    "    {'role': 'system', 'content': faithfullness_system_message},\n",
    "    {'role': 'user', 'content': context + question + statements}\n",
    "]\n",
    "\n",
    "rating = None  # Initialize variable\n",
    "\n",
    "try:\n",
    "    response = client.chat.completions.create(\n",
    "        model=\"gpt-4o-mini\",\n",
    "        messages=faithfullness_prompt,\n",
    "        temperature=0\n",
    "    )\n",
    "    rating = response.choices[0].message.content  # Ensure correct response parsing\n",
    "except Exception as e:\n",
    "    print(f\"Error occurred: {e}\")\n",
    "\n",
    "if rating:\n",
    "    print(rating)  # Print only if rating is assigned\n",
    "else:\n",
    "    print(\"No response received. Check API request and format.\")\n"
   ]
  },
  {
   "cell_type": "code",
   "execution_count": null,
   "metadata": {
    "colab": {
     "base_uri": "https://localhost:8080/"
    },
    "executionInfo": {
     "elapsed": 2653,
     "status": "ok",
     "timestamp": 1742418387476,
     "user": {
      "displayName": "Soumitra Mukherji",
      "userId": "02267047127611459680"
     },
     "user_tz": 300
    },
    "id": "mpS3rCIvUIqI",
    "outputId": "959110b1-77cb-4109-8d1a-dec1635028e3"
   },
   "outputs": [
    {
     "name": "stdout",
     "output_type": "stream",
     "text": [
      "{\n",
      "    \"explanation\": \"The context provides detailed financial information about the company's performance in 2020, including revenue growth, net income, operating margin, and specific factors affecting automotive sales revenue. This information is crucial for understanding the company's financial health and operational strategies, which directly relates to the question about the company's performance. Therefore, the context was useful in arriving at the answer.\",\n",
      "    \"rating\": 1\n",
      "}\n"
     ]
    }
   ],
   "source": [
    "client = OpenAI(api_key=api_key, base_url=endpoint)\n",
    "context_precision_system_message = \"\"\"\n",
    "Given question, answer and context verify if the context was useful in arriving at the given answer.\n",
    "Give verdict as \"1\" if useful and \"0\" if not with a JSON output.\n",
    "\n",
    "Output Format:\n",
    "Arrange your output in the following JSON format.\n",
    "{\n",
    "    \"explanation\": \"<A step-by-step evaluation>\",\n",
    "    \"rating\": <integer either 1 or 0>\n",
    "}\n",
    "DO NOT output anything else before or after the JSON output.\n",
    "\"\"\"\n",
    "\n",
    "context_precision_prompt = [\n",
    "    {'role': 'system', 'content': context_precision_system_message},\n",
    "    {'role': 'user', 'content': context + question + answer}\n",
    "]\n",
    "\n",
    "rating = None  # Initialize variable to avoid NameError\n",
    "\n",
    "try:\n",
    "    response = client.chat.completions.create(  # Corrected API call\n",
    "        model=\"gpt-4o-mini\",  # Ensure model is available\n",
    "        messages=context_precision_prompt,\n",
    "        temperature=0\n",
    "    )\n",
    "    rating = response.choices[0].message.content  # Extract response\n",
    "except AttributeError:\n",
    "    print(\"Error: Ensure `llm` is correctly instantiated as an OpenAI client.\")\n",
    "except Exception as e:\n",
    "    print(f\"Error occurred: {e}\")\n",
    "\n",
    "if rating:\n",
    "    print(rating)  # Print only if a response is received\n",
    "else:\n",
    "    print(\"No response received. Check API request and format.\")\n"
   ]
  },
  {
   "cell_type": "code",
   "execution_count": null,
   "metadata": {
    "colab": {
     "base_uri": "https://localhost:8080/"
    },
    "executionInfo": {
     "elapsed": 2264,
     "status": "ok",
     "timestamp": 1742418398754,
     "user": {
      "displayName": "Soumitra Mukherji",
      "userId": "02267047127611459680"
     },
     "user_tz": 300
    },
    "id": "hzZOEuV533wQ",
    "outputId": "5640a916-5b71-40f1-fd69-8996f4af8a44"
   },
   "outputs": [
    {
     "name": "stdout",
     "output_type": "stream",
     "text": [
      "{\n",
      "    \"explanation\": \"The context provides detailed financial information about a company's performance in 2020, including revenue, net income, operating margin, cash flows, and specific segments like automotive sales and energy generation. The answer contains a definition of AI, which is unrelated to the financial context provided. Therefore, the sentences in the answer do not align with the context.\",\n",
      "    \"rating\": 0\n",
      "}\n"
     ]
    }
   ],
   "source": [
    "# Context Recall\n",
    "\n",
    "context_recall_system_message = \"\"\"\n",
    "Given a context, and an answer, analyze each sentence in the answer and classify if the sentence can be attributed to the given context or not.\n",
    "Use only \"Yes\" (1) or \"No\" (0) as a binary classification. Output json with reason.\n",
    "\n",
    "Output Format:\n",
    "Arrange your output in the following JSON format.\n",
    "{\n",
    "    \"explanation\": <A step-by-step evaluation>\n",
    "    \"rating\": integer either 1 or 0\n",
    "}\n",
    "DO NOT output anything else before or after the JSON output.\n",
    "\"\"\"\n",
    "\n",
    "context_recall_prompt = [\n",
    "    {'role': 'system', 'content': context_recall_system_message},\n",
    "    {'role': 'user', 'content': context + question + answer}\n",
    "]\n",
    "\n",
    "try:\n",
    "    response = client.chat.completions.create(\n",
    "        model=\"gpt-4o-mini\",\n",
    "        messages=context_recall_prompt,\n",
    "        response_format={\"type\": \"json_object\"},\n",
    "        temperature=0\n",
    "    )\n",
    "    rating = response.choices[0].message.content\n",
    "except Exception as e:\n",
    "    print(e)\n",
    "\n",
    "print(rating)"
   ]
  },
  {
   "cell_type": "code",
   "execution_count": null,
   "metadata": {
    "colab": {
     "base_uri": "https://localhost:8080/"
    },
    "executionInfo": {
     "elapsed": 1572,
     "status": "ok",
     "timestamp": 1742418431224,
     "user": {
      "displayName": "Soumitra Mukherji",
      "userId": "02267047127611459680"
     },
     "user_tz": 300
    },
    "id": "nJUKhyFH2Tnx",
    "outputId": "475f5b4b-54d3-4eae-d170-158b5617f19d"
   },
   "outputs": [
    {
     "name": "stdout",
     "output_type": "stream",
     "text": [
      "{\n",
      "    \"explanation\": \"The answer provided is a straightforward definition of AI, which does not exhibit any vagueness or ambiguity. It clearly states what AI is without evasion. Therefore, it is a committal answer.\",\n",
      "    \"non_committal_rating\": 0\n",
      "}\n"
     ]
    }
   ],
   "source": [
    "# Answer Relevance\n",
    "\n",
    "answer_relevance_system_message = \"\"\"\n",
    "Generate a question for the given answer and identify if the answer is noncommittal.\n",
    "Give noncommittal as 1 if the answer is noncommittal and 0 if the answer is committal.\n",
    "A noncommittal answer is one that is evasive, vague, or ambiguous.\n",
    "For example, \"I don't know\" or \"I'm not sure\" are noncommittal answers.\n",
    "\n",
    "Output Format:\n",
    "Arrange your output in the following JSON format.\n",
    "{\n",
    "    \"explanation\": <A step-by-step evaluation>\n",
    "    \"non_committal_rating\": integer either 1 or 0\n",
    "}\n",
    "DO NOT output anything else before or after the JSON output.\n",
    "\"\"\"\n",
    "\n",
    "answer_relevance_prompt = [\n",
    "    {'role': 'system', 'content': answer_relevance_system_message},\n",
    "    {'role': 'user', 'content': context + question + answer}\n",
    "]\n",
    "\n",
    "try:\n",
    "    response = client.chat.completions.create(\n",
    "        model=\"gpt-4o-mini\",\n",
    "        messages=answer_relevance_prompt,\n",
    "        response_format={\"type\": \"json_object\"},\n",
    "        temperature=0\n",
    "    )\n",
    "    rating = response.choices[0].message.content\n",
    "except Exception as e:\n",
    "    print(e)\n",
    "\n",
    "print(rating)"
   ]
  },
  {
   "cell_type": "markdown",
   "metadata": {
    "id": "pSw9ddjXDJTZ"
   },
   "source": [
    "# RAG Triad"
   ]
  },
  {
   "cell_type": "markdown",
   "metadata": {
    "id": "C7TeqhMSfvbc"
   },
   "source": [
    "**RAG Triad: The Three Key Components of a Retrieval-Augmented Generation System**\n",
    "\n",
    "- The **RAG Triad** refers to the **three fundamental components that determine the effectiveness of a Retrieval-Augmented Generation (RAG)** system.\n",
    "- These components ensure that the system retrieves relevant information, uses it effectively, and generates high-quality responses.\n",
    "\n",
    "## 🔷 The Three Components of the RAG Triad\n",
    "\n",
    "| **Component**   | **What It Ensures**                                | **Key Questions**                                      |\n",
    "|---------------|------------------------------------------------|--------------------------------------------------|\n",
    "| **Retrieval**  | Finds the most relevant documents.             | Does the retriever return the most useful information? |\n",
    "| **Augmentation** | Passes retrieved context to the LLM efficiently. | Does the retrieved information enhance the LLM’s response? |\n",
    "| **Generation**  | Produces high-quality, accurate responses.     | Is the final answer factual, relevant, and coherent? |\n",
    "\n",
    "🔹 Explanation of Each Component\n",
    "\n",
    "1️⃣ Retrieval\n",
    "- Retrieves topically relevant documents from a knowledge base.\n",
    "- Uses methods like vector search, BM25, hybrid retrieval, reranking.\n",
    "- **Challenges:** Irrelevant or outdated results can mislead the LLM.\n",
    "\n",
    "2️⃣ Augmentation\n",
    "- Injects retrieved information into the LLM’s prompt.\n",
    "- Ensures the right amount of context is provided (not too little or too much).\n",
    "- **Challenges:** Poor augmentation can lead to hallucinations or irrelevant responses.\n",
    "\n",
    "3️⃣ Generation\n",
    "- The LLM processes the augmented information and generates a response.\n",
    "- Faithfulness is crucial—does the answer stay true to retrieved sources?\n",
    "- **Challenges:** The LLM might still generate hallucinations or misinterpret data.\n",
    "\n",
    "⸻\n",
    "\n",
    "🔹 **Why is the RAG Triad Important?**\n",
    "\n",
    "✅ **Improves factual accuracy** – Ensures retrieval-based LLMs generate responses grounded in real data.\n",
    "\n",
    "✅ **Reduces hallucinations** – Prevents the LLM from making up information.\n",
    "\n",
    "✅ **Optimizes retrieval quality** – Ensures that only the most useful documents are retrieved.\n",
    "\n",
    "**Example**\n",
    "```python\n",
    "import os\n",
    "from langchain.vectorstores import Chroma\n",
    "from langchain.embeddings import OpenAIEmbeddings\n",
    "from langchain.chains import RetrievalQA\n",
    "from langchain.chat_models import ChatOpenAI\n",
    "from langchain.document_loaders import TextLoader\n",
    "from langchain.text_splitter import CharacterTextSplitter\n",
    "from langchain.vectorstores import FAISS\n",
    "from langchain.retrievers import ContextualCompressionRetriever\n",
    "from langchain.retrievers.document_compressors import LLMChainExtractor\n",
    "\n",
    "# Set your OpenAI API key\n",
    "os.environ[\"OPENAI_API_KEY\"] = \"your_openai_api_key\"\n",
    "\n",
    "# 1️⃣ **Retrieval**: Load documents and store embeddings\n",
    "loader = TextLoader(\"sample_docs.txt\")  # Load a text document\n",
    "documents = loader.load()\n",
    "\n",
    "# Split text into chunks for vector storage\n",
    "text_splitter = CharacterTextSplitter(chunk_size=500, chunk_overlap=50)\n",
    "docs = text_splitter.split_documents(documents)\n",
    "\n",
    "# Use OpenAI's embeddings\n",
    "embedding_model = OpenAIEmbeddings()\n",
    "\n",
    "# Store documents in FAISS (or Chroma)\n",
    "vector_store = FAISS.from_documents(docs, embedding_model)\n",
    "retriever = vector_store.as_retriever()\n",
    "\n",
    "# 2️⃣ **Augmentation**: Compress retrieved documents using LLM-based filtering\n",
    "llm = ChatOpenAI(model=\"gpt-4\", temperature=0)\n",
    "\n",
    "compressor = LLMChainExtractor.from_llm(llm)\n",
    "compression_retriever = ContextualCompressionRetriever(\n",
    "    base_compressor=compressor, base_retriever=retriever\n",
    ")\n",
    "\n",
    "# 3️⃣ **Generation**: Use the retrieved and filtered documents in GPT-4\n",
    "qa_chain = RetrievalQA.from_chain_type(\n",
    "    llm=llm, retriever=compression_retriever, return_source_documents=True\n",
    ")\n",
    "\n",
    "# 🔹 **User Query**\n",
    "query = \"What are the key applications of deep learning?\"\n",
    "response = qa_chain.invoke(query)\n",
    "\n",
    "# 🔹 **Print Answer and Sources**\n",
    "print(\"\\n🔹 Answer:\\n\", response[\"result\"])\n",
    "print(\"\\n📚 Retrieved Sources:\")\n",
    "for doc in response[\"source_documents\"]:\n",
    "    print(f\"- {doc.metadata.get('source', 'Unknown')}: {doc.page_content[:200]}...\")\n",
    "\n",
    "```  \n",
    "\n",
    "Output:\n",
    "\n",
    "```csv\n",
    "🔹 Answer:\n",
    "Deep learning is widely used in applications such as computer vision, natural language processing, speech recognition, and autonomous driving.\n",
    "\n",
    "📚 Retrieved Sources:\n",
    "- sample_docs.txt: Deep learning is a subset of machine learning that is used for...\n",
    "- sample_docs.txt: It has applications in computer vision, NLP, and speech processing...\n",
    "```\n",
    "\n",
    "\n"
   ]
  },
  {
   "cell_type": "markdown",
   "metadata": {
    "id": "iLXRZOqUhSkC"
   },
   "source": [
    "1️⃣ RAG Triad (Structure of RAG)\n",
    "\n",
    "2️⃣ RAGAS (Evaluating RAG Quality)\n",
    "\n",
    "3️⃣ RAG Compressors (Optimizing Retrieved Content)\n",
    "\n",
    "\n",
    "## 🔷 Summary of Differences\n",
    "\n",
    "| **Feature**  | **RAG Triad** | **RAGAS** | **RAG Compressors** |\n",
    "|-------------|--------------|-----------|------------------|\n",
    "| **Purpose** | Defines the structure of a RAG system (Retrieval, Augmentation, Generation). | Evaluates how well a RAG system performs. | Optimizes retrieved content before passing it to the LLM. |\n",
    "| **Use Case** | Designing a RAG pipeline. | Measuring retrieval & response accuracy. | Reducing token usage & improving retrieval efficiency. |\n",
    "| **Examples** | FAISS, ChromaDB, GPT-4. | Context Precision, Faithfulness, Answer Correctness. | LLMChainExtractor, CrossEncoderReranker. |\n",
    "| **Focus Area** | **How RAG works.** | **How well RAG performs.** | **How to improve RAG efficiency.** |\n",
    "\n",
    "🔷 **When Should You Use Each?**\n",
    "- If you are building a RAG system → Follow the RAG Triad principles.\n",
    "- If you want to evaluate accuracy & performance → Use RAGAS metrics.\n",
    "- If your retrieval is returning too much information → Apply RAG Compressors."
   ]
  },
  {
   "cell_type": "code",
   "execution_count": null,
   "metadata": {
    "id": "DdtoIEyn41wI"
   },
   "outputs": [],
   "source": [
    "groundedness_rater_system_message = \"\"\"\n",
    "You are tasked with rating AI generated answers to questions posed by users.\n",
    "Please act as an impartial judge and evaluate the quality of the provided answer which attempts to answer the provided question based on a provided context.\n",
    "You will be presented a question, context used by the AI system to generate the answer and an AI generated answer to the question.\n",
    "In the input, the question will begin with ###Question, the context will begin with ###Context while the AI generated answer will begin with ###Answer.\n",
    "\n",
    "Evaluation criteria:\n",
    "The task is to judge the extent to which the metric is followed by the answer.\n",
    "1 - The metric is not followed at all\n",
    "2 - The metric is followed only to a limited extent\n",
    "3 - The metric is followed to a good extent\n",
    "4 - The metric is followed mostly\n",
    "5 - The metric is followed completely\n",
    "\n",
    "Metric:\n",
    "The answer should be derived only from the information presented in the context\n",
    "\n",
    "Instructions:\n",
    "1. First write down the steps that are needed to evaluate the answer as per the metric.\n",
    "2. Give a step-by-step explanation if the answer adheres to the metric considering the question and context as the input.\n",
    "3. Next, evaluate the extent to which the metric is followed.\n",
    "4. Use the previous information to rate the answer using the evaluaton criteria and assign a score.\n",
    "\n",
    "Output Format:\n",
    "Arrange your output in the following JSON format.\n",
    "{\n",
    "    \"explanation\": <A step-by-step evaluation according to the metric>\n",
    "    \"rating\": integer between 1 and 5\n",
    "}\n",
    "\"\"\""
   ]
  },
  {
   "cell_type": "code",
   "execution_count": null,
   "metadata": {
    "id": "Uoy28g4h44z2"
   },
   "outputs": [],
   "source": [
    "answer_relevance_rater_system_message = \"\"\"\n",
    "You are tasked with rating AI generated answers to questions posed by users.\n",
    "Please act as an impartial judge and evaluate the quality of the provided answer which attempts to answer the provided question based on a provided context.\n",
    "You will be presented a question, context used by the AI system to generate the answer and an AI generated answer to the question.\n",
    "In the input, the question will begin with ###Question, the context will begin with ###Context while the AI generated answer will begin with ###Answer.\n",
    "\n",
    "Evaluation criteria:\n",
    "The task is to judge the extent to which the metric is followed by the answer.\n",
    "1 - The metric is not followed at all\n",
    "2 - The metric is followed only to a limited extent\n",
    "3 - The metric is followed to a good extent\n",
    "4 - The metric is followed mostly\n",
    "5 - The metric is followed completely\n",
    "\n",
    "Metric:\n",
    "Answer relevance measures how well the answer addresses the main aspects of the question, based on the context.\n",
    "Consider whether all and only the important aspects are contained in the answer when evaluating relevance.\n",
    "\n",
    "Instructions:\n",
    "1. First write down the steps that are needed to evaluate the context as per the metric.\n",
    "2. Give a step-by-step explanation if the context adheres to the metric considering the question as the input.\n",
    "3. Next, evaluate the extent to which the metric is followed.\n",
    "4. Use the previous information to rate the context using the evaluaton criteria and assign a score.\n",
    "\n",
    "Output Format:\n",
    "Arrange your output in the following JSON format.\n",
    "{\n",
    "    \"explanation\": <A step-by-step evaluation according to the metric>\n",
    "    \"rating\": integer between 1 and 5\n",
    "}\n",
    "\"\"\""
   ]
  },
  {
   "cell_type": "code",
   "execution_count": null,
   "metadata": {
    "id": "DHKW6PX547bj"
   },
   "outputs": [],
   "source": [
    "context_relevance_rater_system_message = \"\"\"\n",
    "You are tasked with rating AI generated answers to questions posed by users.\n",
    "Please act as an impartial judge and evaluate the quality of the provided answer which attempts to answer the provided question based on a provided context.\n",
    "You will be presented a question, context used by the AI system to generate the answer and an AI generated answer to the question.\n",
    "In the input, the question will begin with ###Question, the context will begin with ###Context while the AI generated answer will begin with ###Answer.\n",
    "\n",
    "Evaluation criteria:\n",
    "The task is to judge the extent to which the metric is followed by the answer.\n",
    "1 - The metric is not followed at all\n",
    "2 - The metric is followed only to a limited extent\n",
    "3 - The metric is followed to a good extent\n",
    "4 - The metric is followed mostly\n",
    "5 - The metric is followed completely\n",
    "\n",
    "Metric:\n",
    "Context relevance measures how relevant the context is to the question.\n",
    "\n",
    "Instructions:\n",
    "1. First write down the steps that are needed to evaluate the context as per the metric.\n",
    "2. Give a step-by-step explanation if the context adheres to the metric considering the question as the input.\n",
    "3. Next, evaluate the extent to which the metric is followed.\n",
    "4. Use the previous information to rate the context using the evaluaton criteria and assign a score.\n",
    "\n",
    "Output Format:\n",
    "Arrange your output in the following JSON format.\n",
    "{\n",
    "    \"explanation\": <A step-by-step evaluation according to the metric>\n",
    "    \"rating\": integer between 1 and 5\n",
    "}\n",
    "\"\"\""
   ]
  },
  {
   "cell_type": "code",
   "execution_count": null,
   "metadata": {
    "id": "ja7btFkk4-dd"
   },
   "outputs": [],
   "source": [
    "def run_evaluation(rater_system_message, context, question, answer):\n",
    "\n",
    "    rater_prompt = [\n",
    "        {'role': 'system', 'content': rater_system_message},\n",
    "        {'role': 'user', 'content': context + question + answer}\n",
    "    ]\n",
    "\n",
    "    try:\n",
    "        response = client.chat.completions.create(\n",
    "            model=\"gpt-4o-mini\",\n",
    "            messages=rater_prompt,\n",
    "            response_format={\"type\": \"json_object\"},\n",
    "            temperature=0\n",
    "\n",
    "\n",
    "        )\n",
    "        rating = response.choices[0].message.content\n",
    "    except Exception as e:\n",
    "        rating = e\n",
    "\n",
    "    return rating"
   ]
  },
  {
   "cell_type": "code",
   "execution_count": null,
   "metadata": {
    "id": "uemi8iqt5B8j"
   },
   "outputs": [],
   "source": [
    "context = \"\"\"\n",
    "### Context:\n",
    "In 2022, we recognized total revenues of $81.46 billion, respectively, representing an increase of $27.64 billion, compared to the prior year.\n",
    "We continue to ramp production, build new manufacturing capacity and expand our operations to enable increased deliveries and deployments of our products and further revenue growth.\n",
    "\"\"\"\n",
    "\n",
    "question = \"\"\"\n",
    "### Question:\n",
    "What was the increase in annual revenue in 2022 compared to 2021?\n",
    "\"\"\"\n",
    "\n",
    "answer = \"\"\"\n",
    "### Answer:\n",
    "The increase in annual revenue in 2022 compared to 2021 was $27.64 billion.\n",
    "\"\"\""
   ]
  },
  {
   "cell_type": "code",
   "execution_count": null,
   "metadata": {
    "id": "nKMohmZk5Ixr"
   },
   "outputs": [],
   "source": [
    "groundedness_rating = run_evaluation(groundedness_rater_system_message, context, question, answer)"
   ]
  },
  {
   "cell_type": "code",
   "execution_count": null,
   "metadata": {
    "colab": {
     "base_uri": "https://localhost:8080/"
    },
    "executionInfo": {
     "elapsed": 13,
     "status": "ok",
     "timestamp": 1742418646419,
     "user": {
      "displayName": "Soumitra Mukherji",
      "userId": "02267047127611459680"
     },
     "user_tz": 300
    },
    "id": "XH3LstUK5KdZ",
    "outputId": "73b7eebd-b83c-4d4d-a926-c36e1090c6a3"
   },
   "outputs": [
    {
     "name": "stdout",
     "output_type": "stream",
     "text": [
      "{\n",
      "    \"explanation\": \"1. The question asks for the increase in annual revenue in 2022 compared to 2021. 2. The context provides specific information about the total revenues for 2022 and states that there was an increase of $27.64 billion compared to the prior year. 3. The AI-generated answer directly states that the increase in annual revenue in 2022 compared to 2021 was $27.64 billion, which is exactly the information provided in the context. 4. Since the answer is derived directly from the context without adding any external information or interpretation, it adheres completely to the metric.\",\n",
      "    \"rating\": 5\n",
      "}\n"
     ]
    }
   ],
   "source": [
    "print(groundedness_rating)"
   ]
  },
  {
   "cell_type": "code",
   "execution_count": null,
   "metadata": {
    "id": "G_zd9Qg05N3V"
   },
   "outputs": [],
   "source": [
    "context_relevance_rating = run_evaluation(context_relevance_rater_system_message, context, question, answer)"
   ]
  },
  {
   "cell_type": "code",
   "execution_count": null,
   "metadata": {
    "colab": {
     "base_uri": "https://localhost:8080/"
    },
    "executionInfo": {
     "elapsed": 31,
     "status": "ok",
     "timestamp": 1742418677848,
     "user": {
      "displayName": "Soumitra Mukherji",
      "userId": "02267047127611459680"
     },
     "user_tz": 300
    },
    "id": "8rv1EfzG5QBF",
    "outputId": "e28c5279-89de-42c9-f080-47c7c6224eb4"
   },
   "outputs": [
    {
     "name": "stdout",
     "output_type": "stream",
     "text": [
      "{\n",
      "    \"explanation\": \"1. Identify the question: The question asks for the increase in annual revenue in 2022 compared to 2021. \\n2. Analyze the context: The context provides specific figures regarding total revenues for 2022 and mentions the increase in revenue compared to the previous year. \\n3. Determine relevance: The context directly addresses the question by stating the increase in revenue ($27.64 billion) and provides the necessary comparison to the prior year (2021). \\n4. Conclusion: Since the context contains the exact information needed to answer the question, it is highly relevant.\",\n",
      "    \"rating\": 5\n",
      "}\n"
     ]
    }
   ],
   "source": [
    "print(context_relevance_rating)"
   ]
  },
  {
   "cell_type": "code",
   "execution_count": null,
   "metadata": {
    "id": "-l_P8iA94YnR"
   },
   "outputs": [],
   "source": [
    "answer_relevance_rating = run_evaluation(answer_relevance_rater_system_message, context, question, answer)"
   ]
  },
  {
   "cell_type": "code",
   "execution_count": null,
   "metadata": {
    "colab": {
     "base_uri": "https://localhost:8080/"
    },
    "executionInfo": {
     "elapsed": 9,
     "status": "ok",
     "timestamp": 1742418690513,
     "user": {
      "displayName": "Soumitra Mukherji",
      "userId": "02267047127611459680"
     },
     "user_tz": 300
    },
    "id": "kcfYs-Jv5VNn",
    "outputId": "c8e48cb4-7b15-4435-be2d-b6786573fe4b"
   },
   "outputs": [
    {
     "name": "stdout",
     "output_type": "stream",
     "text": [
      "{\n",
      "    \"explanation\": \"1. The question asks for the increase in annual revenue in 2022 compared to 2021. 2. The context provides specific figures regarding total revenues and the increase in revenue. 3. The answer directly states the increase in annual revenue as $27.64 billion, which is the key information needed to answer the question. 4. The answer does not include any extraneous information and focuses solely on the increase in revenue, which is the main aspect of the question. 5. Therefore, the answer is relevant and addresses the question completely.\",\n",
      "    \"rating\": 5\n",
      "}\n"
     ]
    }
   ],
   "source": [
    "print(answer_relevance_rating)"
   ]
  },
  {
   "cell_type": "markdown",
   "metadata": {
    "id": "L-8kTzE7BxM-"
   },
   "source": [
    "##getting rid of widgets"
   ]
  },
  {
   "cell_type": "code",
   "execution_count": 7,
   "metadata": {
    "executionInfo": {
     "elapsed": 2902,
     "status": "ok",
     "timestamp": 1743807810094,
     "user": {
      "displayName": "Soumitra Mukherji",
      "userId": "02267047127611459680"
     },
     "user_tz": 300
    },
    "id": "u4-0xsOlCee8"
   },
   "outputs": [],
   "source": [
    "!pip install --upgrade jupyter nbformat --quiet\n"
   ]
  },
  {
   "cell_type": "code",
   "execution_count": 8,
   "metadata": {
    "executionInfo": {
     "elapsed": 966,
     "status": "ok",
     "timestamp": 1743807813859,
     "user": {
      "displayName": "Soumitra Mukherji",
      "userId": "02267047127611459680"
     },
     "user_tz": 300
    },
    "id": "JPqB1jaeB0ax"
   },
   "outputs": [],
   "source": [
    "import nbformat\n",
    "\n",
    "# Load the notebook\n",
    "with open(\"SM-Week_14_RAG.ipynb\", \"r\") as f:\n",
    "    notebook = nbformat.read(f, as_version=4)\n",
    "\n",
    "# Write back normalized notebook\n",
    "with open(\"SM-Week_14_RAG.ipynb_git.ipynb\", \"w\") as f:\n",
    "    nbformat.write(notebook, f)\n"
   ]
  }
 ],
 "metadata": {
  "accelerator": "GPU",
  "colab": {
   "gpuType": "T4",
   "provenance": []
  },
  "kernelspec": {
   "display_name": "Python 3",
   "name": "python3"
  },
  "language_info": {
   "name": "python"
  }
 },
 "nbformat": 4,
 "nbformat_minor": 0
}
