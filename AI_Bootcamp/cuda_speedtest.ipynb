{
  "nbformat": 4,
  "nbformat_minor": 0,
  "metadata": {
    "colab": {
      "provenance": [],
      "machine_shape": "hm",
      "gpuType": "A100"
    },
    "kernelspec": {
      "name": "python3",
      "display_name": "Python 3"
    },
    "language_info": {
      "name": "python"
    },
    "accelerator": "GPU"
  },
  "cells": [
    {
      "cell_type": "markdown",
      "source": [
        "Reference: https://www.youtube.com/watch?v=r9IqwpMR9TE\n",
        "- made modifications and notes"
      ],
      "metadata": {
        "id": "o6XdtoCAG20K"
      }
    },
    {
      "cell_type": "markdown",
      "source": [
        "⭐ CUDA Enabled GPUS:\n",
        "      https://developer.nvidia.com/cuda-gpus\n",
        "\n",
        "- in google colab, conda-toolkit is already installed for you.\n",
        "- if you are running on AI/ML servers, best way to install conda-toolkit is to just install pytorch in your virutal env:\n",
        "\n",
        "```bash\n",
        "conda install -c pytorch pytorch\n",
        "```  "
      ],
      "metadata": {
        "id": "ylLNv4nIQ5yC"
      }
    },
    {
      "cell_type": "code",
      "source": [
        "!nvidia-smi"
      ],
      "metadata": {
        "colab": {
          "base_uri": "https://localhost:8080/"
        },
        "id": "AswHjf0IAsnY",
        "outputId": "550bf4d1-495c-4510-a093-8f797c255442"
      },
      "execution_count": 1,
      "outputs": [
        {
          "output_type": "stream",
          "name": "stdout",
          "text": [
            "Thu Mar 13 15:02:23 2025       \n",
            "+-----------------------------------------------------------------------------------------+\n",
            "| NVIDIA-SMI 550.54.15              Driver Version: 550.54.15      CUDA Version: 12.4     |\n",
            "|-----------------------------------------+------------------------+----------------------+\n",
            "| GPU  Name                 Persistence-M | Bus-Id          Disp.A | Volatile Uncorr. ECC |\n",
            "| Fan  Temp   Perf          Pwr:Usage/Cap |           Memory-Usage | GPU-Util  Compute M. |\n",
            "|                                         |                        |               MIG M. |\n",
            "|=========================================+========================+======================|\n",
            "|   0  NVIDIA A100-SXM4-40GB          Off |   00000000:00:04.0 Off |                    0 |\n",
            "| N/A   32C    P0             44W /  400W |       0MiB /  40960MiB |      0%      Default |\n",
            "|                                         |                        |             Disabled |\n",
            "+-----------------------------------------+------------------------+----------------------+\n",
            "                                                                                         \n",
            "+-----------------------------------------------------------------------------------------+\n",
            "| Processes:                                                                              |\n",
            "|  GPU   GI   CI        PID   Type   Process name                              GPU Memory |\n",
            "|        ID   ID                                                               Usage      |\n",
            "|=========================================================================================|\n",
            "|  No running processes found                                                             |\n",
            "+-----------------------------------------------------------------------------------------+\n"
          ]
        }
      ]
    },
    {
      "cell_type": "code",
      "source": [
        "!nvidia-smi --list-gpus"
      ],
      "metadata": {
        "colab": {
          "base_uri": "https://localhost:8080/"
        },
        "id": "I-kidvKiQh11",
        "outputId": "0df84edd-c9b6-4030-d55f-355a827cbdcf"
      },
      "execution_count": 1,
      "outputs": [
        {
          "output_type": "stream",
          "name": "stdout",
          "text": [
            "GPU 0: NVIDIA A100-SXM4-40GB (UUID: GPU-dd9828a3-9ae0-63e4-47a8-c92658f1fe7e)\n"
          ]
        }
      ]
    },
    {
      "cell_type": "code",
      "source": [
        "!nvidia-smi -q"
      ],
      "metadata": {
        "colab": {
          "base_uri": "https://localhost:8080/"
        },
        "id": "CNQItR3fTD1f",
        "outputId": "45657256-a506-4b5c-9b6a-e1352ceb6c74"
      },
      "execution_count": 4,
      "outputs": [
        {
          "output_type": "stream",
          "name": "stdout",
          "text": [
            "\n",
            "==============NVSMI LOG==============\n",
            "\n",
            "Timestamp                                 : Fri Mar 14 01:37:53 2025\n",
            "Driver Version                            : 550.54.15\n",
            "CUDA Version                              : 12.4\n",
            "\n",
            "Attached GPUs                             : 1\n",
            "GPU 00000000:00:04.0\n",
            "    Product Name                          : NVIDIA A100-SXM4-40GB\n",
            "    Product Brand                         : NVIDIA\n",
            "    Product Architecture                  : Ampere\n",
            "    Display Mode                          : Enabled\n",
            "    Display Active                        : Disabled\n",
            "    Persistence Mode                      : Disabled\n",
            "    Addressing Mode                       : None\n",
            "    MIG Mode\n",
            "        Current                           : Disabled\n",
            "        Pending                           : Disabled\n",
            "    Accounting Mode                       : Disabled\n",
            "    Accounting Mode Buffer Size           : 4000\n",
            "    Driver Model\n",
            "        Current                           : N/A\n",
            "        Pending                           : N/A\n",
            "    Serial Number                         : 1563521018296\n",
            "    GPU UUID                              : GPU-08e7c773-5cf7-cb6b-4236-cb968ba4295d\n",
            "    Minor Number                          : 0\n",
            "    VBIOS Version                         : 92.00.45.00.03\n",
            "    MultiGPU Board                        : No\n",
            "    Board ID                              : 0x4\n",
            "    Board Part Number                     : 692-2G506-0200-003\n",
            "    GPU Part Number                       : 20B0-884-A1\n",
            "    FRU Part Number                       : N/A\n",
            "    Module ID                             : 8\n",
            "    Inforom Version\n",
            "        Image Version                     : G506.0200.00.04\n",
            "        OEM Object                        : 2.0\n",
            "        ECC Object                        : 6.16\n",
            "        Power Management Object           : N/A\n",
            "    Inforom BBX Object Flush\n",
            "        Latest Timestamp                  : N/A\n",
            "        Latest Duration                   : N/A\n",
            "    GPU Operation Mode\n",
            "        Current                           : N/A\n",
            "        Pending                           : N/A\n",
            "    GPU C2C Mode                          : N/A\n",
            "    GPU Virtualization Mode\n",
            "        Virtualization Mode               : Pass-Through\n",
            "        Host VGPU Mode                    : N/A\n",
            "        vGPU Heterogeneous Mode           : N/A\n",
            "    GPU Reset Status\n",
            "        Reset Required                    : No\n",
            "        Drain and Reset Recommended       : No\n",
            "    GSP Firmware Version                  : N/A\n",
            "    IBMNPU\n",
            "        Relaxed Ordering Mode             : N/A\n",
            "    PCI\n",
            "        Bus                               : 0x00\n",
            "        Device                            : 0x04\n",
            "        Domain                            : 0x0000\n",
            "        Base Classcode                    : 0x3\n",
            "        Sub Classcode                     : 0x2\n",
            "        Device Id                         : 0x20B010DE\n",
            "        Bus Id                            : 00000000:00:04.0\n",
            "        Sub System Id                     : 0x134F10DE\n",
            "        GPU Link Info\n",
            "            PCIe Generation\n",
            "                Max                       : 4\n",
            "                Current                   : 4\n",
            "                Device Current            : 4\n",
            "                Device Max                : 4\n",
            "                Host Max                  : N/A\n",
            "            Link Width\n",
            "                Max                       : 16x\n",
            "                Current                   : 16x\n",
            "        Bridge Chip\n",
            "            Type                          : N/A\n",
            "            Firmware                      : N/A\n",
            "        Replays Since Reset               : 0\n",
            "        Replay Number Rollovers           : 0\n",
            "        Tx Throughput                     : 0 KB/s\n",
            "        Rx Throughput                     : 0 KB/s\n",
            "        Atomic Caps Inbound               : N/A\n",
            "        Atomic Caps Outbound              : N/A\n",
            "    Fan Speed                             : N/A\n",
            "    Performance State                     : P0\n",
            "    Clocks Event Reasons\n",
            "        Idle                              : Active\n",
            "        Applications Clocks Setting       : Not Active\n",
            "        SW Power Cap                      : Not Active\n",
            "        HW Slowdown                       : Not Active\n",
            "            HW Thermal Slowdown           : Not Active\n",
            "            HW Power Brake Slowdown       : Not Active\n",
            "        Sync Boost                        : Not Active\n",
            "        SW Thermal Slowdown               : Not Active\n",
            "        Display Clock Setting             : Not Active\n",
            "    Sparse Operation Mode                 : N/A\n",
            "    FB Memory Usage\n",
            "        Total                             : 40960 MiB\n",
            "        Reserved                          : 453 MiB\n",
            "        Used                              : 0 MiB\n",
            "        Free                              : 40506 MiB\n",
            "    BAR1 Memory Usage\n",
            "        Total                             : 65536 MiB\n",
            "        Used                              : 1 MiB\n",
            "        Free                              : 65535 MiB\n",
            "    Conf Compute Protected Memory Usage\n",
            "        Total                             : 0 MiB\n",
            "        Used                              : 0 MiB\n",
            "        Free                              : 0 MiB\n",
            "    Compute Mode                          : Default\n",
            "    Utilization\n",
            "        Gpu                               : 0 %\n",
            "        Memory                            : 0 %\n",
            "        Encoder                           : 0 %\n",
            "        Decoder                           : 0 %\n",
            "        JPEG                              : 0 %\n",
            "        OFA                               : 0 %\n",
            "    Encoder Stats\n",
            "        Active Sessions                   : 0\n",
            "        Average FPS                       : 0\n",
            "        Average Latency                   : 0\n",
            "    FBC Stats\n",
            "        Active Sessions                   : 0\n",
            "        Average FPS                       : 0\n",
            "        Average Latency                   : 0\n",
            "    ECC Mode\n",
            "        Current                           : Enabled\n",
            "        Pending                           : Enabled\n",
            "    ECC Errors\n",
            "        Volatile\n",
            "            SRAM Correctable              : 0\n",
            "            SRAM Uncorrectable Parity     : 0\n",
            "            SRAM Uncorrectable SEC-DED    : 0\n",
            "            DRAM Correctable              : 0\n",
            "            DRAM Uncorrectable            : 0\n",
            "        Aggregate\n",
            "            SRAM Correctable              : 0\n",
            "            SRAM Uncorrectable Parity     : 0\n",
            "            SRAM Uncorrectable SEC-DED    : 0\n",
            "            DRAM Correctable              : 0\n",
            "            DRAM Uncorrectable            : 0\n",
            "            SRAM Threshold Exceeded       : No\n",
            "        Aggregate Uncorrectable SRAM Sources\n",
            "            SRAM L2                       : 0\n",
            "            SRAM SM                       : 0\n",
            "            SRAM Microcontroller          : 0\n",
            "            SRAM PCIE                     : 0\n",
            "            SRAM Other                    : 0\n",
            "    Retired Pages\n",
            "        Single Bit ECC                    : N/A\n",
            "        Double Bit ECC                    : N/A\n",
            "        Pending Page Blacklist            : N/A\n",
            "    Remapped Rows\n",
            "        Correctable Error                 : 0\n",
            "        Uncorrectable Error               : 0\n",
            "        Pending                           : No\n",
            "        Remapping Failure Occurred        : No\n",
            "        Bank Remap Availability Histogram\n",
            "            Max                           : 640 bank(s)\n",
            "            High                          : 0 bank(s)\n",
            "            Partial                       : 0 bank(s)\n",
            "            Low                           : 0 bank(s)\n",
            "            None                          : 0 bank(s)\n",
            "    Temperature\n",
            "        GPU Current Temp                  : 32 C\n",
            "        GPU T.Limit Temp                  : N/A\n",
            "        GPU Shutdown Temp                 : 92 C\n",
            "        GPU Slowdown Temp                 : 89 C\n",
            "        GPU Max Operating Temp            : 85 C\n",
            "        GPU Target Temperature            : N/A\n",
            "        Memory Current Temp               : 32 C\n",
            "        Memory Max Operating Temp         : 95 C\n",
            "    GPU Power Readings\n",
            "        Power Draw                        : 44.90 W\n",
            "        Current Power Limit               : 400.00 W\n",
            "        Requested Power Limit             : 400.00 W\n",
            "        Default Power Limit               : 400.00 W\n",
            "        Min Power Limit                   : 100.00 W\n",
            "        Max Power Limit                   : 400.00 W\n",
            "    GPU Memory Power Readings \n",
            "        Power Draw                        : N/A\n",
            "    Module Power Readings\n",
            "        Power Draw                        : N/A\n",
            "        Current Power Limit               : N/A\n",
            "        Requested Power Limit             : N/A\n",
            "        Default Power Limit               : N/A\n",
            "        Min Power Limit                   : N/A\n",
            "        Max Power Limit                   : N/A\n",
            "    Clocks\n",
            "        Graphics                          : 210 MHz\n",
            "        SM                                : 210 MHz\n",
            "        Memory                            : 1215 MHz\n",
            "        Video                             : 585 MHz\n",
            "    Applications Clocks\n",
            "        Graphics                          : 1095 MHz\n",
            "        Memory                            : 1215 MHz\n",
            "    Default Applications Clocks\n",
            "        Graphics                          : 1095 MHz\n",
            "        Memory                            : 1215 MHz\n",
            "    Deferred Clocks\n",
            "        Memory                            : N/A\n",
            "    Max Clocks\n",
            "        Graphics                          : 1410 MHz\n",
            "        SM                                : 1410 MHz\n",
            "        Memory                            : 1215 MHz\n",
            "        Video                             : 1290 MHz\n",
            "    Max Customer Boost Clocks\n",
            "        Graphics                          : 1410 MHz\n",
            "    Clock Policy\n",
            "        Auto Boost                        : N/A\n",
            "        Auto Boost Default                : N/A\n",
            "    Voltage\n",
            "        Graphics                          : 693.750 mV\n",
            "    Fabric\n",
            "        State                             : N/A\n",
            "        Status                            : N/A\n",
            "        CliqueId                          : N/A\n",
            "        ClusterUUID                       : N/A\n",
            "        Health\n",
            "            Bandwidth                     : N/A\n",
            "    Processes                             : None\n",
            "\n"
          ]
        }
      ]
    },
    {
      "cell_type": "markdown",
      "source": [
        "## how many cores does the GPU have ?"
      ],
      "metadata": {
        "id": "Lnl-acIHUVZs"
      }
    },
    {
      "cell_type": "code",
      "source": [
        "!pip -q install pycuda"
      ],
      "metadata": {
        "id": "ZJGFEDaMT8M5"
      },
      "execution_count": 9,
      "outputs": []
    },
    {
      "cell_type": "code",
      "source": [
        "import pycuda.driver as cuda\n",
        "cuda.init()\n",
        "device = cuda.Device(0)\n",
        "print(f\"GPU cores: {device.get_attribute(cuda.device_attribute.MULTIPROCESSOR_COUNT) * 64}\")"
      ],
      "metadata": {
        "colab": {
          "base_uri": "https://localhost:8080/"
        },
        "id": "-V8t1s4RTk70",
        "outputId": "a630ad3c-2221-4127-d463-219cd4dfd943"
      },
      "execution_count": 7,
      "outputs": [
        {
          "output_type": "stream",
          "name": "stdout",
          "text": [
            "GPU cores: 6912\n"
          ]
        }
      ]
    },
    {
      "cell_type": "code",
      "source": [
        "!nvcc --version"
      ],
      "metadata": {
        "colab": {
          "base_uri": "https://localhost:8080/"
        },
        "id": "_dWwWB49BHFM",
        "outputId": "b878ba30-b3a5-4ee4-b7b8-4305212c0124"
      },
      "execution_count": 2,
      "outputs": [
        {
          "output_type": "stream",
          "name": "stdout",
          "text": [
            "nvcc: NVIDIA (R) Cuda compiler driver\n",
            "Copyright (c) 2005-2024 NVIDIA Corporation\n",
            "Built on Thu_Jun__6_02:18:23_PDT_2024\n",
            "Cuda compilation tools, release 12.5, V12.5.82\n",
            "Build cuda_12.5.r12.5/compiler.34385749_0\n"
          ]
        }
      ]
    },
    {
      "cell_type": "code",
      "source": [
        "# Query CPU information\n",
        "print(\"CPU Information is shown below:\")\n",
        "!cat /proc/cpuinfo | grep 'model name' | uniq"
      ],
      "metadata": {
        "colab": {
          "base_uri": "https://localhost:8080/"
        },
        "id": "LeI8zs2NBK43",
        "outputId": "6fa7fd6d-ca63-4e39-b533-9a283cf86e87"
      },
      "execution_count": 3,
      "outputs": [
        {
          "output_type": "stream",
          "name": "stdout",
          "text": [
            "CPU Information is shown below:\n",
            "model name\t: Intel(R) Xeon(R) CPU @ 2.20GHz\n"
          ]
        }
      ]
    },
    {
      "cell_type": "code",
      "source": [
        "import psutil\n",
        "\n",
        "# Check memory usage\n",
        "print(f\"Memory usage: {psutil.virtual_memory().percent}%\")"
      ],
      "metadata": {
        "colab": {
          "base_uri": "https://localhost:8080/"
        },
        "id": "Bpv4OXcgBOx7",
        "outputId": "c6b641f4-9a08-44bd-a0c7-46c18c89c520"
      },
      "execution_count": 4,
      "outputs": [
        {
          "output_type": "stream",
          "name": "stdout",
          "text": [
            "Memory usage: 2.1%\n"
          ]
        }
      ]
    },
    {
      "cell_type": "markdown",
      "source": [
        "## Now let's compare matrix multiplication with CPU & GPU"
      ],
      "metadata": {
        "id": "hEmrFIP1UxVp"
      }
    },
    {
      "cell_type": "code",
      "execution_count": 5,
      "metadata": {
        "id": "S-0ppDBfRr18"
      },
      "outputs": [],
      "source": [
        "import torch"
      ]
    },
    {
      "cell_type": "code",
      "source": [
        "if torch.cuda.is_available():\n",
        "    device = torch.device(\"cuda\")\n",
        "else:\n",
        "    device = torch.device(\"cpu\")\n",
        "\n",
        "print(\"using\", device, \"device\")"
      ],
      "metadata": {
        "colab": {
          "base_uri": "https://localhost:8080/"
        },
        "id": "ve_n2kuq_V_D",
        "outputId": "65d0ad34-8d85-443c-9dba-b6ea3874fd3f"
      },
      "execution_count": 6,
      "outputs": [
        {
          "output_type": "stream",
          "name": "stdout",
          "text": [
            "using cuda device\n"
          ]
        }
      ]
    },
    {
      "cell_type": "code",
      "source": [
        "import time\n",
        "\n",
        "matrix_size = 32*512 # 32 is batch size\n",
        "\n",
        "x = torch.randn(matrix_size, matrix_size)\n",
        "y = torch.randn(matrix_size, matrix_size)\n",
        "\n"
      ],
      "metadata": {
        "id": "pOdj-llc_fpM"
      },
      "execution_count": 7,
      "outputs": []
    },
    {
      "cell_type": "code",
      "source": [
        "x.size()"
      ],
      "metadata": {
        "colab": {
          "base_uri": "https://localhost:8080/"
        },
        "id": "ZV232PiDCCEP",
        "outputId": "54c1d945-284d-4803-c101-d566e5012ed9"
      },
      "execution_count": 10,
      "outputs": [
        {
          "output_type": "execute_result",
          "data": {
            "text/plain": [
              "torch.Size([16384, 16384])"
            ]
          },
          "metadata": {},
          "execution_count": 10
        }
      ]
    },
    {
      "cell_type": "markdown",
      "source": [
        "### test with cpu now"
      ],
      "metadata": {
        "id": "RU-UEXWOVjxW"
      }
    },
    {
      "cell_type": "code",
      "source": [
        "print(\"************ CPU SPEED ***************\")\n",
        "start = time.time()\n",
        "result = torch.matmul(x,y)\n",
        "print(time.time() - start)\n",
        "print(\"verify device:\", result.device)\n",
        "\n"
      ],
      "metadata": {
        "colab": {
          "base_uri": "https://localhost:8080/"
        },
        "id": "bDDy1SMsAMjd",
        "outputId": "290c5810-f5d3-44af-f73c-f18b94560cf8"
      },
      "execution_count": 11,
      "outputs": [
        {
          "output_type": "stream",
          "name": "stdout",
          "text": [
            "************ CPU SPEED ***************\n",
            "11.337727785110474\n",
            "verify device: cpu\n"
          ]
        }
      ]
    },
    {
      "cell_type": "markdown",
      "source": [
        "### test with gpu now"
      ],
      "metadata": {
        "id": "U_zB_HRYVecO"
      }
    },
    {
      "cell_type": "code",
      "source": [
        "x_gpu = x.to(device)\n",
        "y_gpu = y.to(device)\n",
        "torch.cuda.synchronize() # freeze the CPU, so, it does not give you results till GPU is done\n",
        "\n",
        "\n",
        "for i in range(3): # repeat the speed test 3 times.  1st time always takes more time\n",
        "    print(\"************ GPU SPEED ***************\")\n",
        "    start = time.time()\n",
        "    result_gpu = torch.matmul(x_gpu,y_gpu)\n",
        "    torch.cuda.synchronize() # freeze the CPU again\n",
        "    print(time.time() - start)\n",
        "    print(\"verify device:\", result_gpu.device)"
      ],
      "metadata": {
        "colab": {
          "base_uri": "https://localhost:8080/"
        },
        "id": "Ptk_7nkBAPp7",
        "outputId": "f6360b10-533f-4f3a-97b5-806758388131"
      },
      "execution_count": 12,
      "outputs": [
        {
          "output_type": "stream",
          "name": "stdout",
          "text": [
            "************ GPU SPEED ***************\n",
            "0.7221636772155762\n",
            "verify device: cuda:0\n",
            "************ GPU SPEED ***************\n",
            "0.46138834953308105\n",
            "verify device: cuda:0\n",
            "************ GPU SPEED ***************\n",
            "0.4611067771911621\n",
            "verify device: cuda:0\n"
          ]
        }
      ]
    }
  ]
}