{
  "cells": [
    {
      "cell_type": "markdown",
      "source": [
        "## load google drive"
      ],
      "metadata": {
        "id": "kitUAhKygD7b"
      }
    },
    {
      "cell_type": "code",
      "source": [
        "from google.colab import drive\n",
        "drive.mount('/content/drive')"
      ],
      "metadata": {
        "colab": {
          "base_uri": "https://localhost:8080/"
        },
        "id": "QdueZpWMgHmT",
        "outputId": "32ab4beb-8846-4b28-e574-a5689c404036"
      },
      "execution_count": null,
      "outputs": [
        {
          "output_type": "stream",
          "name": "stdout",
          "text": [
            "Drive already mounted at /content/drive; to attempt to forcibly remount, call drive.mount(\"/content/drive\", force_remount=True).\n"
          ]
        }
      ]
    },
    {
      "cell_type": "code",
      "source": [
        "import os\n",
        "os.chdir(\"/content/drive/MyDrive/GL-GenAI/Week17-Evaluation-Ragas_DeepEval\")\n",
        "os.listdir()"
      ],
      "metadata": {
        "colab": {
          "base_uri": "https://localhost:8080/"
        },
        "id": "PNX2DrmQgZsk",
        "outputId": "aa5a2b44-4523-45a7-e234-abbac4c4ce08"
      },
      "execution_count": null,
      "outputs": [
        {
          "output_type": "execute_result",
          "data": {
            "text/plain": [
              "['SM-Evaluating_Agents_with_Ragas.ipynb',\n",
              " 'Evaluating_Agents_with_Ragas.ipynb',\n",
              " 'config1_api.json']"
            ]
          },
          "metadata": {},
          "execution_count": 2
        }
      ]
    },
    {
      "cell_type": "code",
      "source": [
        "%%writefile config1_api.json\n",
        "{\n",
        "\"AZURE_OPENAI_KEY\": \"\",\n",
        "\"AZURE_OPENAI_ENDPOINT\": \"\",\n",
        "\"AZURE_OPENAI_APITYPE\": \"azure\",\n",
        "\"CHATGPT_MODEL\": \"gpt-4o-mini\",\n",
        "\"ALPHA_API_KEY\": \"\",\n",
        "\"AZURE_OPENAI_APIVERSION\": \"\",\n",
        "\n",
        "\"GROQ_API_KEY\": \"\",\n",
        "\"hf_token\": \"\",\n",
        "\"LLAMA_KEY\": \"\",\n",
        "\"mem0_api\": \"\",\n",
        "\"WANDB_API_KEY\": \"\"\n",
        "\n",
        "}"
      ],
      "metadata": {
        "colab": {
          "base_uri": "https://localhost:8080/"
        },
        "id": "P581ucJXgggE",
        "outputId": "eabf1b21-f90c-4bf8-b0ad-0f7e7d26e12c"
      },
      "execution_count": null,
      "outputs": [
        {
          "output_type": "stream",
          "name": "stdout",
          "text": [
            "Overwriting config1_api.json\n"
          ]
        }
      ]
    },
    {
      "cell_type": "code",
      "source": [
        "import json"
      ],
      "metadata": {
        "id": "0rQozr-DqWso"
      },
      "execution_count": null,
      "outputs": []
    },
    {
      "cell_type": "code",
      "source": [
        "# Define a function to read a JSON config file and return its contents as a dictionary.\n",
        "def read_config(config_file):\n",
        "  \"\"\"Reads a JSON config file and returns a dictionary.\"\"\"\n",
        "  with open(config_file, 'r') as f:\n",
        "    return json.load(f)\n"
      ],
      "metadata": {
        "id": "9ARQzBA5ps-O"
      },
      "execution_count": null,
      "outputs": []
    },
    {
      "cell_type": "code",
      "source": [
        "config = read_config(\"config1_api.json\")  #Copy and paste the path of the config file uploaded in Colab\n",
        "api_key = config.get(\"AZURE_OPENAI_KEY\")\n",
        "AZURE_OPENAI_ENDPOINT = config.get(\"AZURE_OPENAI_ENDPOINT\")\n",
        "api_type = config.get(\"AZURE_OPENAI_APITYPE\")\n",
        "AZURE_OPENAI_KEY = config.get(\"AZURE_OPENAI_KEY\")\n",
        "AZURE_OPENAI_APIVERSION = config.get(\"AZURE_OPENAI_APIVERSION\")\n",
        "CHATGPT_MODEL = config.get(\"CHATGPT_MODEL\")"
      ],
      "metadata": {
        "id": "k2nvJXKppzW3"
      },
      "execution_count": null,
      "outputs": []
    },
    {
      "cell_type": "markdown",
      "metadata": {
        "id": "t1ub1OLYZQvz"
      },
      "source": [
        "# Using Ragas to Evaluate an Agent Application built with LangChain and LangGraph\n",
        "\n",
        "In the following notebook, we'll be looking at how [Ragas](https://github.com/explodinggradients/ragas) can be helpful in a number of ways when looking to evaluate your RAG applications!\n",
        "\n",
        "While this example is rooted in LangChain/LangGraph - Ragas is framework agnostic (you don't even need to be using a framework!).\n",
        "\n",
        "We'll:\n",
        "\n",
        "- Collect our data\n",
        "- Create a simple Agent application\n",
        "- Evaluate our Agent application\n",
        "\n",
        "> NOTE: This notebook is modified from Ragas' Official Documentation [LangGraph tutorial](https://docs.ragas.io/en/stable/howtos/integrations/_langgraph_agent_evaluation/)!"
      ]
    },
    {
      "cell_type": "markdown",
      "metadata": {
        "id": "Q8Ms4ngAZQv1"
      },
      "source": [
        "## Installing Ragas and Other Dependencies\n",
        "Install Ragas and Langgraph with pip:"
      ]
    },
    {
      "cell_type": "code",
      "execution_count": null,
      "metadata": {
        "collapsed": true,
        "id": "vQk4aWbpZQv1"
      },
      "outputs": [],
      "source": [
        "# !pip install -qU langgraph==0.2.44 ragas==0.2.12 nltk"
      ]
    },
    {
      "cell_type": "code",
      "source": [
        "!pip install -U fsspec\n",
        "!pip install langgraph ragas nltk # Try again after updating fsspec"
      ],
      "metadata": {
        "colab": {
          "base_uri": "https://localhost:8080/"
        },
        "id": "Ii1P03zzE6VK",
        "outputId": "66be1a28-a8d1-43d5-b383-4e67ce6c622f"
      },
      "execution_count": null,
      "outputs": [
        {
          "output_type": "stream",
          "name": "stdout",
          "text": [
            "Requirement already satisfied: fsspec in /usr/local/lib/python3.11/dist-packages (2024.12.0)\n",
            "Collecting fsspec\n",
            "  Using cached fsspec-2025.3.2-py3-none-any.whl.metadata (11 kB)\n",
            "Using cached fsspec-2025.3.2-py3-none-any.whl (194 kB)\n",
            "Installing collected packages: fsspec\n",
            "  Attempting uninstall: fsspec\n",
            "    Found existing installation: fsspec 2024.12.0\n",
            "    Uninstalling fsspec-2024.12.0:\n",
            "      Successfully uninstalled fsspec-2024.12.0\n",
            "\u001b[31mERROR: pip's dependency resolver does not currently take into account all the packages that are installed. This behaviour is the source of the following dependency conflicts.\n",
            "datasets 3.5.0 requires fsspec[http]<=2024.12.0,>=2023.1.0, but you have fsspec 2025.3.2 which is incompatible.\u001b[0m\u001b[31m\n",
            "\u001b[0mSuccessfully installed fsspec-2025.3.2\n",
            "Requirement already satisfied: langgraph in /usr/local/lib/python3.11/dist-packages (0.3.31)\n",
            "Requirement already satisfied: ragas in /usr/local/lib/python3.11/dist-packages (0.2.14)\n",
            "Requirement already satisfied: nltk in /usr/local/lib/python3.11/dist-packages (3.9.1)\n",
            "Requirement already satisfied: langchain-core<0.4,>=0.1 in /usr/local/lib/python3.11/dist-packages (from langgraph) (0.3.55)\n",
            "Requirement already satisfied: langgraph-checkpoint<3.0.0,>=2.0.10 in /usr/local/lib/python3.11/dist-packages (from langgraph) (2.0.24)\n",
            "Requirement already satisfied: langgraph-prebuilt<0.2,>=0.1.8 in /usr/local/lib/python3.11/dist-packages (from langgraph) (0.1.8)\n",
            "Requirement already satisfied: langgraph-sdk<0.2.0,>=0.1.42 in /usr/local/lib/python3.11/dist-packages (from langgraph) (0.1.63)\n",
            "Requirement already satisfied: xxhash<4.0.0,>=3.5.0 in /usr/local/lib/python3.11/dist-packages (from langgraph) (3.5.0)\n",
            "Requirement already satisfied: numpy in /usr/local/lib/python3.11/dist-packages (from ragas) (2.0.2)\n",
            "Requirement already satisfied: datasets in /usr/local/lib/python3.11/dist-packages (from ragas) (3.5.0)\n",
            "Requirement already satisfied: tiktoken in /usr/local/lib/python3.11/dist-packages (from ragas) (0.9.0)\n",
            "Requirement already satisfied: langchain in /usr/local/lib/python3.11/dist-packages (from ragas) (0.3.23)\n",
            "Requirement already satisfied: langchain-community in /usr/local/lib/python3.11/dist-packages (from ragas) (0.3.21)\n",
            "Requirement already satisfied: langchain_openai in /usr/local/lib/python3.11/dist-packages (from ragas) (0.3.14)\n",
            "Requirement already satisfied: nest-asyncio in /usr/local/lib/python3.11/dist-packages (from ragas) (1.6.0)\n",
            "Requirement already satisfied: appdirs in /usr/local/lib/python3.11/dist-packages (from ragas) (1.4.4)\n",
            "Requirement already satisfied: pydantic>=2 in /usr/local/lib/python3.11/dist-packages (from ragas) (2.11.3)\n",
            "Requirement already satisfied: openai>1 in /usr/local/lib/python3.11/dist-packages (from ragas) (1.75.0)\n",
            "Requirement already satisfied: diskcache>=5.6.3 in /usr/local/lib/python3.11/dist-packages (from ragas) (5.6.3)\n",
            "Requirement already satisfied: click in /usr/local/lib/python3.11/dist-packages (from nltk) (8.1.8)\n",
            "Requirement already satisfied: joblib in /usr/local/lib/python3.11/dist-packages (from nltk) (1.4.2)\n",
            "Requirement already satisfied: regex>=2021.8.3 in /usr/local/lib/python3.11/dist-packages (from nltk) (2024.11.6)\n",
            "Requirement already satisfied: tqdm in /usr/local/lib/python3.11/dist-packages (from nltk) (4.67.1)\n",
            "Requirement already satisfied: langsmith<0.4,>=0.1.125 in /usr/local/lib/python3.11/dist-packages (from langchain-core<0.4,>=0.1->langgraph) (0.3.31)\n",
            "Requirement already satisfied: tenacity!=8.4.0,<10.0.0,>=8.1.0 in /usr/local/lib/python3.11/dist-packages (from langchain-core<0.4,>=0.1->langgraph) (9.1.2)\n",
            "Requirement already satisfied: jsonpatch<2.0,>=1.33 in /usr/local/lib/python3.11/dist-packages (from langchain-core<0.4,>=0.1->langgraph) (1.33)\n",
            "Requirement already satisfied: PyYAML>=5.3 in /usr/local/lib/python3.11/dist-packages (from langchain-core<0.4,>=0.1->langgraph) (6.0.2)\n",
            "Requirement already satisfied: packaging<25,>=23.2 in /usr/local/lib/python3.11/dist-packages (from langchain-core<0.4,>=0.1->langgraph) (24.2)\n",
            "Requirement already satisfied: typing-extensions>=4.7 in /usr/local/lib/python3.11/dist-packages (from langchain-core<0.4,>=0.1->langgraph) (4.13.2)\n",
            "Requirement already satisfied: ormsgpack<2.0.0,>=1.8.0 in /usr/local/lib/python3.11/dist-packages (from langgraph-checkpoint<3.0.0,>=2.0.10->langgraph) (1.9.1)\n",
            "Requirement already satisfied: httpx>=0.25.2 in /usr/local/lib/python3.11/dist-packages (from langgraph-sdk<0.2.0,>=0.1.42->langgraph) (0.28.1)\n",
            "Requirement already satisfied: orjson>=3.10.1 in /usr/local/lib/python3.11/dist-packages (from langgraph-sdk<0.2.0,>=0.1.42->langgraph) (3.10.16)\n",
            "Requirement already satisfied: anyio<5,>=3.5.0 in /usr/local/lib/python3.11/dist-packages (from openai>1->ragas) (4.9.0)\n",
            "Requirement already satisfied: distro<2,>=1.7.0 in /usr/local/lib/python3.11/dist-packages (from openai>1->ragas) (1.9.0)\n",
            "Requirement already satisfied: jiter<1,>=0.4.0 in /usr/local/lib/python3.11/dist-packages (from openai>1->ragas) (0.9.0)\n",
            "Requirement already satisfied: sniffio in /usr/local/lib/python3.11/dist-packages (from openai>1->ragas) (1.3.1)\n",
            "Requirement already satisfied: annotated-types>=0.6.0 in /usr/local/lib/python3.11/dist-packages (from pydantic>=2->ragas) (0.7.0)\n",
            "Requirement already satisfied: pydantic-core==2.33.1 in /usr/local/lib/python3.11/dist-packages (from pydantic>=2->ragas) (2.33.1)\n",
            "Requirement already satisfied: typing-inspection>=0.4.0 in /usr/local/lib/python3.11/dist-packages (from pydantic>=2->ragas) (0.4.0)\n",
            "Requirement already satisfied: filelock in /usr/local/lib/python3.11/dist-packages (from datasets->ragas) (3.18.0)\n",
            "Requirement already satisfied: pyarrow>=15.0.0 in /usr/local/lib/python3.11/dist-packages (from datasets->ragas) (18.1.0)\n",
            "Requirement already satisfied: dill<0.3.9,>=0.3.0 in /usr/local/lib/python3.11/dist-packages (from datasets->ragas) (0.3.8)\n",
            "Requirement already satisfied: pandas in /usr/local/lib/python3.11/dist-packages (from datasets->ragas) (2.2.2)\n",
            "Requirement already satisfied: requests>=2.32.2 in /usr/local/lib/python3.11/dist-packages (from datasets->ragas) (2.32.3)\n",
            "Requirement already satisfied: multiprocess<0.70.17 in /usr/local/lib/python3.11/dist-packages (from datasets->ragas) (0.70.16)\n",
            "Collecting fsspec<=2024.12.0,>=2023.1.0 (from fsspec[http]<=2024.12.0,>=2023.1.0->datasets->ragas)\n",
            "  Using cached fsspec-2024.12.0-py3-none-any.whl.metadata (11 kB)\n",
            "Requirement already satisfied: aiohttp in /usr/local/lib/python3.11/dist-packages (from datasets->ragas) (3.11.15)\n",
            "Requirement already satisfied: huggingface-hub>=0.24.0 in /usr/local/lib/python3.11/dist-packages (from datasets->ragas) (0.30.2)\n",
            "Requirement already satisfied: langchain-text-splitters<1.0.0,>=0.3.8 in /usr/local/lib/python3.11/dist-packages (from langchain->ragas) (0.3.8)\n",
            "Requirement already satisfied: SQLAlchemy<3,>=1.4 in /usr/local/lib/python3.11/dist-packages (from langchain->ragas) (2.0.40)\n",
            "Requirement already satisfied: dataclasses-json<0.7,>=0.5.7 in /usr/local/lib/python3.11/dist-packages (from langchain-community->ragas) (0.6.7)\n",
            "Requirement already satisfied: pydantic-settings<3.0.0,>=2.4.0 in /usr/local/lib/python3.11/dist-packages (from langchain-community->ragas) (2.9.1)\n",
            "Requirement already satisfied: httpx-sse<1.0.0,>=0.4.0 in /usr/local/lib/python3.11/dist-packages (from langchain-community->ragas) (0.4.0)\n",
            "Requirement already satisfied: aiohappyeyeballs>=2.3.0 in /usr/local/lib/python3.11/dist-packages (from aiohttp->datasets->ragas) (2.6.1)\n",
            "Requirement already satisfied: aiosignal>=1.1.2 in /usr/local/lib/python3.11/dist-packages (from aiohttp->datasets->ragas) (1.3.2)\n",
            "Requirement already satisfied: attrs>=17.3.0 in /usr/local/lib/python3.11/dist-packages (from aiohttp->datasets->ragas) (25.3.0)\n",
            "Requirement already satisfied: frozenlist>=1.1.1 in /usr/local/lib/python3.11/dist-packages (from aiohttp->datasets->ragas) (1.5.0)\n",
            "Requirement already satisfied: multidict<7.0,>=4.5 in /usr/local/lib/python3.11/dist-packages (from aiohttp->datasets->ragas) (6.4.3)\n",
            "Requirement already satisfied: propcache>=0.2.0 in /usr/local/lib/python3.11/dist-packages (from aiohttp->datasets->ragas) (0.3.1)\n",
            "Requirement already satisfied: yarl<2.0,>=1.17.0 in /usr/local/lib/python3.11/dist-packages (from aiohttp->datasets->ragas) (1.19.0)\n",
            "Requirement already satisfied: idna>=2.8 in /usr/local/lib/python3.11/dist-packages (from anyio<5,>=3.5.0->openai>1->ragas) (3.10)\n",
            "Requirement already satisfied: marshmallow<4.0.0,>=3.18.0 in /usr/local/lib/python3.11/dist-packages (from dataclasses-json<0.7,>=0.5.7->langchain-community->ragas) (3.26.1)\n",
            "Requirement already satisfied: typing-inspect<1,>=0.4.0 in /usr/local/lib/python3.11/dist-packages (from dataclasses-json<0.7,>=0.5.7->langchain-community->ragas) (0.9.0)\n",
            "Requirement already satisfied: certifi in /usr/local/lib/python3.11/dist-packages (from httpx>=0.25.2->langgraph-sdk<0.2.0,>=0.1.42->langgraph) (2025.1.31)\n",
            "Requirement already satisfied: httpcore==1.* in /usr/local/lib/python3.11/dist-packages (from httpx>=0.25.2->langgraph-sdk<0.2.0,>=0.1.42->langgraph) (1.0.8)\n",
            "Requirement already satisfied: h11<0.15,>=0.13 in /usr/local/lib/python3.11/dist-packages (from httpcore==1.*->httpx>=0.25.2->langgraph-sdk<0.2.0,>=0.1.42->langgraph) (0.14.0)\n",
            "Requirement already satisfied: jsonpointer>=1.9 in /usr/local/lib/python3.11/dist-packages (from jsonpatch<2.0,>=1.33->langchain-core<0.4,>=0.1->langgraph) (3.0.0)\n",
            "Requirement already satisfied: requests-toolbelt<2.0.0,>=1.0.0 in /usr/local/lib/python3.11/dist-packages (from langsmith<0.4,>=0.1.125->langchain-core<0.4,>=0.1->langgraph) (1.0.0)\n",
            "Requirement already satisfied: zstandard<0.24.0,>=0.23.0 in /usr/local/lib/python3.11/dist-packages (from langsmith<0.4,>=0.1.125->langchain-core<0.4,>=0.1->langgraph) (0.23.0)\n",
            "Requirement already satisfied: python-dotenv>=0.21.0 in /usr/local/lib/python3.11/dist-packages (from pydantic-settings<3.0.0,>=2.4.0->langchain-community->ragas) (1.1.0)\n",
            "Requirement already satisfied: charset-normalizer<4,>=2 in /usr/local/lib/python3.11/dist-packages (from requests>=2.32.2->datasets->ragas) (3.4.1)\n",
            "Requirement already satisfied: urllib3<3,>=1.21.1 in /usr/local/lib/python3.11/dist-packages (from requests>=2.32.2->datasets->ragas) (2.3.0)\n",
            "Requirement already satisfied: greenlet>=1 in /usr/local/lib/python3.11/dist-packages (from SQLAlchemy<3,>=1.4->langchain->ragas) (3.2.0)\n",
            "Requirement already satisfied: python-dateutil>=2.8.2 in /usr/local/lib/python3.11/dist-packages (from pandas->datasets->ragas) (2.8.2)\n",
            "Requirement already satisfied: pytz>=2020.1 in /usr/local/lib/python3.11/dist-packages (from pandas->datasets->ragas) (2025.2)\n",
            "Requirement already satisfied: tzdata>=2022.7 in /usr/local/lib/python3.11/dist-packages (from pandas->datasets->ragas) (2025.2)\n",
            "Requirement already satisfied: six>=1.5 in /usr/local/lib/python3.11/dist-packages (from python-dateutil>=2.8.2->pandas->datasets->ragas) (1.17.0)\n",
            "Requirement already satisfied: mypy-extensions>=0.3.0 in /usr/local/lib/python3.11/dist-packages (from typing-inspect<1,>=0.4.0->dataclasses-json<0.7,>=0.5.7->langchain-community->ragas) (1.1.0)\n",
            "Using cached fsspec-2024.12.0-py3-none-any.whl (183 kB)\n",
            "Installing collected packages: fsspec\n",
            "  Attempting uninstall: fsspec\n",
            "    Found existing installation: fsspec 2025.3.2\n",
            "    Uninstalling fsspec-2025.3.2:\n",
            "      Successfully uninstalled fsspec-2025.3.2\n",
            "\u001b[31mERROR: pip's dependency resolver does not currently take into account all the packages that are installed. This behaviour is the source of the following dependency conflicts.\n",
            "gcsfs 2025.3.2 requires fsspec==2025.3.2, but you have fsspec 2024.12.0 which is incompatible.\u001b[0m\u001b[31m\n",
            "\u001b[0mSuccessfully installed fsspec-2024.12.0\n"
          ]
        }
      ]
    },
    {
      "cell_type": "code",
      "source": [
        "import langgraph\n",
        "try:\n",
        "    from langgraph import version\n",
        "    print(f\"Version from version module: {version.__version__}\")\n",
        "except (ImportError, AttributeError):\n",
        "    print(\"Could not import version from langgraph\")"
      ],
      "metadata": {
        "colab": {
          "base_uri": "https://localhost:8080/"
        },
        "id": "yEAYo59PxLq8",
        "outputId": "b3c00141-8fed-4b0c-cf46-069b63ec250d"
      },
      "execution_count": null,
      "outputs": [
        {
          "output_type": "stream",
          "name": "stdout",
          "text": [
            "Version from version module: 0.3.31\n"
          ]
        }
      ]
    },
    {
      "cell_type": "code",
      "source": [
        "!pip install -qU langgraph-prebuilt"
      ],
      "metadata": {
        "id": "BP9gLaNZwyaz"
      },
      "execution_count": null,
      "outputs": []
    },
    {
      "cell_type": "code",
      "source": [
        "from langchain_core.tools import tool\n",
        "from langchain.agents import create_react_agent\n",
        "from langchain.agents import AgentExecutor"
      ],
      "metadata": {
        "id": "04IEj6Ytw61m"
      },
      "execution_count": null,
      "outputs": []
    },
    {
      "cell_type": "code",
      "source": [
        "!pip list | grep langgraph"
      ],
      "metadata": {
        "colab": {
          "base_uri": "https://localhost:8080/"
        },
        "id": "cxongpKVyjap",
        "outputId": "cc45f63c-63a8-45a3-836f-9cda79fdead8"
      },
      "execution_count": null,
      "outputs": [
        {
          "output_type": "stream",
          "name": "stdout",
          "text": [
            "langgraph                             0.3.31\n",
            "langgraph-checkpoint                  2.0.24\n",
            "langgraph-prebuilt                    0.1.8\n",
            "langgraph-sdk                         0.1.63\n"
          ]
        }
      ]
    },
    {
      "cell_type": "markdown",
      "source": [
        "### Alpha Vantage API Key\n",
        "\n",
        "Get free api key from https://www.alphavantage.co/support/#api-key"
      ],
      "metadata": {
        "id": "K7iNPhN9_opo"
      }
    },
    {
      "cell_type": "code",
      "source": [
        "# import os\n",
        "# import getpass\n",
        "\n",
        "# os.environ[\"ALPHA_API_KEY\"] = getpass.getpass(\"Enter your API key: \")"
      ],
      "metadata": {
        "id": "lB5bVnoV7rz-"
      },
      "execution_count": null,
      "outputs": []
    },
    {
      "cell_type": "markdown",
      "metadata": {
        "id": "eJJ-WKWMZQv2"
      },
      "source": [
        "## Building the ReAct Agent"
      ]
    },
    {
      "cell_type": "markdown",
      "metadata": {
        "id": "2SduQYJbZQv3"
      },
      "source": [
        "### Define the get_stock_price Tool\n",
        "\n",
        "The get_stock_price tool will be used by the agent to fetch the stock price of a specified company. We'll create this tool using the @tool decorator from LangChain."
      ]
    },
    {
      "cell_type": "code",
      "source": [
        "from langchain_core.tools import tool\n",
        "import requests\n",
        "import pandas as pd\n",
        "\n",
        "\n",
        "@tool\n",
        "def get_stock_price(ticker: str):\n",
        "    \"\"\"\n",
        "    Fetches the stock price for a given ticker symbol using the Alpha Vantage API.\n",
        "\n",
        "    Args:\n",
        "        ticker (str): The ticker symbol of the stock.\n",
        "\n",
        "    Returns:\n",
        "        pd.DataFrame: A dataframe containing the latest stock data with 30min interval.\n",
        "    \"\"\"\n",
        "    # Define your Alpha Vantage API key\n",
        "    alpha_api_key = os.environ.get(\"ALPHA_API_KEY\")\n",
        "\n",
        "    # Construct the API request URL\n",
        "    url = f'https://www.alphavantage.co/query?function=TIME_SERIES_INTRADAY&symbol={ticker}&interval=30min&outputsize=full&apikey={alpha_api_key}'\n",
        "    response = requests.get(url)\n",
        "    data = response.json()\n",
        "\n",
        "    # Check if the response contains the 'Time Series (30min)' key\n",
        "    if 'Time Series (30min)' not in data:\n",
        "        return f\"Error: {data.get('Note', 'Unable to fetch data.')}\"\n",
        "\n",
        "    # Extract the time series data\n",
        "    time_series = data['Time Series (30min)']\n",
        "\n",
        "    # Convert the time series data into a DataFrame\n",
        "    df = pd.DataFrame.from_dict(time_series, orient='index')\n",
        "\n",
        "    # Rename the columns\n",
        "    df.columns = ['open', 'high', 'low', 'close', 'volume']\n",
        "\n",
        "    # Convert the index to datetime format\n",
        "    df.index = pd.to_datetime(df.index)\n",
        "\n",
        "    # Filter for the latest date\n",
        "    latest_date = df.index.max().date()\n",
        "    filtered_df = df[df.index.date == latest_date]\n",
        "\n",
        "    return filtered_df\n",
        "\n",
        "\n",
        "\n",
        "@tool\n",
        "def calculate_percentage(stock_price: float, percentage: float) -> float:\n",
        "    \"\"\"\n",
        "    Calculates the specified percentage of the given stock price.\n",
        "\n",
        "    Args:\n",
        "        stock_price (float): The current stock price.\n",
        "        percentage (float): The percentage to calculate.\n",
        "\n",
        "    Returns:\n",
        "        float: The calculated percentage value of the stock price.\n",
        "    \"\"\"\n",
        "    calculated_value = (percentage / 100) * stock_price\n",
        "    return calculated_value"
      ],
      "metadata": {
        "id": "DUblFksh7EZE"
      },
      "execution_count": null,
      "outputs": []
    },
    {
      "cell_type": "markdown",
      "source": [
        "## trying the stock price tool"
      ],
      "metadata": {
        "id": "2gt5J6dUruAZ"
      }
    },
    {
      "cell_type": "code",
      "source": [
        "get_stock_price.invoke(\"AAPL\")\n"
      ],
      "metadata": {
        "colab": {
          "base_uri": "https://localhost:8080/",
          "height": 1000
        },
        "id": "fu8XNmttrixl",
        "outputId": "8aefa073-e271-4db0-c350-833cff3c1f2e"
      },
      "execution_count": null,
      "outputs": [
        {
          "output_type": "execute_result",
          "data": {
            "text/plain": [
              "                         open      high       low     close    volume\n",
              "2025-04-21 19:30:00  192.6900  194.0000  192.6100  194.0000     49735\n",
              "2025-04-21 19:00:00  192.7500  192.8900  192.5600  192.7000      9030\n",
              "2025-04-21 18:30:00  192.5200  193.1600  192.5200  192.8200     10958\n",
              "2025-04-21 18:00:00  192.9700  230.1900  192.3000  192.5257     14864\n",
              "2025-04-21 17:30:00  192.8200  192.9900  192.7000  192.8800      5636\n",
              "2025-04-21 17:00:00  193.0800  202.4032  186.2630  192.7300     24167\n",
              "2025-04-21 16:30:00  192.7000  201.7418  180.6242  193.0800    763612\n",
              "2025-04-21 16:00:00  193.2100  193.4000  179.7725  192.6500  20125717\n",
              "2025-04-21 15:30:00  191.0900  193.4300  191.0500  193.0900   5337997\n",
              "2025-04-21 15:00:00  190.2700  191.3800  190.2400  191.1050   1904167\n",
              "2025-04-21 14:30:00  190.8150  191.1400  190.1800  190.2700   1566352\n",
              "2025-04-21 14:00:00  190.5100  190.9300  190.2400  190.8200   1297801\n",
              "2025-04-21 13:30:00  190.5900  191.0200  190.2800  190.5100   1550369\n",
              "2025-04-21 13:00:00  190.7650  190.9899  190.1300  190.6140   1778365\n",
              "2025-04-21 12:30:00  191.1200  191.7500  190.6800  190.7650   1553464\n",
              "2025-04-21 12:00:00  190.2400  191.3200  190.2300  191.1300   1551122\n",
              "2025-04-21 11:30:00  190.7200  190.8300  189.8112  190.2500   2917793\n",
              "2025-04-21 11:00:00  191.5000  191.9900  190.6050  190.7350   2238471\n",
              "2025-04-21 10:30:00  192.1100  192.4900  191.2700  191.4950   2241881\n",
              "2025-04-21 10:00:00  192.4500  193.3400  191.3600  192.1200   3410143\n",
              "2025-04-21 09:30:00  193.2650  193.8000  192.3800  192.4995   4722888\n",
              "2025-04-21 09:00:00  191.9499  197.1600  191.5200  193.3500    227281\n",
              "2025-04-21 08:30:00  191.9600  213.1900  191.7000  191.9499     77377\n",
              "2025-04-21 08:00:00  193.4200  196.9800  191.6500  192.0000    134566\n",
              "2025-04-21 07:30:00  192.9800  192.9800  191.7100  191.9500     77046\n",
              "2025-04-21 07:00:00  194.2100  194.5000  192.3000  192.8600     72546\n",
              "2025-04-21 06:30:00  194.1800  194.5000  193.8800  194.2000     21256\n",
              "2025-04-21 06:00:00  194.3800  194.5000  194.0700  194.1800     19574\n",
              "2025-04-21 05:30:00  193.9400  194.4600  193.7900  194.3700     11896\n",
              "2025-04-21 05:00:00  193.9400  194.2700  193.3600  193.8300     24634\n",
              "2025-04-21 04:30:00  194.4800  194.7400  193.7200  194.0000     37867\n",
              "2025-04-21 04:00:00  195.3200  195.9800  194.3000  194.4900     25660"
            ],
            "text/html": [
              "\n",
              "  <div id=\"df-6cecc733-0e8b-417a-ac7e-8dd4f8a660e7\" class=\"colab-df-container\">\n",
              "    <div>\n",
              "<style scoped>\n",
              "    .dataframe tbody tr th:only-of-type {\n",
              "        vertical-align: middle;\n",
              "    }\n",
              "\n",
              "    .dataframe tbody tr th {\n",
              "        vertical-align: top;\n",
              "    }\n",
              "\n",
              "    .dataframe thead th {\n",
              "        text-align: right;\n",
              "    }\n",
              "</style>\n",
              "<table border=\"1\" class=\"dataframe\">\n",
              "  <thead>\n",
              "    <tr style=\"text-align: right;\">\n",
              "      <th></th>\n",
              "      <th>open</th>\n",
              "      <th>high</th>\n",
              "      <th>low</th>\n",
              "      <th>close</th>\n",
              "      <th>volume</th>\n",
              "    </tr>\n",
              "  </thead>\n",
              "  <tbody>\n",
              "    <tr>\n",
              "      <th>2025-04-21 19:30:00</th>\n",
              "      <td>192.6900</td>\n",
              "      <td>194.0000</td>\n",
              "      <td>192.6100</td>\n",
              "      <td>194.0000</td>\n",
              "      <td>49735</td>\n",
              "    </tr>\n",
              "    <tr>\n",
              "      <th>2025-04-21 19:00:00</th>\n",
              "      <td>192.7500</td>\n",
              "      <td>192.8900</td>\n",
              "      <td>192.5600</td>\n",
              "      <td>192.7000</td>\n",
              "      <td>9030</td>\n",
              "    </tr>\n",
              "    <tr>\n",
              "      <th>2025-04-21 18:30:00</th>\n",
              "      <td>192.5200</td>\n",
              "      <td>193.1600</td>\n",
              "      <td>192.5200</td>\n",
              "      <td>192.8200</td>\n",
              "      <td>10958</td>\n",
              "    </tr>\n",
              "    <tr>\n",
              "      <th>2025-04-21 18:00:00</th>\n",
              "      <td>192.9700</td>\n",
              "      <td>230.1900</td>\n",
              "      <td>192.3000</td>\n",
              "      <td>192.5257</td>\n",
              "      <td>14864</td>\n",
              "    </tr>\n",
              "    <tr>\n",
              "      <th>2025-04-21 17:30:00</th>\n",
              "      <td>192.8200</td>\n",
              "      <td>192.9900</td>\n",
              "      <td>192.7000</td>\n",
              "      <td>192.8800</td>\n",
              "      <td>5636</td>\n",
              "    </tr>\n",
              "    <tr>\n",
              "      <th>2025-04-21 17:00:00</th>\n",
              "      <td>193.0800</td>\n",
              "      <td>202.4032</td>\n",
              "      <td>186.2630</td>\n",
              "      <td>192.7300</td>\n",
              "      <td>24167</td>\n",
              "    </tr>\n",
              "    <tr>\n",
              "      <th>2025-04-21 16:30:00</th>\n",
              "      <td>192.7000</td>\n",
              "      <td>201.7418</td>\n",
              "      <td>180.6242</td>\n",
              "      <td>193.0800</td>\n",
              "      <td>763612</td>\n",
              "    </tr>\n",
              "    <tr>\n",
              "      <th>2025-04-21 16:00:00</th>\n",
              "      <td>193.2100</td>\n",
              "      <td>193.4000</td>\n",
              "      <td>179.7725</td>\n",
              "      <td>192.6500</td>\n",
              "      <td>20125717</td>\n",
              "    </tr>\n",
              "    <tr>\n",
              "      <th>2025-04-21 15:30:00</th>\n",
              "      <td>191.0900</td>\n",
              "      <td>193.4300</td>\n",
              "      <td>191.0500</td>\n",
              "      <td>193.0900</td>\n",
              "      <td>5337997</td>\n",
              "    </tr>\n",
              "    <tr>\n",
              "      <th>2025-04-21 15:00:00</th>\n",
              "      <td>190.2700</td>\n",
              "      <td>191.3800</td>\n",
              "      <td>190.2400</td>\n",
              "      <td>191.1050</td>\n",
              "      <td>1904167</td>\n",
              "    </tr>\n",
              "    <tr>\n",
              "      <th>2025-04-21 14:30:00</th>\n",
              "      <td>190.8150</td>\n",
              "      <td>191.1400</td>\n",
              "      <td>190.1800</td>\n",
              "      <td>190.2700</td>\n",
              "      <td>1566352</td>\n",
              "    </tr>\n",
              "    <tr>\n",
              "      <th>2025-04-21 14:00:00</th>\n",
              "      <td>190.5100</td>\n",
              "      <td>190.9300</td>\n",
              "      <td>190.2400</td>\n",
              "      <td>190.8200</td>\n",
              "      <td>1297801</td>\n",
              "    </tr>\n",
              "    <tr>\n",
              "      <th>2025-04-21 13:30:00</th>\n",
              "      <td>190.5900</td>\n",
              "      <td>191.0200</td>\n",
              "      <td>190.2800</td>\n",
              "      <td>190.5100</td>\n",
              "      <td>1550369</td>\n",
              "    </tr>\n",
              "    <tr>\n",
              "      <th>2025-04-21 13:00:00</th>\n",
              "      <td>190.7650</td>\n",
              "      <td>190.9899</td>\n",
              "      <td>190.1300</td>\n",
              "      <td>190.6140</td>\n",
              "      <td>1778365</td>\n",
              "    </tr>\n",
              "    <tr>\n",
              "      <th>2025-04-21 12:30:00</th>\n",
              "      <td>191.1200</td>\n",
              "      <td>191.7500</td>\n",
              "      <td>190.6800</td>\n",
              "      <td>190.7650</td>\n",
              "      <td>1553464</td>\n",
              "    </tr>\n",
              "    <tr>\n",
              "      <th>2025-04-21 12:00:00</th>\n",
              "      <td>190.2400</td>\n",
              "      <td>191.3200</td>\n",
              "      <td>190.2300</td>\n",
              "      <td>191.1300</td>\n",
              "      <td>1551122</td>\n",
              "    </tr>\n",
              "    <tr>\n",
              "      <th>2025-04-21 11:30:00</th>\n",
              "      <td>190.7200</td>\n",
              "      <td>190.8300</td>\n",
              "      <td>189.8112</td>\n",
              "      <td>190.2500</td>\n",
              "      <td>2917793</td>\n",
              "    </tr>\n",
              "    <tr>\n",
              "      <th>2025-04-21 11:00:00</th>\n",
              "      <td>191.5000</td>\n",
              "      <td>191.9900</td>\n",
              "      <td>190.6050</td>\n",
              "      <td>190.7350</td>\n",
              "      <td>2238471</td>\n",
              "    </tr>\n",
              "    <tr>\n",
              "      <th>2025-04-21 10:30:00</th>\n",
              "      <td>192.1100</td>\n",
              "      <td>192.4900</td>\n",
              "      <td>191.2700</td>\n",
              "      <td>191.4950</td>\n",
              "      <td>2241881</td>\n",
              "    </tr>\n",
              "    <tr>\n",
              "      <th>2025-04-21 10:00:00</th>\n",
              "      <td>192.4500</td>\n",
              "      <td>193.3400</td>\n",
              "      <td>191.3600</td>\n",
              "      <td>192.1200</td>\n",
              "      <td>3410143</td>\n",
              "    </tr>\n",
              "    <tr>\n",
              "      <th>2025-04-21 09:30:00</th>\n",
              "      <td>193.2650</td>\n",
              "      <td>193.8000</td>\n",
              "      <td>192.3800</td>\n",
              "      <td>192.4995</td>\n",
              "      <td>4722888</td>\n",
              "    </tr>\n",
              "    <tr>\n",
              "      <th>2025-04-21 09:00:00</th>\n",
              "      <td>191.9499</td>\n",
              "      <td>197.1600</td>\n",
              "      <td>191.5200</td>\n",
              "      <td>193.3500</td>\n",
              "      <td>227281</td>\n",
              "    </tr>\n",
              "    <tr>\n",
              "      <th>2025-04-21 08:30:00</th>\n",
              "      <td>191.9600</td>\n",
              "      <td>213.1900</td>\n",
              "      <td>191.7000</td>\n",
              "      <td>191.9499</td>\n",
              "      <td>77377</td>\n",
              "    </tr>\n",
              "    <tr>\n",
              "      <th>2025-04-21 08:00:00</th>\n",
              "      <td>193.4200</td>\n",
              "      <td>196.9800</td>\n",
              "      <td>191.6500</td>\n",
              "      <td>192.0000</td>\n",
              "      <td>134566</td>\n",
              "    </tr>\n",
              "    <tr>\n",
              "      <th>2025-04-21 07:30:00</th>\n",
              "      <td>192.9800</td>\n",
              "      <td>192.9800</td>\n",
              "      <td>191.7100</td>\n",
              "      <td>191.9500</td>\n",
              "      <td>77046</td>\n",
              "    </tr>\n",
              "    <tr>\n",
              "      <th>2025-04-21 07:00:00</th>\n",
              "      <td>194.2100</td>\n",
              "      <td>194.5000</td>\n",
              "      <td>192.3000</td>\n",
              "      <td>192.8600</td>\n",
              "      <td>72546</td>\n",
              "    </tr>\n",
              "    <tr>\n",
              "      <th>2025-04-21 06:30:00</th>\n",
              "      <td>194.1800</td>\n",
              "      <td>194.5000</td>\n",
              "      <td>193.8800</td>\n",
              "      <td>194.2000</td>\n",
              "      <td>21256</td>\n",
              "    </tr>\n",
              "    <tr>\n",
              "      <th>2025-04-21 06:00:00</th>\n",
              "      <td>194.3800</td>\n",
              "      <td>194.5000</td>\n",
              "      <td>194.0700</td>\n",
              "      <td>194.1800</td>\n",
              "      <td>19574</td>\n",
              "    </tr>\n",
              "    <tr>\n",
              "      <th>2025-04-21 05:30:00</th>\n",
              "      <td>193.9400</td>\n",
              "      <td>194.4600</td>\n",
              "      <td>193.7900</td>\n",
              "      <td>194.3700</td>\n",
              "      <td>11896</td>\n",
              "    </tr>\n",
              "    <tr>\n",
              "      <th>2025-04-21 05:00:00</th>\n",
              "      <td>193.9400</td>\n",
              "      <td>194.2700</td>\n",
              "      <td>193.3600</td>\n",
              "      <td>193.8300</td>\n",
              "      <td>24634</td>\n",
              "    </tr>\n",
              "    <tr>\n",
              "      <th>2025-04-21 04:30:00</th>\n",
              "      <td>194.4800</td>\n",
              "      <td>194.7400</td>\n",
              "      <td>193.7200</td>\n",
              "      <td>194.0000</td>\n",
              "      <td>37867</td>\n",
              "    </tr>\n",
              "    <tr>\n",
              "      <th>2025-04-21 04:00:00</th>\n",
              "      <td>195.3200</td>\n",
              "      <td>195.9800</td>\n",
              "      <td>194.3000</td>\n",
              "      <td>194.4900</td>\n",
              "      <td>25660</td>\n",
              "    </tr>\n",
              "  </tbody>\n",
              "</table>\n",
              "</div>\n",
              "    <div class=\"colab-df-buttons\">\n",
              "\n",
              "  <div class=\"colab-df-container\">\n",
              "    <button class=\"colab-df-convert\" onclick=\"convertToInteractive('df-6cecc733-0e8b-417a-ac7e-8dd4f8a660e7')\"\n",
              "            title=\"Convert this dataframe to an interactive table.\"\n",
              "            style=\"display:none;\">\n",
              "\n",
              "  <svg xmlns=\"http://www.w3.org/2000/svg\" height=\"24px\" viewBox=\"0 -960 960 960\">\n",
              "    <path d=\"M120-120v-720h720v720H120Zm60-500h600v-160H180v160Zm220 220h160v-160H400v160Zm0 220h160v-160H400v160ZM180-400h160v-160H180v160Zm440 0h160v-160H620v160ZM180-180h160v-160H180v160Zm440 0h160v-160H620v160Z\"/>\n",
              "  </svg>\n",
              "    </button>\n",
              "\n",
              "  <style>\n",
              "    .colab-df-container {\n",
              "      display:flex;\n",
              "      gap: 12px;\n",
              "    }\n",
              "\n",
              "    .colab-df-convert {\n",
              "      background-color: #E8F0FE;\n",
              "      border: none;\n",
              "      border-radius: 50%;\n",
              "      cursor: pointer;\n",
              "      display: none;\n",
              "      fill: #1967D2;\n",
              "      height: 32px;\n",
              "      padding: 0 0 0 0;\n",
              "      width: 32px;\n",
              "    }\n",
              "\n",
              "    .colab-df-convert:hover {\n",
              "      background-color: #E2EBFA;\n",
              "      box-shadow: 0px 1px 2px rgba(60, 64, 67, 0.3), 0px 1px 3px 1px rgba(60, 64, 67, 0.15);\n",
              "      fill: #174EA6;\n",
              "    }\n",
              "\n",
              "    .colab-df-buttons div {\n",
              "      margin-bottom: 4px;\n",
              "    }\n",
              "\n",
              "    [theme=dark] .colab-df-convert {\n",
              "      background-color: #3B4455;\n",
              "      fill: #D2E3FC;\n",
              "    }\n",
              "\n",
              "    [theme=dark] .colab-df-convert:hover {\n",
              "      background-color: #434B5C;\n",
              "      box-shadow: 0px 1px 3px 1px rgba(0, 0, 0, 0.15);\n",
              "      filter: drop-shadow(0px 1px 2px rgba(0, 0, 0, 0.3));\n",
              "      fill: #FFFFFF;\n",
              "    }\n",
              "  </style>\n",
              "\n",
              "    <script>\n",
              "      const buttonEl =\n",
              "        document.querySelector('#df-6cecc733-0e8b-417a-ac7e-8dd4f8a660e7 button.colab-df-convert');\n",
              "      buttonEl.style.display =\n",
              "        google.colab.kernel.accessAllowed ? 'block' : 'none';\n",
              "\n",
              "      async function convertToInteractive(key) {\n",
              "        const element = document.querySelector('#df-6cecc733-0e8b-417a-ac7e-8dd4f8a660e7');\n",
              "        const dataTable =\n",
              "          await google.colab.kernel.invokeFunction('convertToInteractive',\n",
              "                                                    [key], {});\n",
              "        if (!dataTable) return;\n",
              "\n",
              "        const docLinkHtml = 'Like what you see? Visit the ' +\n",
              "          '<a target=\"_blank\" href=https://colab.research.google.com/notebooks/data_table.ipynb>data table notebook</a>'\n",
              "          + ' to learn more about interactive tables.';\n",
              "        element.innerHTML = '';\n",
              "        dataTable['output_type'] = 'display_data';\n",
              "        await google.colab.output.renderOutput(dataTable, element);\n",
              "        const docLink = document.createElement('div');\n",
              "        docLink.innerHTML = docLinkHtml;\n",
              "        element.appendChild(docLink);\n",
              "      }\n",
              "    </script>\n",
              "  </div>\n",
              "\n",
              "\n",
              "<div id=\"df-781fd974-ccc3-43a3-a1eb-23e7e9cee293\">\n",
              "  <button class=\"colab-df-quickchart\" onclick=\"quickchart('df-781fd974-ccc3-43a3-a1eb-23e7e9cee293')\"\n",
              "            title=\"Suggest charts\"\n",
              "            style=\"display:none;\">\n",
              "\n",
              "<svg xmlns=\"http://www.w3.org/2000/svg\" height=\"24px\"viewBox=\"0 0 24 24\"\n",
              "     width=\"24px\">\n",
              "    <g>\n",
              "        <path d=\"M19 3H5c-1.1 0-2 .9-2 2v14c0 1.1.9 2 2 2h14c1.1 0 2-.9 2-2V5c0-1.1-.9-2-2-2zM9 17H7v-7h2v7zm4 0h-2V7h2v10zm4 0h-2v-4h2v4z\"/>\n",
              "    </g>\n",
              "</svg>\n",
              "  </button>\n",
              "\n",
              "<style>\n",
              "  .colab-df-quickchart {\n",
              "      --bg-color: #E8F0FE;\n",
              "      --fill-color: #1967D2;\n",
              "      --hover-bg-color: #E2EBFA;\n",
              "      --hover-fill-color: #174EA6;\n",
              "      --disabled-fill-color: #AAA;\n",
              "      --disabled-bg-color: #DDD;\n",
              "  }\n",
              "\n",
              "  [theme=dark] .colab-df-quickchart {\n",
              "      --bg-color: #3B4455;\n",
              "      --fill-color: #D2E3FC;\n",
              "      --hover-bg-color: #434B5C;\n",
              "      --hover-fill-color: #FFFFFF;\n",
              "      --disabled-bg-color: #3B4455;\n",
              "      --disabled-fill-color: #666;\n",
              "  }\n",
              "\n",
              "  .colab-df-quickchart {\n",
              "    background-color: var(--bg-color);\n",
              "    border: none;\n",
              "    border-radius: 50%;\n",
              "    cursor: pointer;\n",
              "    display: none;\n",
              "    fill: var(--fill-color);\n",
              "    height: 32px;\n",
              "    padding: 0;\n",
              "    width: 32px;\n",
              "  }\n",
              "\n",
              "  .colab-df-quickchart:hover {\n",
              "    background-color: var(--hover-bg-color);\n",
              "    box-shadow: 0 1px 2px rgba(60, 64, 67, 0.3), 0 1px 3px 1px rgba(60, 64, 67, 0.15);\n",
              "    fill: var(--button-hover-fill-color);\n",
              "  }\n",
              "\n",
              "  .colab-df-quickchart-complete:disabled,\n",
              "  .colab-df-quickchart-complete:disabled:hover {\n",
              "    background-color: var(--disabled-bg-color);\n",
              "    fill: var(--disabled-fill-color);\n",
              "    box-shadow: none;\n",
              "  }\n",
              "\n",
              "  .colab-df-spinner {\n",
              "    border: 2px solid var(--fill-color);\n",
              "    border-color: transparent;\n",
              "    border-bottom-color: var(--fill-color);\n",
              "    animation:\n",
              "      spin 1s steps(1) infinite;\n",
              "  }\n",
              "\n",
              "  @keyframes spin {\n",
              "    0% {\n",
              "      border-color: transparent;\n",
              "      border-bottom-color: var(--fill-color);\n",
              "      border-left-color: var(--fill-color);\n",
              "    }\n",
              "    20% {\n",
              "      border-color: transparent;\n",
              "      border-left-color: var(--fill-color);\n",
              "      border-top-color: var(--fill-color);\n",
              "    }\n",
              "    30% {\n",
              "      border-color: transparent;\n",
              "      border-left-color: var(--fill-color);\n",
              "      border-top-color: var(--fill-color);\n",
              "      border-right-color: var(--fill-color);\n",
              "    }\n",
              "    40% {\n",
              "      border-color: transparent;\n",
              "      border-right-color: var(--fill-color);\n",
              "      border-top-color: var(--fill-color);\n",
              "    }\n",
              "    60% {\n",
              "      border-color: transparent;\n",
              "      border-right-color: var(--fill-color);\n",
              "    }\n",
              "    80% {\n",
              "      border-color: transparent;\n",
              "      border-right-color: var(--fill-color);\n",
              "      border-bottom-color: var(--fill-color);\n",
              "    }\n",
              "    90% {\n",
              "      border-color: transparent;\n",
              "      border-bottom-color: var(--fill-color);\n",
              "    }\n",
              "  }\n",
              "</style>\n",
              "\n",
              "  <script>\n",
              "    async function quickchart(key) {\n",
              "      const quickchartButtonEl =\n",
              "        document.querySelector('#' + key + ' button');\n",
              "      quickchartButtonEl.disabled = true;  // To prevent multiple clicks.\n",
              "      quickchartButtonEl.classList.add('colab-df-spinner');\n",
              "      try {\n",
              "        const charts = await google.colab.kernel.invokeFunction(\n",
              "            'suggestCharts', [key], {});\n",
              "      } catch (error) {\n",
              "        console.error('Error during call to suggestCharts:', error);\n",
              "      }\n",
              "      quickchartButtonEl.classList.remove('colab-df-spinner');\n",
              "      quickchartButtonEl.classList.add('colab-df-quickchart-complete');\n",
              "    }\n",
              "    (() => {\n",
              "      let quickchartButtonEl =\n",
              "        document.querySelector('#df-781fd974-ccc3-43a3-a1eb-23e7e9cee293 button');\n",
              "      quickchartButtonEl.style.display =\n",
              "        google.colab.kernel.accessAllowed ? 'block' : 'none';\n",
              "    })();\n",
              "  </script>\n",
              "</div>\n",
              "\n",
              "    </div>\n",
              "  </div>\n"
            ],
            "application/vnd.google.colaboratory.intrinsic+json": {
              "type": "dataframe",
              "summary": "{\n  \"name\": \"get_stock_price\",\n  \"rows\": 32,\n  \"fields\": [\n    {\n      \"column\": \"open\",\n      \"properties\": {\n        \"dtype\": \"string\",\n        \"num_unique_values\": 31,\n        \"samples\": [\n          \"194.3800\",\n          \"190.2400\",\n          \"193.4200\"\n        ],\n        \"semantic_type\": \"\",\n        \"description\": \"\"\n      }\n    },\n    {\n      \"column\": \"high\",\n      \"properties\": {\n        \"dtype\": \"string\",\n        \"num_unique_values\": 30,\n        \"samples\": [\n          \"194.2700\",\n          \"191.3200\",\n          \"196.9800\"\n        ],\n        \"semantic_type\": \"\",\n        \"description\": \"\"\n      }\n    },\n    {\n      \"column\": \"low\",\n      \"properties\": {\n        \"dtype\": \"string\",\n        \"num_unique_values\": 30,\n        \"samples\": [\n          \"193.3600\",\n          \"189.8112\",\n          \"191.7100\"\n        ],\n        \"semantic_type\": \"\",\n        \"description\": \"\"\n      }\n    },\n    {\n      \"column\": \"close\",\n      \"properties\": {\n        \"dtype\": \"string\",\n        \"num_unique_values\": 31,\n        \"samples\": [\n          \"194.1800\",\n          \"191.1300\",\n          \"192.0000\"\n        ],\n        \"semantic_type\": \"\",\n        \"description\": \"\"\n      }\n    },\n    {\n      \"column\": \"volume\",\n      \"properties\": {\n        \"dtype\": \"string\",\n        \"num_unique_values\": 32,\n        \"samples\": [\n          \"24634\",\n          \"1551122\",\n          \"77046\"\n        ],\n        \"semantic_type\": \"\",\n        \"description\": \"\"\n      }\n    }\n  ]\n}"
            }
          },
          "metadata": {},
          "execution_count": 14
        }
      ]
    },
    {
      "source": [
        "calculate_percentage.invoke(input={\"stock_price\": \"100.00\", \"percentage\": \"25.0\"})"
      ],
      "cell_type": "code",
      "metadata": {
        "colab": {
          "base_uri": "https://localhost:8080/"
        },
        "id": "g9E3P8bxs1Ra",
        "outputId": "56802716-7da6-4040-c694-ba61bcb97fb9"
      },
      "execution_count": null,
      "outputs": [
        {
          "output_type": "execute_result",
          "data": {
            "text/plain": [
              "25.0"
            ]
          },
          "metadata": {},
          "execution_count": 26
        }
      ]
    },
    {
      "cell_type": "markdown",
      "metadata": {
        "id": "j85XikcLZQv4"
      },
      "source": [
        "### Binding the Tool to the LLM\n",
        "With the get_stock_price tool defined, the next step is to bind it to the AzureChatOpenAI model. This enables the agent to invoke the tool during its execution based on the user's requests allowing it to interact with external data and perform actions beyond its native capabilities."
      ]
    },
    {
      "cell_type": "code",
      "source": [
        "# import json\n",
        "\n",
        "# with open ('config1_api.json') as f:\n",
        "#     cred1 = json.load(f)"
      ],
      "metadata": {
        "id": "54lGqiDRlVE_"
      },
      "execution_count": null,
      "outputs": []
    },
    {
      "cell_type": "code",
      "source": [
        "from langchain_openai import ChatOpenAI"
      ],
      "metadata": {
        "id": "1XjLqZ5QBQ0u"
      },
      "execution_count": null,
      "outputs": []
    },
    {
      "cell_type": "code",
      "source": [
        "# Initialize the Chat OpenAI model\n",
        "llm = ChatOpenAI(\n",
        "    openai_api_base=AZURE_OPENAI_ENDPOINT,  # Fill in the endpoint\n",
        "    openai_api_key=api_key,  # Fill in the API key\n",
        "    model=\"gpt-4o-mini\",  # Fill in the deployment name (e.g., gpt-4o-mini)\n",
        "    streaming=False\n",
        ")\n",
        "\n",
        "tools = [get_stock_price, calculate_percentage]\n",
        "llm_with_tools = llm.bind_tools(tools)"
      ],
      "metadata": {
        "id": "FCd45d1tA2aR"
      },
      "execution_count": null,
      "outputs": []
    },
    {
      "cell_type": "markdown",
      "metadata": {
        "id": "yuDuSrmQZQv4"
      },
      "source": [
        "In LangGraph, state plays a crucial role in tracking and updating information as the graph executes. As different parts of the graph run, the state evolves to reflect the changes and contains information that is passed between nodes.\n",
        "\n",
        "For example, in a conversational system like this one, the state is used to track the exchanged messages. Each time a new message is generated, it is added to the state and the updated state is passed through the nodes, ensuring the conversation progresses logically.\n",
        "\n",
        "### Defining the State\n",
        "To implement this in LangGraph, we define a state class that maintains a list of messages. Whenever a new message is produced it gets appended to this list, ensuring that the conversation history is continuously updated."
      ]
    },
    {
      "cell_type": "code",
      "execution_count": null,
      "metadata": {
        "id": "JHHXxYT1ZQv4"
      },
      "outputs": [],
      "source": [
        "from langgraph.graph import END\n",
        "from langchain_core.messages import AnyMessage\n",
        "from langgraph.graph.message import add_messages\n",
        "from typing import Annotated\n",
        "from typing_extensions import TypedDict\n",
        "\n",
        "\n",
        "class GraphState(TypedDict):\n",
        "    messages: Annotated[list[AnyMessage], add_messages]"
      ]
    },
    {
      "cell_type": "markdown",
      "metadata": {
        "id": "1KGbjrAOZQv4"
      },
      "source": [
        "### Defining the should_continue Function\n",
        "The `should_continue` function determines whether the conversation should proceed with further tool interactions or end. Specifically, it checks if the last message contains any tool calls (e.g., a request for stock prices).\n",
        "\n",
        "- If the last message includes tool calls, indicating that the agent has invoked an external tool, the conversation continues and moves to the \"tools\" node.\n",
        "- If there are no tool calls, the conversation ends, represented by the END state."
      ]
    },
    {
      "cell_type": "code",
      "execution_count": null,
      "metadata": {
        "id": "KjppKPRDZQv4"
      },
      "outputs": [],
      "source": [
        "# Define the function that determines whether to continue or not\n",
        "def should_continue(state: GraphState):\n",
        "    messages = state[\"messages\"]\n",
        "    last_message = messages[-1]\n",
        "    if last_message.tool_calls:\n",
        "        return \"tools\"\n",
        "    return END"
      ]
    },
    {
      "cell_type": "markdown",
      "metadata": {
        "id": "ZbyJRNRvZQv4"
      },
      "source": [
        "### Calling the Model\n",
        "The `call_model` function interacts with the Language Model (LLM) to generate a response based on the current state of the conversation. It takes the updated state as input, processes it and returns a model-generated response."
      ]
    },
    {
      "cell_type": "code",
      "execution_count": null,
      "metadata": {
        "id": "ZYflc7eZZQv4"
      },
      "outputs": [],
      "source": [
        "# Define the function that calls the model\n",
        "def call_model(state: GraphState):\n",
        "    messages = state[\"messages\"]\n",
        "    response = llm_with_tools.invoke(messages)\n",
        "    return {\"messages\": [response]}"
      ]
    },
    {
      "cell_type": "markdown",
      "metadata": {
        "id": "VzxIHVa2ZQv4"
      },
      "source": [
        "### Creating the Assistant Node\n",
        "The `assistant` node is a key component responsible for processing the current state of the conversation and using the Language Model (LLM) to generate a relevant response. It evaluates the state, determines the appropriate course of action, and invokes the LLM to produce a response that aligns with the ongoing dialogue."
      ]
    },
    {
      "cell_type": "code",
      "execution_count": null,
      "metadata": {
        "id": "_fPD6W2SZQv4"
      },
      "outputs": [],
      "source": [
        "# Node\n",
        "def assistant(state: GraphState):\n",
        "    response = llm_with_tools.invoke(state[\"messages\"])\n",
        "    return {\"messages\": [response]}"
      ]
    },
    {
      "cell_type": "markdown",
      "metadata": {
        "id": "Vc3No3agZQv5"
      },
      "source": [
        "### Creating the Tool Node\n",
        "The `tool_node` is responsible for managing interactions with external tools, such as fetching stock prices or performing other actions beyond the LLM's native capabilities. The tools themselves are defined earlier in the code, and the tool_node invokes these tools based on the current state and the needs of the conversation."
      ]
    },
    {
      "cell_type": "code",
      "source": [
        "from langgraph.prebuilt import ToolNode\n",
        "\n",
        "# Node\n",
        "tools = [get_stock_price, calculate_percentage]\n",
        "tool_node = ToolNode(tools)"
      ],
      "metadata": {
        "id": "x-yp9Emz-SIL"
      },
      "execution_count": null,
      "outputs": []
    },
    {
      "cell_type": "markdown",
      "metadata": {
        "id": "M2FWZfGFZQv5"
      },
      "source": [
        "### Building the Graph\n",
        "The graph structure is the backbone of the agentic workflow, consisting of interconnected nodes and edges. To construct this graph, we use the StateGraph builder which allows us to define and connect various nodes. Each node represents a step in the process (e.g., the assistant node, tool node) and the edges dictate the flow of execution between these steps."
      ]
    },
    {
      "cell_type": "code",
      "execution_count": null,
      "metadata": {
        "colab": {
          "base_uri": "https://localhost:8080/",
          "height": 266
        },
        "id": "FeGI8G3KZQv5",
        "outputId": "ed539941-aafe-44f4-9898-a76139eb65a7"
      },
      "outputs": [
        {
          "output_type": "display_data",
          "data": {
            "image/png": "[encoded data removed]",
            "text/plain": [
              "<IPython.core.display.Image object>"
            ]
          },
          "metadata": {}
        }
      ],
      "source": [
        "from langgraph.graph import START, StateGraph\n",
        "from IPython.display import Image, display\n",
        "\n",
        "# Define a new graph for the agent\n",
        "builder = StateGraph(GraphState)\n",
        "\n",
        "# Define the two nodes we will cycle between\n",
        "builder.add_node(\"assistant\", assistant)\n",
        "builder.add_node(\"tools\", tool_node)\n",
        "\n",
        "# Set the entrypoint as `agent`\n",
        "builder.add_edge(START, \"assistant\")\n",
        "\n",
        "# Making a conditional edge\n",
        "# should_continue will determine which node is called next.\n",
        "builder.add_conditional_edges(\"assistant\", should_continue, [\"tools\", END])\n",
        "\n",
        "# Making a normal edge from `tools` to `agent`.\n",
        "# The `agent` node will be called after the `tool`.\n",
        "builder.add_edge(\"tools\", \"assistant\")\n",
        "\n",
        "# Compile and display the graph for a visual overview\n",
        "react_graph = builder.compile()\n",
        "display(Image(react_graph.get_graph(xray=True).draw_mermaid_png()))"
      ]
    },
    {
      "cell_type": "markdown",
      "metadata": {
        "id": "wlNB4fI4ZQv5"
      },
      "source": [
        "To test our setup, we will run the agent with a query. The agent will fetch the stock price of Apple company using the Alpha API key."
      ]
    },
    {
      "cell_type": "code",
      "execution_count": null,
      "metadata": {
        "id": "rzt0I-n2ZQv5"
      },
      "outputs": [],
      "source": [
        "from langchain_core.messages import HumanMessage, SystemMessage\n",
        "\n",
        "messages = [\n",
        "    HumanMessage(\n",
        "        content=\"What is the current stock price of Apple?\"\n",
        "    )\n",
        "]\n",
        "\n",
        "result = react_graph.invoke({\"messages\": messages})"
      ]
    },
    {
      "cell_type": "code",
      "execution_count": null,
      "metadata": {
        "colab": {
          "base_uri": "https://localhost:8080/"
        },
        "id": "esoHsop8ZQv5",
        "outputId": "a50a6e18-081a-4eca-e72b-c767a93b0ed6"
      },
      "outputs": [
        {
          "output_type": "execute_result",
          "data": {
            "text/plain": [
              "[HumanMessage(content='What is the current stock price of Apple?', additional_kwargs={}, response_metadata={}, id='0e3a2a0a-f862-4ea5-ba99-48dafc8b544a'),\n",
              " AIMessage(content='', additional_kwargs={'tool_calls': [{'id': 'call_8VLjpasJSLCI5748Oi2XrDXe', 'function': {'arguments': '{\"ticker\":\"AAPL\"}', 'name': 'get_stock_price'}, 'type': 'function'}], 'refusal': None}, response_metadata={'token_usage': {'completion_tokens': 17, 'prompt_tokens': 159, 'total_tokens': 176, 'completion_tokens_details': {'accepted_prediction_tokens': 0, 'audio_tokens': 0, 'reasoning_tokens': 0, 'rejected_prediction_tokens': 0}, 'prompt_tokens_details': {'audio_tokens': 0, 'cached_tokens': 0}}, 'model_name': 'gpt-4o-mini-2024-07-18', 'system_fingerprint': 'fp_0392822090', 'id': 'chatcmpl-BP9YaYze04Jt3m7kbZ9yVp28Gmeb7', 'finish_reason': 'tool_calls', 'logprobs': None}, id='run-82968e89-6b05-4b09-9a16-0c883293732c-0', tool_calls=[{'name': 'get_stock_price', 'args': {'ticker': 'AAPL'}, 'id': 'call_8VLjpasJSLCI5748Oi2XrDXe', 'type': 'tool_call'}], usage_metadata={'input_tokens': 159, 'output_tokens': 17, 'total_tokens': 176, 'input_token_details': {'audio': 0, 'cache_read': 0}, 'output_token_details': {'audio': 0, 'reasoning': 0}}),\n",
              " ToolMessage(content='                         open      high       low     close    volume\\n2025-04-21 19:30:00  192.6900  194.0000  192.6100  194.0000     49735\\n2025-04-21 19:00:00  192.7500  192.8900  192.5600  192.7000      9030\\n2025-04-21 18:30:00  192.5200  193.1600  192.5200  192.8200     10958\\n2025-04-21 18:00:00  192.9700  230.1900  192.3000  192.5257     14864\\n2025-04-21 17:30:00  192.8200  192.9900  192.7000  192.8800      5636\\n2025-04-21 17:00:00  193.0800  202.4032  186.2630  192.7300     24167\\n2025-04-21 16:30:00  192.7000  201.7418  180.6242  193.0800    763612\\n2025-04-21 16:00:00  193.2100  193.4000  179.7725  192.6500  20125717\\n2025-04-21 15:30:00  191.0900  193.4300  191.0500  193.0900   5337997\\n2025-04-21 15:00:00  190.2700  191.3800  190.2400  191.1050   1904167\\n2025-04-21 14:30:00  190.8150  191.1400  190.1800  190.2700   1566352\\n2025-04-21 14:00:00  190.5100  190.9300  190.2400  190.8200   1297801\\n2025-04-21 13:30:00  190.5900  191.0200  190.2800  190.5100   1550369\\n2025-04-21 13:00:00  190.7650  190.9899  190.1300  190.6140   1778365\\n2025-04-21 12:30:00  191.1200  191.7500  190.6800  190.7650   1553464\\n2025-04-21 12:00:00  190.2400  191.3200  190.2300  191.1300   1551122\\n2025-04-21 11:30:00  190.7200  190.8300  189.8112  190.2500   2917793\\n2025-04-21 11:00:00  191.5000  191.9900  190.6050  190.7350   2238471\\n2025-04-21 10:30:00  192.1100  192.4900  191.2700  191.4950   2241881\\n2025-04-21 10:00:00  192.4500  193.3400  191.3600  192.1200   3410143\\n2025-04-21 09:30:00  193.2650  193.8000  192.3800  192.4995   4722888\\n2025-04-21 09:00:00  191.9499  197.1600  191.5200  193.3500    227281\\n2025-04-21 08:30:00  191.9600  213.1900  191.7000  191.9499     77377\\n2025-04-21 08:00:00  193.4200  196.9800  191.6500  192.0000    134566\\n2025-04-21 07:30:00  192.9800  192.9800  191.7100  191.9500     77046\\n2025-04-21 07:00:00  194.2100  194.5000  192.3000  192.8600     72546\\n2025-04-21 06:30:00  194.1800  194.5000  193.8800  194.2000     21256\\n2025-04-21 06:00:00  194.3800  194.5000  194.0700  194.1800     19574\\n2025-04-21 05:30:00  193.9400  194.4600  193.7900  194.3700     11896\\n2025-04-21 05:00:00  193.9400  194.2700  193.3600  193.8300     24634\\n2025-04-21 04:30:00  194.4800  194.7400  193.7200  194.0000     37867\\n2025-04-21 04:00:00  195.3200  195.9800  194.3000  194.4900     25660', name='get_stock_price', id='0f1ba5ee-06ad-48b8-b77d-1150642a50f9', tool_call_id='call_8VLjpasJSLCI5748Oi2XrDXe'),\n",
              " AIMessage(content='The current stock price of Apple (AAPL) is $194.00.', additional_kwargs={'refusal': None}, response_metadata={'token_usage': {'completion_tokens': 18, 'prompt_tokens': 1520, 'total_tokens': 1538, 'completion_tokens_details': {'accepted_prediction_tokens': 0, 'audio_tokens': 0, 'reasoning_tokens': 0, 'rejected_prediction_tokens': 0}, 'prompt_tokens_details': {'audio_tokens': 0, 'cached_tokens': 0}}, 'model_name': 'gpt-4o-mini-2024-07-18', 'system_fingerprint': 'fp_0392822090', 'id': 'chatcmpl-BP9YbkErRisGHPvhiood95woAehPi', 'finish_reason': 'stop', 'logprobs': None}, id='run-b80473ac-feac-4f89-b6d9-ea5ae1f24ba0-0', usage_metadata={'input_tokens': 1520, 'output_tokens': 18, 'total_tokens': 1538, 'input_token_details': {'audio': 0, 'cache_read': 0}, 'output_token_details': {'audio': 0, 'reasoning': 0}})]"
            ]
          },
          "metadata": {},
          "execution_count": 27
        }
      ],
      "source": [
        "result[\"messages\"]"
      ]
    },
    {
      "cell_type": "code",
      "source": [
        "from langchain_core.messages import HumanMessage, SystemMessage\n",
        "\n",
        "messages = [\n",
        "    HumanMessage(\n",
        "        content=\"Can you tell me what is 25 percent of current stock price of Apple?\"\n",
        "    )\n",
        "]\n",
        "\n",
        "result = react_graph.invoke({\"messages\": messages})"
      ],
      "metadata": {
        "id": "sHYe_5H2WJWK"
      },
      "execution_count": null,
      "outputs": []
    },
    {
      "cell_type": "code",
      "source": [
        "result[\"messages\"]"
      ],
      "metadata": {
        "colab": {
          "base_uri": "https://localhost:8080/"
        },
        "id": "xYEqgJIlWV7q",
        "outputId": "7ad95c3d-5198-4305-d19f-0b8223cc9c64"
      },
      "execution_count": null,
      "outputs": [
        {
          "output_type": "execute_result",
          "data": {
            "text/plain": [
              "[HumanMessage(content='Can you tell me what is 25 percent of current stock price of Apple?', additional_kwargs={}, response_metadata={}, id='52be231e-83e7-4450-b782-88d57758500a'),\n",
              " AIMessage(content='', additional_kwargs={'tool_calls': [{'id': 'call_4vdXb9TKQRLttruIqNRYgCJW', 'function': {'arguments': '{\"ticker\":\"AAPL\"}', 'name': 'get_stock_price'}, 'type': 'function'}], 'refusal': None}, response_metadata={'token_usage': {'completion_tokens': 17, 'prompt_tokens': 166, 'total_tokens': 183, 'completion_tokens_details': {'accepted_prediction_tokens': 0, 'audio_tokens': 0, 'reasoning_tokens': 0, 'rejected_prediction_tokens': 0}, 'prompt_tokens_details': {'audio_tokens': 0, 'cached_tokens': 0}}, 'model_name': 'gpt-4o-mini-2024-07-18', 'system_fingerprint': 'fp_0392822090', 'id': 'chatcmpl-BP9nFEf6sBUNSlhkyCV4By4dhCmpS', 'finish_reason': 'tool_calls', 'logprobs': None}, id='run-17d633ea-5616-4e92-93d2-fe7c491a1080-0', tool_calls=[{'name': 'get_stock_price', 'args': {'ticker': 'AAPL'}, 'id': 'call_4vdXb9TKQRLttruIqNRYgCJW', 'type': 'tool_call'}], usage_metadata={'input_tokens': 166, 'output_tokens': 17, 'total_tokens': 183, 'input_token_details': {'audio': 0, 'cache_read': 0}, 'output_token_details': {'audio': 0, 'reasoning': 0}}),\n",
              " ToolMessage(content='                         open      high       low     close    volume\\n2025-04-21 19:30:00  192.6900  194.0000  192.6100  194.0000     49735\\n2025-04-21 19:00:00  192.7500  192.8900  192.5600  192.7000      9030\\n2025-04-21 18:30:00  192.5200  193.1600  192.5200  192.8200     10958\\n2025-04-21 18:00:00  192.9700  230.1900  192.3000  192.5257     14864\\n2025-04-21 17:30:00  192.8200  192.9900  192.7000  192.8800      5636\\n2025-04-21 17:00:00  193.0800  202.4032  186.2630  192.7300     24167\\n2025-04-21 16:30:00  192.7000  201.7418  180.6242  193.0800    763612\\n2025-04-21 16:00:00  193.2100  193.4000  179.7725  192.6500  20125717\\n2025-04-21 15:30:00  191.0900  193.4300  191.0500  193.0900   5337997\\n2025-04-21 15:00:00  190.2700  191.3800  190.2400  191.1050   1904167\\n2025-04-21 14:30:00  190.8150  191.1400  190.1800  190.2700   1566352\\n2025-04-21 14:00:00  190.5100  190.9300  190.2400  190.8200   1297801\\n2025-04-21 13:30:00  190.5900  191.0200  190.2800  190.5100   1550369\\n2025-04-21 13:00:00  190.7650  190.9899  190.1300  190.6140   1778365\\n2025-04-21 12:30:00  191.1200  191.7500  190.6800  190.7650   1553464\\n2025-04-21 12:00:00  190.2400  191.3200  190.2300  191.1300   1551122\\n2025-04-21 11:30:00  190.7200  190.8300  189.8112  190.2500   2917793\\n2025-04-21 11:00:00  191.5000  191.9900  190.6050  190.7350   2238471\\n2025-04-21 10:30:00  192.1100  192.4900  191.2700  191.4950   2241881\\n2025-04-21 10:00:00  192.4500  193.3400  191.3600  192.1200   3410143\\n2025-04-21 09:30:00  193.2650  193.8000  192.3800  192.4995   4722888\\n2025-04-21 09:00:00  191.9499  197.1600  191.5200  193.3500    227281\\n2025-04-21 08:30:00  191.9600  213.1900  191.7000  191.9499     77377\\n2025-04-21 08:00:00  193.4200  196.9800  191.6500  192.0000    134566\\n2025-04-21 07:30:00  192.9800  192.9800  191.7100  191.9500     77046\\n2025-04-21 07:00:00  194.2100  194.5000  192.3000  192.8600     72546\\n2025-04-21 06:30:00  194.1800  194.5000  193.8800  194.2000     21256\\n2025-04-21 06:00:00  194.3800  194.5000  194.0700  194.1800     19574\\n2025-04-21 05:30:00  193.9400  194.4600  193.7900  194.3700     11896\\n2025-04-21 05:00:00  193.9400  194.2700  193.3600  193.8300     24634\\n2025-04-21 04:30:00  194.4800  194.7400  193.7200  194.0000     37867\\n2025-04-21 04:00:00  195.3200  195.9800  194.3000  194.4900     25660', name='get_stock_price', id='d38120ff-95d5-4ebc-841b-79aaf1e01f4f', tool_call_id='call_4vdXb9TKQRLttruIqNRYgCJW'),\n",
              " AIMessage(content='', additional_kwargs={'tool_calls': [{'id': 'call_dvJEefoyTFc60MFSFWYn2R9V', 'function': {'arguments': '{\"stock_price\":194,\"percentage\":25}', 'name': 'calculate_percentage'}, 'type': 'function'}], 'refusal': None}, response_metadata={'token_usage': {'completion_tokens': 20, 'prompt_tokens': 1527, 'total_tokens': 1547, 'completion_tokens_details': {'accepted_prediction_tokens': 0, 'audio_tokens': 0, 'reasoning_tokens': 0, 'rejected_prediction_tokens': 0}, 'prompt_tokens_details': {'audio_tokens': 0, 'cached_tokens': 0}}, 'model_name': 'gpt-4o-mini-2024-07-18', 'system_fingerprint': 'fp_0392822090', 'id': 'chatcmpl-BP9nHih7RZrBkg46DATjoNTrUWPID', 'finish_reason': 'tool_calls', 'logprobs': None}, id='run-97b10be8-9ab7-4ccf-ad4d-1900f1a82663-0', tool_calls=[{'name': 'calculate_percentage', 'args': {'stock_price': 194, 'percentage': 25}, 'id': 'call_dvJEefoyTFc60MFSFWYn2R9V', 'type': 'tool_call'}], usage_metadata={'input_tokens': 1527, 'output_tokens': 20, 'total_tokens': 1547, 'input_token_details': {'audio': 0, 'cache_read': 0}, 'output_token_details': {'audio': 0, 'reasoning': 0}}),\n",
              " ToolMessage(content='48.5', name='calculate_percentage', id='adc58387-7109-49a4-adbc-c81fa868e4e0', tool_call_id='call_dvJEefoyTFc60MFSFWYn2R9V'),\n",
              " AIMessage(content='25 percent of the current stock price of Apple (which is $194) is $48.50.', additional_kwargs={'refusal': None}, response_metadata={'token_usage': {'completion_tokens': 23, 'prompt_tokens': 1557, 'total_tokens': 1580, 'completion_tokens_details': {'accepted_prediction_tokens': 0, 'audio_tokens': 0, 'reasoning_tokens': 0, 'rejected_prediction_tokens': 0}, 'prompt_tokens_details': {'audio_tokens': 0, 'cached_tokens': 0}}, 'model_name': 'gpt-4o-mini-2024-07-18', 'system_fingerprint': 'fp_0392822090', 'id': 'chatcmpl-BP9nIIM06IzwbeSXXljhUovrBvBch', 'finish_reason': 'stop', 'logprobs': None}, id='run-51e81cd2-2410-4db2-ad34-82e9a5af0dae-0', usage_metadata={'input_tokens': 1557, 'output_tokens': 23, 'total_tokens': 1580, 'input_token_details': {'audio': 0, 'cache_read': 0}, 'output_token_details': {'audio': 0, 'reasoning': 0}})]"
            ]
          },
          "metadata": {},
          "execution_count": 38
        }
      ]
    },
    {
      "cell_type": "markdown",
      "metadata": {
        "id": "wsK_VEDSZQv6"
      },
      "source": [
        "### Converting Messages to Ragas Evaluation Format\n",
        "\n",
        "In the current implementation, the GraphState stores messages exchanged between the human user, the AI (LLM's responses), and any external tools (APIs or services the AI uses) in a list. Each message is an object in LangChain's format\n",
        "\n",
        "```python\n",
        "# Implementation of Graph State\n",
        "class GraphState(TypedDict):\n",
        "    messages: Annotated[list[AnyMessage], add_messages]\n",
        "```\n",
        "\n",
        "Each time a message is exchanged during agent execution, it gets added to the messages list in the GraphState. However, Ragas requires a specific message format for evaluating interactions.\n",
        "\n",
        "Ragas uses its own format to evaluate agent interactions. So, if you're using LangGraph, you will need to convert the LangChain message objects into Ragas message objects. This allows you to evaluate your AI agents with Ragas’ built-in evaluation tools.\n",
        "\n",
        "**Goal:**  Convert the list of LangChain messages (e.g., HumanMessage, AIMessage, and ToolMessage) into the format expected by Ragas, so the evaluation framework can understand and process them properly."
      ]
    },
    {
      "cell_type": "markdown",
      "metadata": {
        "id": "edpIDCgi6hkx"
      },
      "source": [
        "To convert a list of LangChain messages into a format suitable for Ragas evaluation, Ragas provides the function [convert_to_ragas_messages][ragas.integrations.langgraph.convert_to_ragas_messages], which can be used to transform LangChain messages into the format expected by Ragas.\n",
        "\n",
        "Here's how you can use the function:"
      ]
    },
    {
      "cell_type": "code",
      "execution_count": null,
      "metadata": {
        "id": "oGX9bx286hkx"
      },
      "outputs": [],
      "source": [
        "from ragas.integrations.langgraph import convert_to_ragas_messages\n",
        "\n",
        "# Assuming 'result[\"messages\"]' contains the list of LangChain messages\n",
        "ragas_trace = convert_to_ragas_messages(result[\"messages\"])"
      ]
    },
    {
      "cell_type": "code",
      "execution_count": null,
      "metadata": {
        "id": "Udcg7kCH6hkx",
        "outputId": "d181fb53-e58d-43b2-d056-d67c8f587b64",
        "colab": {
          "base_uri": "https://localhost:8080/"
        }
      },
      "outputs": [
        {
          "output_type": "execute_result",
          "data": {
            "text/plain": [
              "[HumanMessage(content='Can you tell me what is 25 percent of current stock price of Apple?', metadata=None, type='human'),\n",
              " AIMessage(content='', metadata=None, type='ai', tool_calls=[ToolCall(name='get_stock_price', args={'ticker': 'AAPL'})]),\n",
              " ToolMessage(content='                         open      high       low     close    volume\\n2025-04-21 19:30:00  192.6900  194.0000  192.6100  194.0000     49735\\n2025-04-21 19:00:00  192.7500  192.8900  192.5600  192.7000      9030\\n2025-04-21 18:30:00  192.5200  193.1600  192.5200  192.8200     10958\\n2025-04-21 18:00:00  192.9700  230.1900  192.3000  192.5257     14864\\n2025-04-21 17:30:00  192.8200  192.9900  192.7000  192.8800      5636\\n2025-04-21 17:00:00  193.0800  202.4032  186.2630  192.7300     24167\\n2025-04-21 16:30:00  192.7000  201.7418  180.6242  193.0800    763612\\n2025-04-21 16:00:00  193.2100  193.4000  179.7725  192.6500  20125717\\n2025-04-21 15:30:00  191.0900  193.4300  191.0500  193.0900   5337997\\n2025-04-21 15:00:00  190.2700  191.3800  190.2400  191.1050   1904167\\n2025-04-21 14:30:00  190.8150  191.1400  190.1800  190.2700   1566352\\n2025-04-21 14:00:00  190.5100  190.9300  190.2400  190.8200   1297801\\n2025-04-21 13:30:00  190.5900  191.0200  190.2800  190.5100   1550369\\n2025-04-21 13:00:00  190.7650  190.9899  190.1300  190.6140   1778365\\n2025-04-21 12:30:00  191.1200  191.7500  190.6800  190.7650   1553464\\n2025-04-21 12:00:00  190.2400  191.3200  190.2300  191.1300   1551122\\n2025-04-21 11:30:00  190.7200  190.8300  189.8112  190.2500   2917793\\n2025-04-21 11:00:00  191.5000  191.9900  190.6050  190.7350   2238471\\n2025-04-21 10:30:00  192.1100  192.4900  191.2700  191.4950   2241881\\n2025-04-21 10:00:00  192.4500  193.3400  191.3600  192.1200   3410143\\n2025-04-21 09:30:00  193.2650  193.8000  192.3800  192.4995   4722888\\n2025-04-21 09:00:00  191.9499  197.1600  191.5200  193.3500    227281\\n2025-04-21 08:30:00  191.9600  213.1900  191.7000  191.9499     77377\\n2025-04-21 08:00:00  193.4200  196.9800  191.6500  192.0000    134566\\n2025-04-21 07:30:00  192.9800  192.9800  191.7100  191.9500     77046\\n2025-04-21 07:00:00  194.2100  194.5000  192.3000  192.8600     72546\\n2025-04-21 06:30:00  194.1800  194.5000  193.8800  194.2000     21256\\n2025-04-21 06:00:00  194.3800  194.5000  194.0700  194.1800     19574\\n2025-04-21 05:30:00  193.9400  194.4600  193.7900  194.3700     11896\\n2025-04-21 05:00:00  193.9400  194.2700  193.3600  193.8300     24634\\n2025-04-21 04:30:00  194.4800  194.7400  193.7200  194.0000     37867\\n2025-04-21 04:00:00  195.3200  195.9800  194.3000  194.4900     25660', metadata=None, type='tool'),\n",
              " AIMessage(content='', metadata=None, type='ai', tool_calls=[ToolCall(name='calculate_percentage', args={'stock_price': 194, 'percentage': 25})]),\n",
              " ToolMessage(content='48.5', metadata=None, type='tool'),\n",
              " AIMessage(content='25 percent of the current stock price of Apple (which is $194) is $48.50.', metadata=None, type='ai', tool_calls=[])]"
            ]
          },
          "metadata": {},
          "execution_count": 79
        }
      ],
      "source": [
        "ragas_trace  # List of Ragas messages"
      ]
    },
    {
      "cell_type": "markdown",
      "metadata": {
        "id": "n5mbTp5aZQv6"
      },
      "source": [
        "## Evaluating the Agent's Performance"
      ]
    },
    {
      "cell_type": "markdown",
      "metadata": {
        "id": "H885v5sxZQv6"
      },
      "source": [
        "For this tutorial, let us evaluate the Agent with the following metrics:\n",
        "\n",
        "- [Tool call Accuracy](https://docs.ragas.io/en/stable/concepts/metrics/available_metrics/agents/#tool-call-accuracy):ToolCallAccuracy is a metric that can be used to evaluate the performance of the LLM in identifying and calling the required tools to complete a given task.  \n",
        "\n",
        "- [Agent Goal accuracy](https://docs.ragas.io/en/stable/concepts/metrics/available_metrics/agents/#agent-goal-accuracy): Agent goal accuracy is a metric that can be used to evaluate the performance of the LLM in identifying and achieving the goals of the user. This is a binary metric, with 1 indicating that the AI has achieved the goal and 0 indicating that the AI has not achieved the goal.\n",
        "- [Topic Adherence](https://docs.ragas.io/en/stable/concepts/metrics/available_metrics/agents/): Topic adherence is a metric that can be used to ensure the Agent system is staying \"on-topic\", meaning that it's not straying from the intended use case. You can think of this as a kinda of faithfulness, where the responses of the LLM should stay faithful to the topic provided.\n",
        "\n",
        "\n",
        "First, let us actually run our Agent with a couple of queries, and make sure we have the ground truth labels for these queries."
      ]
    },
    {
      "cell_type": "markdown",
      "metadata": {
        "id": "7kRRIyTAZQv6"
      },
      "source": [
        "### Tool Call Accuracy"
      ]
    },
    {
      "cell_type": "code",
      "execution_count": null,
      "metadata": {
        "colab": {
          "base_uri": "https://localhost:8080/"
        },
        "id": "CC973Yq1ZQv6",
        "outputId": "3220e958-69c7-4619-e24e-072bb16f25b1"
      },
      "outputs": [
        {
          "output_type": "execute_result",
          "data": {
            "text/plain": [
              "1.0"
            ]
          },
          "metadata": {},
          "execution_count": 31
        }
      ],
      "source": [
        "from ragas.metrics import ToolCallAccuracy\n",
        "from ragas.dataset_schema import MultiTurnSample\n",
        "from ragas.integrations.langgraph import convert_to_ragas_messages\n",
        "import ragas.messages as r\n",
        "\n",
        "\n",
        "ragas_trace = convert_to_ragas_messages(\n",
        "    messages=result[\"messages\"]\n",
        ")  # List of Ragas messages converted using the Ragas function\n",
        "\n",
        "sample = MultiTurnSample(\n",
        "    user_input=ragas_trace,\n",
        "    reference_tool_calls=[\n",
        "        r.ToolCall(name=\"get_stock_price\", args={\"ticker\": \"AAPL\"}),\n",
        "        r.ToolCall(name=\"calculate_percentage\", args={\"percentage\": \"25\"})\n",
        "    ],\n",
        ")\n",
        "\n",
        "tool_accuracy_scorer = ToolCallAccuracy()\n",
        "tool_accuracy_scorer.llm = llm\n",
        "await tool_accuracy_scorer.multi_turn_ascore(sample)"
      ]
    },
    {
      "cell_type": "markdown",
      "metadata": {
        "id": "S14jlVw06hkx"
      },
      "source": [
        "Tool Call Accuracy: 1, because the LLM correctly identified and used the necessary tool (get_stock_price) with the correct parameters (i.e., ticker as \"AAPL\")."
      ]
    },
    {
      "cell_type": "markdown",
      "metadata": {
        "id": "rGOL1CBsZQv6"
      },
      "source": [
        "### Agent Goal Accuracy"
      ]
    },
    {
      "cell_type": "code",
      "execution_count": null,
      "metadata": {
        "id": "FA0kMvTfZQwB"
      },
      "outputs": [],
      "source": [
        "from langchain_core.messages import HumanMessage, SystemMessage\n",
        "\n",
        "messages = [\n",
        "    SystemMessage(\n",
        "        content=\"You are a stock price assistant. Fetch the company ticker and get stock details for the user.\"\n",
        "    ),\n",
        "    HumanMessage(\n",
        "        content=\"What is the current stock price of Nvidia?\"\n",
        "    )\n",
        "]\n",
        "\n",
        "result = react_graph.invoke({\"messages\": messages})"
      ]
    },
    {
      "cell_type": "code",
      "execution_count": null,
      "metadata": {
        "colab": {
          "base_uri": "https://localhost:8080/"
        },
        "id": "YJr4Hxn8ZQwB",
        "outputId": "dbdaa598-69b6-4b43-9795-9171b0f56f65"
      },
      "outputs": [
        {
          "output_type": "execute_result",
          "data": {
            "text/plain": [
              "[SystemMessage(content='You are a stock price assistant. Fetch the company ticker and get stock details for the user.', additional_kwargs={}, response_metadata={}, id='43bbe55b-1f41-4b2f-a8b8-95c368e8b06a'),\n",
              " HumanMessage(content='What is the current stock price of Nvidia?', additional_kwargs={}, response_metadata={}, id='52272421-de77-4a60-b29c-138730f906ab'),\n",
              " AIMessage(content='', additional_kwargs={'tool_calls': [{'id': 'call_3uCG84UfTSZr46tZyCtPGrt3', 'function': {'arguments': '{\"ticker\":\"NVDA\"}', 'name': 'get_stock_price'}, 'type': 'function'}], 'refusal': None}, response_metadata={'token_usage': {'completion_tokens': 17, 'prompt_tokens': 178, 'total_tokens': 195, 'completion_tokens_details': {'accepted_prediction_tokens': 0, 'audio_tokens': 0, 'reasoning_tokens': 0, 'rejected_prediction_tokens': 0}, 'prompt_tokens_details': {'audio_tokens': 0, 'cached_tokens': 0}}, 'model_name': 'gpt-4o-mini-2024-07-18', 'system_fingerprint': 'fp_0392822090', 'id': 'chatcmpl-BP9ZT0xMZZEc2KvVjYQBvGguReFso', 'finish_reason': 'tool_calls', 'logprobs': None}, id='run-f99fab64-c085-4a40-89bc-fd006fea66f4-0', tool_calls=[{'name': 'get_stock_price', 'args': {'ticker': 'NVDA'}, 'id': 'call_3uCG84UfTSZr46tZyCtPGrt3', 'type': 'tool_call'}], usage_metadata={'input_tokens': 178, 'output_tokens': 17, 'total_tokens': 195, 'input_token_details': {'audio': 0, 'cache_read': 0}, 'output_token_details': {'audio': 0, 'reasoning': 0}}),\n",
              " ToolMessage(content='                        open      high      low    close    volume\\n2025-04-21 19:30:00  96.0300   96.6500  96.0110  96.6500    473582\\n2025-04-21 19:00:00  96.0500   96.1500  95.9900  96.0400    183861\\n2025-04-21 18:30:00  96.0495   96.9100  95.9800  96.0490    306603\\n2025-04-21 18:00:00  96.3400  108.6550  95.9000  96.0500    468974\\n2025-04-21 17:30:00  96.2795   96.9100  96.2500  96.3400   1669999\\n2025-04-21 17:00:00  96.2301  103.0794  89.6371  96.2600    359567\\n2025-04-21 16:30:00  96.6800  102.6930  90.3748  96.2399  10981234\\n2025-04-21 16:00:00  96.8000  100.1550  95.5250  96.6800  58801020\\n2025-04-21 15:30:00  95.6000   97.2000  95.6000  96.8000  28825311\\n2025-04-21 15:00:00  95.2950   99.1126  95.2050  95.6000  13929363\\n2025-04-21 14:30:00  95.5900   95.8099  95.1500  95.2950  10788690\\n2025-04-21 14:00:00  95.1700   95.6800  95.0400  95.5900  10734233\\n2025-04-21 13:30:00  95.3600   95.5880  95.0500  95.1650  10911308\\n2025-04-21 13:00:00  95.7150   95.8500  95.1500  95.3686  12829180\\n2025-04-21 12:30:00  95.8000   96.3900  95.6800  95.7119  11424631\\n2025-04-21 12:00:00  95.8300   96.2800  95.7600  95.8000  11171215\\n2025-04-21 11:30:00  95.8900   98.7800  95.7400  95.8374  12217095\\n2025-04-21 11:00:00  96.3650   98.7810  95.7701  95.8900  14286083\\n2025-04-21 10:30:00  95.8350   96.5000  95.6500  96.3650  18873029\\n2025-04-21 10:00:00  96.8400   98.7600  95.5700  95.8350  32059641\\n2025-04-21 09:30:00  98.7700   99.4400  96.8000  96.8400  42094878\\n2025-04-21 09:00:00  98.2400  110.1500  98.0700  98.7700   1287980\\n2025-04-21 08:30:00  98.3200   98.4794  98.1100  98.2499    675804\\n2025-04-21 08:00:00  97.9400  101.4900  97.6800  98.3100   2244449\\n2025-04-21 07:30:00  98.4300   98.5200  97.6700  97.9400    846926\\n2025-04-21 07:00:00  98.4800   99.6000  98.1400  98.4200   1204039\\n2025-04-21 06:30:00  97.8700   98.5100  97.6900  98.4700    510592\\n2025-04-21 06:00:00  99.0500   99.1600  97.8200  97.8800    874674\\n2025-04-21 05:30:00  99.2100   99.3300  98.9500  99.0500    296674\\n2025-04-21 05:00:00  99.3000   99.4400  98.7600  99.2100    460195\\n2025-04-21 04:30:00  99.5000   99.6800  99.1000  99.3000    246803\\n2025-04-21 04:00:00  99.9000  100.4900  99.0700  99.4900    667185', name='get_stock_price', id='18138624-14ef-4a60-b3c6-8759be1bcac3', tool_call_id='call_3uCG84UfTSZr46tZyCtPGrt3'),\n",
              " AIMessage(content='The current stock price of Nvidia (NVDA) is $96.65.', additional_kwargs={'refusal': None}, response_metadata={'token_usage': {'completion_tokens': 18, 'prompt_tokens': 1544, 'total_tokens': 1562, 'completion_tokens_details': {'accepted_prediction_tokens': 0, 'audio_tokens': 0, 'reasoning_tokens': 0, 'rejected_prediction_tokens': 0}, 'prompt_tokens_details': {'audio_tokens': 0, 'cached_tokens': 0}}, 'model_name': 'gpt-4o-mini-2024-07-18', 'system_fingerprint': 'fp_0392822090', 'id': 'chatcmpl-BP9ZVma9PtHTqKL57iHfOCtgDxqaI', 'finish_reason': 'stop', 'logprobs': None}, id='run-462eb131-4552-4c83-b012-8ec5236aaf70-0', usage_metadata={'input_tokens': 1544, 'output_tokens': 18, 'total_tokens': 1562, 'input_token_details': {'audio': 0, 'cache_read': 0}, 'output_token_details': {'audio': 0, 'reasoning': 0}})]"
            ]
          },
          "metadata": {},
          "execution_count": 33
        }
      ],
      "source": [
        "result[\"messages\"]  # List of Langchain messages"
      ]
    },
    {
      "cell_type": "code",
      "execution_count": null,
      "metadata": {
        "colab": {
          "base_uri": "https://localhost:8080/"
        },
        "id": "StDNqR2vZQwB",
        "outputId": "186294ec-e617-415e-963f-bf5d22fe2c4d"
      },
      "outputs": [
        {
          "output_type": "execute_result",
          "data": {
            "text/plain": [
              "[HumanMessage(content='What is the current stock price of Nvidia?', metadata=None, type='human'),\n",
              " AIMessage(content='', metadata=None, type='ai', tool_calls=[ToolCall(name='get_stock_price', args={'ticker': 'NVDA'})]),\n",
              " ToolMessage(content='                        open      high      low    close    volume\\n2025-04-21 19:30:00  96.0300   96.6500  96.0110  96.6500    473582\\n2025-04-21 19:00:00  96.0500   96.1500  95.9900  96.0400    183861\\n2025-04-21 18:30:00  96.0495   96.9100  95.9800  96.0490    306603\\n2025-04-21 18:00:00  96.3400  108.6550  95.9000  96.0500    468974\\n2025-04-21 17:30:00  96.2795   96.9100  96.2500  96.3400   1669999\\n2025-04-21 17:00:00  96.2301  103.0794  89.6371  96.2600    359567\\n2025-04-21 16:30:00  96.6800  102.6930  90.3748  96.2399  10981234\\n2025-04-21 16:00:00  96.8000  100.1550  95.5250  96.6800  58801020\\n2025-04-21 15:30:00  95.6000   97.2000  95.6000  96.8000  28825311\\n2025-04-21 15:00:00  95.2950   99.1126  95.2050  95.6000  13929363\\n2025-04-21 14:30:00  95.5900   95.8099  95.1500  95.2950  10788690\\n2025-04-21 14:00:00  95.1700   95.6800  95.0400  95.5900  10734233\\n2025-04-21 13:30:00  95.3600   95.5880  95.0500  95.1650  10911308\\n2025-04-21 13:00:00  95.7150   95.8500  95.1500  95.3686  12829180\\n2025-04-21 12:30:00  95.8000   96.3900  95.6800  95.7119  11424631\\n2025-04-21 12:00:00  95.8300   96.2800  95.7600  95.8000  11171215\\n2025-04-21 11:30:00  95.8900   98.7800  95.7400  95.8374  12217095\\n2025-04-21 11:00:00  96.3650   98.7810  95.7701  95.8900  14286083\\n2025-04-21 10:30:00  95.8350   96.5000  95.6500  96.3650  18873029\\n2025-04-21 10:00:00  96.8400   98.7600  95.5700  95.8350  32059641\\n2025-04-21 09:30:00  98.7700   99.4400  96.8000  96.8400  42094878\\n2025-04-21 09:00:00  98.2400  110.1500  98.0700  98.7700   1287980\\n2025-04-21 08:30:00  98.3200   98.4794  98.1100  98.2499    675804\\n2025-04-21 08:00:00  97.9400  101.4900  97.6800  98.3100   2244449\\n2025-04-21 07:30:00  98.4300   98.5200  97.6700  97.9400    846926\\n2025-04-21 07:00:00  98.4800   99.6000  98.1400  98.4200   1204039\\n2025-04-21 06:30:00  97.8700   98.5100  97.6900  98.4700    510592\\n2025-04-21 06:00:00  99.0500   99.1600  97.8200  97.8800    874674\\n2025-04-21 05:30:00  99.2100   99.3300  98.9500  99.0500    296674\\n2025-04-21 05:00:00  99.3000   99.4400  98.7600  99.2100    460195\\n2025-04-21 04:30:00  99.5000   99.6800  99.1000  99.3000    246803\\n2025-04-21 04:00:00  99.9000  100.4900  99.0700  99.4900    667185', metadata=None, type='tool'),\n",
              " AIMessage(content='The current stock price of Nvidia (NVDA) is $96.65.', metadata=None, type='ai', tool_calls=[])]"
            ]
          },
          "metadata": {},
          "execution_count": 34
        }
      ],
      "source": [
        "from ragas.integrations.langgraph import convert_to_ragas_messages\n",
        "\n",
        "ragas_trace = convert_to_ragas_messages(\n",
        "    result[\"messages\"]\n",
        ")  # List of Ragas messages converted using the Ragas function\n",
        "ragas_trace"
      ]
    },
    {
      "cell_type": "code",
      "execution_count": null,
      "metadata": {
        "colab": {
          "base_uri": "https://localhost:8080/"
        },
        "id": "c6u9-RYdZQwB",
        "outputId": "4cdab11b-3ebf-4424-f214-47951cf4b8f4"
      },
      "outputs": [
        {
          "output_type": "execute_result",
          "data": {
            "text/plain": [
              "1.0"
            ]
          },
          "metadata": {},
          "execution_count": 35
        }
      ],
      "source": [
        "from ragas.dataset_schema import MultiTurnSample\n",
        "from ragas.metrics import AgentGoalAccuracyWithReference\n",
        "from ragas.llms import LangchainLLMWrapper\n",
        "\n",
        "\n",
        "sample = MultiTurnSample(\n",
        "    user_input=ragas_trace,\n",
        "    reference=\"current stock price of Nvidia\",\n",
        ")\n",
        "\n",
        "scorer = AgentGoalAccuracyWithReference()\n",
        "\n",
        "evaluator_llm = LangchainLLMWrapper(llm)\n",
        "scorer.llm = evaluator_llm\n",
        "await scorer.multi_turn_ascore(sample)"
      ]
    },
    {
      "cell_type": "markdown",
      "metadata": {
        "id": "K71VkA7o6hk0"
      },
      "source": [
        "Agent Goal Accuracy: 1, because the LLM correctly achieved the user’s goal of retrieving the stock price of Nvidia Company."
      ]
    },
    {
      "cell_type": "markdown",
      "source": [
        "### Topic Adherence\n",
        "\n"
      ],
      "metadata": {
        "id": "N0fKvUqpDQVK"
      }
    },
    {
      "cell_type": "code",
      "source": [
        "messages = [HumanMessage(content=\"How fast can an eagle fly?\")]\n",
        "\n",
        "result = react_graph.invoke({\"messages\": messages})"
      ],
      "metadata": {
        "id": "4ouIaXBNDZgc"
      },
      "execution_count": null,
      "outputs": []
    },
    {
      "cell_type": "code",
      "source": [
        "result[\"messages\"]"
      ],
      "metadata": {
        "colab": {
          "base_uri": "https://localhost:8080/"
        },
        "id": "OBRGGNb4DyBa",
        "outputId": "f7281747-00b2-42c9-8d3b-7d70136ce022"
      },
      "execution_count": null,
      "outputs": [
        {
          "output_type": "execute_result",
          "data": {
            "text/plain": [
              "[HumanMessage(content='How fast can an eagle fly?', additional_kwargs={}, response_metadata={}, id='615c0483-fc83-49c5-880b-e35fc788dcca'),\n",
              " AIMessage(content='Eagles are known for their impressive flying abilities. The speed of an eagle can vary depending on the species and the circumstances. Generally, eagles can fly at speeds ranging from 30 to 50 miles per hour (48 to 80 kilometers per hour) during level flight. However, when diving to catch prey, some eagles can reach speeds of over 100 miles per hour (160 kilometers per hour). The golden eagle, for example, is known for its remarkable diving speed.', additional_kwargs={'refusal': None}, response_metadata={'token_usage': {'completion_tokens': 100, 'prompt_tokens': 157, 'total_tokens': 257, 'completion_tokens_details': {'accepted_prediction_tokens': 0, 'audio_tokens': 0, 'reasoning_tokens': 0, 'rejected_prediction_tokens': 0}, 'prompt_tokens_details': {'audio_tokens': 0, 'cached_tokens': 0}}, 'model_name': 'gpt-4o-mini-2024-07-18', 'system_fingerprint': 'fp_0392822090', 'id': 'chatcmpl-BP9a3jUOSCwXxKHnUAnq3s4x0H27m', 'finish_reason': 'stop', 'logprobs': None}, id='run-0affc86e-908b-4863-b03a-c2d73fe0bd5e-0', usage_metadata={'input_tokens': 157, 'output_tokens': 100, 'total_tokens': 257, 'input_token_details': {'audio': 0, 'cache_read': 0}, 'output_token_details': {'audio': 0, 'reasoning': 0}})]"
            ]
          },
          "metadata": {},
          "execution_count": 37
        }
      ]
    },
    {
      "cell_type": "code",
      "source": [
        "from ragas.integrations.langgraph import convert_to_ragas_messages\n",
        "\n",
        "ragas_trace = convert_to_ragas_messages(\n",
        "    result[\"messages\"]\n",
        ")  # List of Ragas messages converted using the Ragas function\n",
        "ragas_trace"
      ],
      "metadata": {
        "colab": {
          "base_uri": "https://localhost:8080/"
        },
        "id": "f3i7NIgjD8ec",
        "outputId": "97e99e51-17a1-4cce-a074-6f3909ca6610"
      },
      "execution_count": null,
      "outputs": [
        {
          "output_type": "execute_result",
          "data": {
            "text/plain": [
              "[HumanMessage(content='How fast can an eagle fly?', metadata=None, type='human'),\n",
              " AIMessage(content='Eagles are known for their impressive flying abilities. The speed of an eagle can vary depending on the species and the circumstances. Generally, eagles can fly at speeds ranging from 30 to 50 miles per hour (48 to 80 kilometers per hour) during level flight. However, when diving to catch prey, some eagles can reach speeds of over 100 miles per hour (160 kilometers per hour). The golden eagle, for example, is known for its remarkable diving speed.', metadata=None, type='ai', tool_calls=[])]"
            ]
          },
          "metadata": {},
          "execution_count": 38
        }
      ]
    },
    {
      "cell_type": "code",
      "source": [
        "from ragas.metrics import TopicAdherenceScore\n",
        "\n",
        "sample = MultiTurnSample(\n",
        "    user_input=ragas_trace,\n",
        "    reference_topics = [\"stocks\"]\n",
        ")\n",
        "\n",
        "evaluator_llm = LangchainLLMWrapper(llm)\n",
        "scorer = TopicAdherenceScore(llm = evaluator_llm, mode=\"precision\")\n",
        "await scorer.multi_turn_ascore(sample)"
      ],
      "metadata": {
        "colab": {
          "base_uri": "https://localhost:8080/"
        },
        "id": "iLTMVPaMDzal",
        "outputId": "b640d51d-9822-4ab3-c1e0-4717355d2d09"
      },
      "execution_count": null,
      "outputs": [
        {
          "output_type": "execute_result",
          "data": {
            "text/plain": [
              "np.float64(0.0)"
            ]
          },
          "metadata": {},
          "execution_count": 39
        }
      ]
    },
    {
      "cell_type": "markdown",
      "source": [
        "As we can see, the current implementation fails due to talking about birds, when it should be talking about stocks!"
      ],
      "metadata": {
        "id": "Ac2I2MZJEcK5"
      }
    }
  ],
  "metadata": {
    "colab": {
      "provenance": [],
      "collapsed_sections": [
        "K7iNPhN9_opo"
      ],
      "gpuType": "T4"
    },
    "kernelspec": {
      "display_name": "Python 3",
      "name": "python3"
    },
    "language_info": {
      "codemirror_mode": {
        "name": "ipython",
        "version": 3
      },
      "file_extension": ".py",
      "mimetype": "text/x-python",
      "name": "python",
      "nbconvert_exporter": "python",
      "pygments_lexer": "ipython3",
      "version": "3.11.9"
    },
    "accelerator": "GPU"
  },
  "nbformat": 4,
  "nbformat_minor": 0
}